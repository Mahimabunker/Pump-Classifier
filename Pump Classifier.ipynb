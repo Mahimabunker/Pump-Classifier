{
  "nbformat": 4,
  "nbformat_minor": 0,
  "metadata": {
    "colab": {
      "name": "Assignment2_EE769.ipynb",
      "provenance": [],
      "collapsed_sections": [],
      "toc_visible": true
    },
    "kernelspec": {
      "name": "python3",
      "display_name": "Python 3"
    }
  },
  "cells": [
    {
      "cell_type": "markdown",
      "metadata": {
        "id": "Z0hOlHAW5oNi"
      },
      "source": [
        "# 1.Data exploration and visualization with insightful commentary to determine potentially useful variables."
      ]
    },
    {
      "cell_type": "code",
      "metadata": {
        "id": "i9g-LhVYdIfu"
      },
      "source": [
        "# Importing Libraries\n",
        "import pandas as pd \n",
        "import numpy as np\n",
        "import matplotlib.pyplot as plt\n",
        "import seaborn as sns\n",
        "from tabulate import tabulate"
      ],
      "execution_count": null,
      "outputs": []
    },
    {
      "cell_type": "code",
      "metadata": {
        "colab": {
          "resources": {
            "http://localhost:8080/nbextensions/google.colab/files.js": {
              "data": "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",
              "ok": true,
              "headers": [
                [
                  "content-type",
                  "application/javascript"
                ]
              ],
              "status": 200,
              "status_text": ""
            }
          },
          "base_uri": "https://localhost:8080/",
          "height": 38
        },
        "id": "C1nl9c17eF3a",
        "outputId": "f7a7a956-12a7-46c4-de3b-dfdce3055d15"
      },
      "source": [
        "from google.colab import files\n",
        "uploaded = files.upload()"
      ],
      "execution_count": null,
      "outputs": [
        {
          "output_type": "display_data",
          "data": {
            "text/html": [
              "\n",
              "     <input type=\"file\" id=\"files-41640495-e16a-48de-8339-c621e638d073\" name=\"files[]\" multiple disabled\n",
              "        style=\"border:none\" />\n",
              "     <output id=\"result-41640495-e16a-48de-8339-c621e638d073\">\n",
              "      Upload widget is only available when the cell has been executed in the\n",
              "      current browser session. Please rerun this cell to enable.\n",
              "      </output>\n",
              "      <script src=\"/nbextensions/google.colab/files.js\"></script> "
            ],
            "text/plain": [
              "<IPython.core.display.HTML object>"
            ]
          },
          "metadata": {
            "tags": []
          }
        }
      ]
    },
    {
      "cell_type": "code",
      "metadata": {
        "colab": {
          "base_uri": "https://localhost:8080/",
          "height": 1000
        },
        "id": "J6mfPAMTgFBD",
        "outputId": "3a034edc-39bb-47a2-95ed-0db431b9efcb"
      },
      "source": [
        "# Reading the files\n",
        "train_df = pd.read_csv('Train.csv')\n",
        "display(train_df)\n",
        "test_df = pd.read_csv('test.csv')\n",
        "display(test_df)"
      ],
      "execution_count": null,
      "outputs": [
        {
          "output_type": "display_data",
          "data": {
            "text/html": [
              "<div>\n",
              "<style scoped>\n",
              "    .dataframe tbody tr th:only-of-type {\n",
              "        vertical-align: middle;\n",
              "    }\n",
              "\n",
              "    .dataframe tbody tr th {\n",
              "        vertical-align: top;\n",
              "    }\n",
              "\n",
              "    .dataframe thead th {\n",
              "        text-align: right;\n",
              "    }\n",
              "</style>\n",
              "<table border=\"1\" class=\"dataframe\">\n",
              "  <thead>\n",
              "    <tr style=\"text-align: right;\">\n",
              "      <th></th>\n",
              "      <th>id</th>\n",
              "      <th>amount_tsh</th>\n",
              "      <th>date_recorded</th>\n",
              "      <th>funder</th>\n",
              "      <th>gps_height</th>\n",
              "      <th>installer</th>\n",
              "      <th>longitude</th>\n",
              "      <th>latitude</th>\n",
              "      <th>wpt_name</th>\n",
              "      <th>num_private</th>\n",
              "      <th>basin</th>\n",
              "      <th>subvillage</th>\n",
              "      <th>region</th>\n",
              "      <th>region_code</th>\n",
              "      <th>district_code</th>\n",
              "      <th>lga</th>\n",
              "      <th>ward</th>\n",
              "      <th>population</th>\n",
              "      <th>public_meeting</th>\n",
              "      <th>recorded_by</th>\n",
              "      <th>scheme_management</th>\n",
              "      <th>scheme_name</th>\n",
              "      <th>permit</th>\n",
              "      <th>construction_year</th>\n",
              "      <th>extraction_type</th>\n",
              "      <th>extraction_type_group</th>\n",
              "      <th>extraction_type_class</th>\n",
              "      <th>management</th>\n",
              "      <th>management_group</th>\n",
              "      <th>payment</th>\n",
              "      <th>payment_type</th>\n",
              "      <th>water_quality</th>\n",
              "      <th>quality_group</th>\n",
              "      <th>quantity</th>\n",
              "      <th>quantity_group</th>\n",
              "      <th>source</th>\n",
              "      <th>source_type</th>\n",
              "      <th>source_class</th>\n",
              "      <th>waterpoint_type</th>\n",
              "      <th>waterpoint_type_group</th>\n",
              "      <th>status_group</th>\n",
              "    </tr>\n",
              "  </thead>\n",
              "  <tbody>\n",
              "    <tr>\n",
              "      <th>0</th>\n",
              "      <td>7411</td>\n",
              "      <td>7.0</td>\n",
              "      <td>2013-03-20</td>\n",
              "      <td>Germany Republi</td>\n",
              "      <td>1203</td>\n",
              "      <td>CES</td>\n",
              "      <td>37.228664</td>\n",
              "      <td>-3.256505</td>\n",
              "      <td>Kwa Abdalla</td>\n",
              "      <td>0</td>\n",
              "      <td>Pangani</td>\n",
              "      <td>Mafurini</td>\n",
              "      <td>Kilimanjaro</td>\n",
              "      <td>3</td>\n",
              "      <td>5</td>\n",
              "      <td>Hai</td>\n",
              "      <td>Machame Kaskazini</td>\n",
              "      <td>90</td>\n",
              "      <td>True</td>\n",
              "      <td>GeoData Consultants Ltd</td>\n",
              "      <td>Water Board</td>\n",
              "      <td>Machame water supply</td>\n",
              "      <td>True</td>\n",
              "      <td>2008</td>\n",
              "      <td>gravity</td>\n",
              "      <td>gravity</td>\n",
              "      <td>gravity</td>\n",
              "      <td>water board</td>\n",
              "      <td>user-group</td>\n",
              "      <td>pay per bucket</td>\n",
              "      <td>per bucket</td>\n",
              "      <td>soft</td>\n",
              "      <td>good</td>\n",
              "      <td>enough</td>\n",
              "      <td>enough</td>\n",
              "      <td>spring</td>\n",
              "      <td>spring</td>\n",
              "      <td>groundwater</td>\n",
              "      <td>communal standpipe</td>\n",
              "      <td>communal standpipe</td>\n",
              "      <td>functional</td>\n",
              "    </tr>\n",
              "    <tr>\n",
              "      <th>1</th>\n",
              "      <td>18014</td>\n",
              "      <td>0.0</td>\n",
              "      <td>2011-02-21</td>\n",
              "      <td>Cdtf</td>\n",
              "      <td>1409</td>\n",
              "      <td>CDTF</td>\n",
              "      <td>34.615481</td>\n",
              "      <td>-9.972601</td>\n",
              "      <td>none</td>\n",
              "      <td>0</td>\n",
              "      <td>Lake Nyasa</td>\n",
              "      <td>Ituni</td>\n",
              "      <td>Iringa</td>\n",
              "      <td>11</td>\n",
              "      <td>5</td>\n",
              "      <td>Ludewa</td>\n",
              "      <td>Luana</td>\n",
              "      <td>70</td>\n",
              "      <td>False</td>\n",
              "      <td>GeoData Consultants Ltd</td>\n",
              "      <td>Private operator</td>\n",
              "      <td>Mgowel</td>\n",
              "      <td>False</td>\n",
              "      <td>1984</td>\n",
              "      <td>gravity</td>\n",
              "      <td>gravity</td>\n",
              "      <td>gravity</td>\n",
              "      <td>private operator</td>\n",
              "      <td>commercial</td>\n",
              "      <td>never pay</td>\n",
              "      <td>never pay</td>\n",
              "      <td>soft</td>\n",
              "      <td>good</td>\n",
              "      <td>enough</td>\n",
              "      <td>enough</td>\n",
              "      <td>spring</td>\n",
              "      <td>spring</td>\n",
              "      <td>groundwater</td>\n",
              "      <td>communal standpipe</td>\n",
              "      <td>communal standpipe</td>\n",
              "      <td>functional</td>\n",
              "    </tr>\n",
              "    <tr>\n",
              "      <th>2</th>\n",
              "      <td>26103</td>\n",
              "      <td>0.0</td>\n",
              "      <td>2013-01-04</td>\n",
              "      <td>Government Of Tanzania</td>\n",
              "      <td>1572</td>\n",
              "      <td>DWE</td>\n",
              "      <td>36.658778</td>\n",
              "      <td>-3.321529</td>\n",
              "      <td>Kwa Loishiye</td>\n",
              "      <td>0</td>\n",
              "      <td>Pangani</td>\n",
              "      <td>Melebuki</td>\n",
              "      <td>Arusha</td>\n",
              "      <td>2</td>\n",
              "      <td>2</td>\n",
              "      <td>Arusha Rural</td>\n",
              "      <td>Kimnyaki</td>\n",
              "      <td>150</td>\n",
              "      <td>True</td>\n",
              "      <td>GeoData Consultants Ltd</td>\n",
              "      <td>VWC</td>\n",
              "      <td>Saitero olosaita pipe line</td>\n",
              "      <td>True</td>\n",
              "      <td>2002</td>\n",
              "      <td>gravity</td>\n",
              "      <td>gravity</td>\n",
              "      <td>gravity</td>\n",
              "      <td>vwc</td>\n",
              "      <td>user-group</td>\n",
              "      <td>never pay</td>\n",
              "      <td>never pay</td>\n",
              "      <td>soft</td>\n",
              "      <td>good</td>\n",
              "      <td>insufficient</td>\n",
              "      <td>insufficient</td>\n",
              "      <td>spring</td>\n",
              "      <td>spring</td>\n",
              "      <td>groundwater</td>\n",
              "      <td>communal standpipe</td>\n",
              "      <td>communal standpipe</td>\n",
              "      <td>non functional</td>\n",
              "    </tr>\n",
              "    <tr>\n",
              "      <th>3</th>\n",
              "      <td>31140</td>\n",
              "      <td>0.0</td>\n",
              "      <td>2011-04-03</td>\n",
              "      <td>District Council</td>\n",
              "      <td>0</td>\n",
              "      <td>District Council</td>\n",
              "      <td>33.628025</td>\n",
              "      <td>-8.860795</td>\n",
              "      <td>Mwanzechele</td>\n",
              "      <td>0</td>\n",
              "      <td>Rufiji</td>\n",
              "      <td>Darajani</td>\n",
              "      <td>Mbeya</td>\n",
              "      <td>12</td>\n",
              "      <td>2</td>\n",
              "      <td>Mbeya Rural</td>\n",
              "      <td>Inyala</td>\n",
              "      <td>0</td>\n",
              "      <td>True</td>\n",
              "      <td>GeoData Consultants Ltd</td>\n",
              "      <td>VWC</td>\n",
              "      <td>NaN</td>\n",
              "      <td>True</td>\n",
              "      <td>0</td>\n",
              "      <td>gravity</td>\n",
              "      <td>gravity</td>\n",
              "      <td>gravity</td>\n",
              "      <td>wug</td>\n",
              "      <td>user-group</td>\n",
              "      <td>pay annually</td>\n",
              "      <td>annually</td>\n",
              "      <td>soft</td>\n",
              "      <td>good</td>\n",
              "      <td>insufficient</td>\n",
              "      <td>insufficient</td>\n",
              "      <td>river</td>\n",
              "      <td>river/lake</td>\n",
              "      <td>surface</td>\n",
              "      <td>communal standpipe</td>\n",
              "      <td>communal standpipe</td>\n",
              "      <td>functional</td>\n",
              "    </tr>\n",
              "    <tr>\n",
              "      <th>4</th>\n",
              "      <td>12286</td>\n",
              "      <td>300.0</td>\n",
              "      <td>2013-03-08</td>\n",
              "      <td>District Council</td>\n",
              "      <td>1283</td>\n",
              "      <td>District Council</td>\n",
              "      <td>37.655509</td>\n",
              "      <td>-3.669777</td>\n",
              "      <td>Kwa Kidaya</td>\n",
              "      <td>0</td>\n",
              "      <td>Pangani</td>\n",
              "      <td>Mwira A</td>\n",
              "      <td>Kilimanjaro</td>\n",
              "      <td>3</td>\n",
              "      <td>2</td>\n",
              "      <td>Mwanga</td>\n",
              "      <td>Shinghatini</td>\n",
              "      <td>34</td>\n",
              "      <td>True</td>\n",
              "      <td>GeoData Consultants Ltd</td>\n",
              "      <td>VWC</td>\n",
              "      <td>Churu water supply</td>\n",
              "      <td>False</td>\n",
              "      <td>2007</td>\n",
              "      <td>gravity</td>\n",
              "      <td>gravity</td>\n",
              "      <td>gravity</td>\n",
              "      <td>vwc</td>\n",
              "      <td>user-group</td>\n",
              "      <td>pay monthly</td>\n",
              "      <td>monthly</td>\n",
              "      <td>soft</td>\n",
              "      <td>good</td>\n",
              "      <td>insufficient</td>\n",
              "      <td>insufficient</td>\n",
              "      <td>spring</td>\n",
              "      <td>spring</td>\n",
              "      <td>groundwater</td>\n",
              "      <td>communal standpipe</td>\n",
              "      <td>communal standpipe</td>\n",
              "      <td>functional</td>\n",
              "    </tr>\n",
              "    <tr>\n",
              "      <th>...</th>\n",
              "      <td>...</td>\n",
              "      <td>...</td>\n",
              "      <td>...</td>\n",
              "      <td>...</td>\n",
              "      <td>...</td>\n",
              "      <td>...</td>\n",
              "      <td>...</td>\n",
              "      <td>...</td>\n",
              "      <td>...</td>\n",
              "      <td>...</td>\n",
              "      <td>...</td>\n",
              "      <td>...</td>\n",
              "      <td>...</td>\n",
              "      <td>...</td>\n",
              "      <td>...</td>\n",
              "      <td>...</td>\n",
              "      <td>...</td>\n",
              "      <td>...</td>\n",
              "      <td>...</td>\n",
              "      <td>...</td>\n",
              "      <td>...</td>\n",
              "      <td>...</td>\n",
              "      <td>...</td>\n",
              "      <td>...</td>\n",
              "      <td>...</td>\n",
              "      <td>...</td>\n",
              "      <td>...</td>\n",
              "      <td>...</td>\n",
              "      <td>...</td>\n",
              "      <td>...</td>\n",
              "      <td>...</td>\n",
              "      <td>...</td>\n",
              "      <td>...</td>\n",
              "      <td>...</td>\n",
              "      <td>...</td>\n",
              "      <td>...</td>\n",
              "      <td>...</td>\n",
              "      <td>...</td>\n",
              "      <td>...</td>\n",
              "      <td>...</td>\n",
              "      <td>...</td>\n",
              "    </tr>\n",
              "    <tr>\n",
              "      <th>44545</th>\n",
              "      <td>43878</td>\n",
              "      <td>0.0</td>\n",
              "      <td>2013-01-23</td>\n",
              "      <td>World Vision</td>\n",
              "      <td>0</td>\n",
              "      <td>TAWASA</td>\n",
              "      <td>32.383715</td>\n",
              "      <td>-3.457624</td>\n",
              "      <td>Imalabuluhi</td>\n",
              "      <td>0</td>\n",
              "      <td>Lake Tanganyika</td>\n",
              "      <td>Bukenge</td>\n",
              "      <td>Shinyanga</td>\n",
              "      <td>17</td>\n",
              "      <td>3</td>\n",
              "      <td>Kahama</td>\n",
              "      <td>Segese</td>\n",
              "      <td>0</td>\n",
              "      <td>True</td>\n",
              "      <td>GeoData Consultants Ltd</td>\n",
              "      <td>NaN</td>\n",
              "      <td>NaN</td>\n",
              "      <td>True</td>\n",
              "      <td>0</td>\n",
              "      <td>nira/tanira</td>\n",
              "      <td>nira/tanira</td>\n",
              "      <td>handpump</td>\n",
              "      <td>wug</td>\n",
              "      <td>user-group</td>\n",
              "      <td>unknown</td>\n",
              "      <td>unknown</td>\n",
              "      <td>milky</td>\n",
              "      <td>milky</td>\n",
              "      <td>enough</td>\n",
              "      <td>enough</td>\n",
              "      <td>shallow well</td>\n",
              "      <td>shallow well</td>\n",
              "      <td>groundwater</td>\n",
              "      <td>hand pump</td>\n",
              "      <td>hand pump</td>\n",
              "      <td>functional</td>\n",
              "    </tr>\n",
              "    <tr>\n",
              "      <th>44546</th>\n",
              "      <td>50718</td>\n",
              "      <td>0.0</td>\n",
              "      <td>2011-07-25</td>\n",
              "      <td>Ded</td>\n",
              "      <td>0</td>\n",
              "      <td>DED</td>\n",
              "      <td>31.615509</td>\n",
              "      <td>-2.738682</td>\n",
              "      <td>Ilyamchele Center</td>\n",
              "      <td>0</td>\n",
              "      <td>Lake Victoria</td>\n",
              "      <td>Ilyamchele Center</td>\n",
              "      <td>Kagera</td>\n",
              "      <td>18</td>\n",
              "      <td>8</td>\n",
              "      <td>Chato</td>\n",
              "      <td>Katende</td>\n",
              "      <td>0</td>\n",
              "      <td>True</td>\n",
              "      <td>GeoData Consultants Ltd</td>\n",
              "      <td>WUA</td>\n",
              "      <td>NaN</td>\n",
              "      <td>True</td>\n",
              "      <td>0</td>\n",
              "      <td>afridev</td>\n",
              "      <td>afridev</td>\n",
              "      <td>handpump</td>\n",
              "      <td>wua</td>\n",
              "      <td>user-group</td>\n",
              "      <td>pay monthly</td>\n",
              "      <td>monthly</td>\n",
              "      <td>soft</td>\n",
              "      <td>good</td>\n",
              "      <td>enough</td>\n",
              "      <td>enough</td>\n",
              "      <td>hand dtw</td>\n",
              "      <td>borehole</td>\n",
              "      <td>groundwater</td>\n",
              "      <td>hand pump</td>\n",
              "      <td>hand pump</td>\n",
              "      <td>non functional</td>\n",
              "    </tr>\n",
              "    <tr>\n",
              "      <th>44547</th>\n",
              "      <td>67177</td>\n",
              "      <td>0.0</td>\n",
              "      <td>2013-02-23</td>\n",
              "      <td>Government Of Tanzania</td>\n",
              "      <td>969</td>\n",
              "      <td>Government</td>\n",
              "      <td>35.134412</td>\n",
              "      <td>-10.676062</td>\n",
              "      <td>Kwa Mzee Maondo</td>\n",
              "      <td>0</td>\n",
              "      <td>Ruvuma / Southern Coast</td>\n",
              "      <td>Masango</td>\n",
              "      <td>Ruvuma</td>\n",
              "      <td>10</td>\n",
              "      <td>3</td>\n",
              "      <td>Mbinga</td>\n",
              "      <td>Kigonsera</td>\n",
              "      <td>60</td>\n",
              "      <td>NaN</td>\n",
              "      <td>GeoData Consultants Ltd</td>\n",
              "      <td>VWC</td>\n",
              "      <td>Government</td>\n",
              "      <td>NaN</td>\n",
              "      <td>1977</td>\n",
              "      <td>gravity</td>\n",
              "      <td>gravity</td>\n",
              "      <td>gravity</td>\n",
              "      <td>vwc</td>\n",
              "      <td>user-group</td>\n",
              "      <td>unknown</td>\n",
              "      <td>unknown</td>\n",
              "      <td>soft</td>\n",
              "      <td>good</td>\n",
              "      <td>seasonal</td>\n",
              "      <td>seasonal</td>\n",
              "      <td>spring</td>\n",
              "      <td>spring</td>\n",
              "      <td>groundwater</td>\n",
              "      <td>communal standpipe</td>\n",
              "      <td>communal standpipe</td>\n",
              "      <td>functional</td>\n",
              "    </tr>\n",
              "    <tr>\n",
              "      <th>44548</th>\n",
              "      <td>2744</td>\n",
              "      <td>200.0</td>\n",
              "      <td>2013-03-26</td>\n",
              "      <td>Adra</td>\n",
              "      <td>1269</td>\n",
              "      <td>ADRA/Government</td>\n",
              "      <td>37.886287</td>\n",
              "      <td>-4.390882</td>\n",
              "      <td>Miembeni</td>\n",
              "      <td>0</td>\n",
              "      <td>Pangani</td>\n",
              "      <td>Mng'Ende</td>\n",
              "      <td>Kilimanjaro</td>\n",
              "      <td>3</td>\n",
              "      <td>3</td>\n",
              "      <td>Same</td>\n",
              "      <td>Suji</td>\n",
              "      <td>80</td>\n",
              "      <td>True</td>\n",
              "      <td>GeoData Consultants Ltd</td>\n",
              "      <td>Water authority</td>\n",
              "      <td>Kiumba water supply</td>\n",
              "      <td>True</td>\n",
              "      <td>2011</td>\n",
              "      <td>gravity</td>\n",
              "      <td>gravity</td>\n",
              "      <td>gravity</td>\n",
              "      <td>vwc</td>\n",
              "      <td>user-group</td>\n",
              "      <td>pay monthly</td>\n",
              "      <td>monthly</td>\n",
              "      <td>soft</td>\n",
              "      <td>good</td>\n",
              "      <td>insufficient</td>\n",
              "      <td>insufficient</td>\n",
              "      <td>spring</td>\n",
              "      <td>spring</td>\n",
              "      <td>groundwater</td>\n",
              "      <td>communal standpipe</td>\n",
              "      <td>communal standpipe</td>\n",
              "      <td>functional</td>\n",
              "    </tr>\n",
              "    <tr>\n",
              "      <th>44549</th>\n",
              "      <td>10262</td>\n",
              "      <td>0.0</td>\n",
              "      <td>2013-01-26</td>\n",
              "      <td>World Vision</td>\n",
              "      <td>0</td>\n",
              "      <td>Consulting Engineer</td>\n",
              "      <td>32.976560</td>\n",
              "      <td>-4.262149</td>\n",
              "      <td>Itunda A Mkwajuni</td>\n",
              "      <td>0</td>\n",
              "      <td>Lake Tanganyika</td>\n",
              "      <td>Itunda A</td>\n",
              "      <td>Tabora</td>\n",
              "      <td>14</td>\n",
              "      <td>1</td>\n",
              "      <td>Nzega</td>\n",
              "      <td>Karitu</td>\n",
              "      <td>0</td>\n",
              "      <td>True</td>\n",
              "      <td>GeoData Consultants Ltd</td>\n",
              "      <td>VWC</td>\n",
              "      <td>NaN</td>\n",
              "      <td>False</td>\n",
              "      <td>0</td>\n",
              "      <td>nira/tanira</td>\n",
              "      <td>nira/tanira</td>\n",
              "      <td>handpump</td>\n",
              "      <td>vwc</td>\n",
              "      <td>user-group</td>\n",
              "      <td>pay when scheme fails</td>\n",
              "      <td>on failure</td>\n",
              "      <td>soft</td>\n",
              "      <td>good</td>\n",
              "      <td>enough</td>\n",
              "      <td>enough</td>\n",
              "      <td>shallow well</td>\n",
              "      <td>shallow well</td>\n",
              "      <td>groundwater</td>\n",
              "      <td>hand pump</td>\n",
              "      <td>hand pump</td>\n",
              "      <td>functional</td>\n",
              "    </tr>\n",
              "  </tbody>\n",
              "</table>\n",
              "<p>44550 rows × 41 columns</p>\n",
              "</div>"
            ],
            "text/plain": [
              "          id  amount_tsh  ... waterpoint_type_group    status_group\n",
              "0       7411         7.0  ...    communal standpipe      functional\n",
              "1      18014         0.0  ...    communal standpipe      functional\n",
              "2      26103         0.0  ...    communal standpipe  non functional\n",
              "3      31140         0.0  ...    communal standpipe      functional\n",
              "4      12286       300.0  ...    communal standpipe      functional\n",
              "...      ...         ...  ...                   ...             ...\n",
              "44545  43878         0.0  ...             hand pump      functional\n",
              "44546  50718         0.0  ...             hand pump  non functional\n",
              "44547  67177         0.0  ...    communal standpipe      functional\n",
              "44548   2744       200.0  ...    communal standpipe      functional\n",
              "44549  10262         0.0  ...             hand pump      functional\n",
              "\n",
              "[44550 rows x 41 columns]"
            ]
          },
          "metadata": {
            "tags": []
          }
        },
        {
          "output_type": "display_data",
          "data": {
            "text/html": [
              "<div>\n",
              "<style scoped>\n",
              "    .dataframe tbody tr th:only-of-type {\n",
              "        vertical-align: middle;\n",
              "    }\n",
              "\n",
              "    .dataframe tbody tr th {\n",
              "        vertical-align: top;\n",
              "    }\n",
              "\n",
              "    .dataframe thead th {\n",
              "        text-align: right;\n",
              "    }\n",
              "</style>\n",
              "<table border=\"1\" class=\"dataframe\">\n",
              "  <thead>\n",
              "    <tr style=\"text-align: right;\">\n",
              "      <th></th>\n",
              "      <th>Unnamed: 0</th>\n",
              "      <th>id</th>\n",
              "      <th>amount_tsh</th>\n",
              "      <th>date_recorded</th>\n",
              "      <th>funder</th>\n",
              "      <th>gps_height</th>\n",
              "      <th>installer</th>\n",
              "      <th>longitude</th>\n",
              "      <th>latitude</th>\n",
              "      <th>wpt_name</th>\n",
              "      <th>num_private</th>\n",
              "      <th>basin</th>\n",
              "      <th>subvillage</th>\n",
              "      <th>region</th>\n",
              "      <th>region_code</th>\n",
              "      <th>district_code</th>\n",
              "      <th>lga</th>\n",
              "      <th>ward</th>\n",
              "      <th>population</th>\n",
              "      <th>public_meeting</th>\n",
              "      <th>recorded_by</th>\n",
              "      <th>scheme_management</th>\n",
              "      <th>scheme_name</th>\n",
              "      <th>permit</th>\n",
              "      <th>construction_year</th>\n",
              "      <th>extraction_type</th>\n",
              "      <th>extraction_type_group</th>\n",
              "      <th>extraction_type_class</th>\n",
              "      <th>management</th>\n",
              "      <th>management_group</th>\n",
              "      <th>payment</th>\n",
              "      <th>payment_type</th>\n",
              "      <th>water_quality</th>\n",
              "      <th>quality_group</th>\n",
              "      <th>quantity</th>\n",
              "      <th>quantity_group</th>\n",
              "      <th>source</th>\n",
              "      <th>source_type</th>\n",
              "      <th>source_class</th>\n",
              "      <th>waterpoint_type</th>\n",
              "      <th>waterpoint_type_group</th>\n",
              "    </tr>\n",
              "  </thead>\n",
              "  <tbody>\n",
              "    <tr>\n",
              "      <th>0</th>\n",
              "      <td>0</td>\n",
              "      <td>21215</td>\n",
              "      <td>0.0</td>\n",
              "      <td>2011-02-25</td>\n",
              "      <td>Kuamu</td>\n",
              "      <td>1676</td>\n",
              "      <td>Kuamu</td>\n",
              "      <td>35.247289</td>\n",
              "      <td>-8.113243</td>\n",
              "      <td>none</td>\n",
              "      <td>0</td>\n",
              "      <td>Rufiji</td>\n",
              "      <td>Mahanzi</td>\n",
              "      <td>Iringa</td>\n",
              "      <td>11</td>\n",
              "      <td>1</td>\n",
              "      <td>Iringa Rural</td>\n",
              "      <td>Wasa</td>\n",
              "      <td>769</td>\n",
              "      <td>True</td>\n",
              "      <td>GeoData Consultants Ltd</td>\n",
              "      <td>VWC</td>\n",
              "      <td>Wasa</td>\n",
              "      <td>True</td>\n",
              "      <td>2004</td>\n",
              "      <td>gravity</td>\n",
              "      <td>gravity</td>\n",
              "      <td>gravity</td>\n",
              "      <td>vwc</td>\n",
              "      <td>user-group</td>\n",
              "      <td>never pay</td>\n",
              "      <td>never pay</td>\n",
              "      <td>soft</td>\n",
              "      <td>good</td>\n",
              "      <td>dry</td>\n",
              "      <td>dry</td>\n",
              "      <td>spring</td>\n",
              "      <td>spring</td>\n",
              "      <td>groundwater</td>\n",
              "      <td>communal standpipe</td>\n",
              "      <td>communal standpipe</td>\n",
              "    </tr>\n",
              "    <tr>\n",
              "      <th>1</th>\n",
              "      <td>1</td>\n",
              "      <td>25893</td>\n",
              "      <td>0.0</td>\n",
              "      <td>2011-04-17</td>\n",
              "      <td>Kirde</td>\n",
              "      <td>0</td>\n",
              "      <td>DWE</td>\n",
              "      <td>36.163435</td>\n",
              "      <td>-5.218454</td>\n",
              "      <td>Zahanati</td>\n",
              "      <td>0</td>\n",
              "      <td>Wami / Ruvu</td>\n",
              "      <td>Uzunguni</td>\n",
              "      <td>Dodoma</td>\n",
              "      <td>1</td>\n",
              "      <td>1</td>\n",
              "      <td>Kondoa</td>\n",
              "      <td>Chandama</td>\n",
              "      <td>0</td>\n",
              "      <td>True</td>\n",
              "      <td>GeoData Consultants Ltd</td>\n",
              "      <td>VWC</td>\n",
              "      <td>Soya</td>\n",
              "      <td>False</td>\n",
              "      <td>0</td>\n",
              "      <td>mono</td>\n",
              "      <td>mono</td>\n",
              "      <td>motorpump</td>\n",
              "      <td>vwc</td>\n",
              "      <td>user-group</td>\n",
              "      <td>never pay</td>\n",
              "      <td>never pay</td>\n",
              "      <td>soft</td>\n",
              "      <td>good</td>\n",
              "      <td>enough</td>\n",
              "      <td>enough</td>\n",
              "      <td>machine dbh</td>\n",
              "      <td>borehole</td>\n",
              "      <td>groundwater</td>\n",
              "      <td>communal standpipe</td>\n",
              "      <td>communal standpipe</td>\n",
              "    </tr>\n",
              "    <tr>\n",
              "      <th>2</th>\n",
              "      <td>2</td>\n",
              "      <td>15713</td>\n",
              "      <td>0.0</td>\n",
              "      <td>2011-03-27</td>\n",
              "      <td>Water</td>\n",
              "      <td>0</td>\n",
              "      <td>Gover</td>\n",
              "      <td>36.363337</td>\n",
              "      <td>-7.297600</td>\n",
              "      <td>Uganda</td>\n",
              "      <td>0</td>\n",
              "      <td>Rufiji</td>\n",
              "      <td>Uganda</td>\n",
              "      <td>Dodoma</td>\n",
              "      <td>1</td>\n",
              "      <td>1</td>\n",
              "      <td>Mpwapwa</td>\n",
              "      <td>Ipera</td>\n",
              "      <td>0</td>\n",
              "      <td>True</td>\n",
              "      <td>GeoData Consultants Ltd</td>\n",
              "      <td>VWC</td>\n",
              "      <td>NaN</td>\n",
              "      <td>True</td>\n",
              "      <td>0</td>\n",
              "      <td>nira/tanira</td>\n",
              "      <td>nira/tanira</td>\n",
              "      <td>handpump</td>\n",
              "      <td>vwc</td>\n",
              "      <td>user-group</td>\n",
              "      <td>never pay</td>\n",
              "      <td>never pay</td>\n",
              "      <td>soft</td>\n",
              "      <td>good</td>\n",
              "      <td>enough</td>\n",
              "      <td>enough</td>\n",
              "      <td>shallow well</td>\n",
              "      <td>shallow well</td>\n",
              "      <td>groundwater</td>\n",
              "      <td>hand pump</td>\n",
              "      <td>hand pump</td>\n",
              "    </tr>\n",
              "    <tr>\n",
              "      <th>3</th>\n",
              "      <td>3</td>\n",
              "      <td>17247</td>\n",
              "      <td>0.0</td>\n",
              "      <td>2011-07-14</td>\n",
              "      <td>Ka</td>\n",
              "      <td>0</td>\n",
              "      <td>KA</td>\n",
              "      <td>31.496315</td>\n",
              "      <td>-2.167140</td>\n",
              "      <td>Kakindo</td>\n",
              "      <td>0</td>\n",
              "      <td>Lake Victoria</td>\n",
              "      <td>Nyamilanda A</td>\n",
              "      <td>Kagera</td>\n",
              "      <td>18</td>\n",
              "      <td>3</td>\n",
              "      <td>Muleba</td>\n",
              "      <td>Kyebitembe</td>\n",
              "      <td>0</td>\n",
              "      <td>True</td>\n",
              "      <td>GeoData Consultants Ltd</td>\n",
              "      <td>VWC</td>\n",
              "      <td>NaN</td>\n",
              "      <td>True</td>\n",
              "      <td>0</td>\n",
              "      <td>other</td>\n",
              "      <td>other</td>\n",
              "      <td>other</td>\n",
              "      <td>vwc</td>\n",
              "      <td>user-group</td>\n",
              "      <td>never pay</td>\n",
              "      <td>never pay</td>\n",
              "      <td>soft</td>\n",
              "      <td>good</td>\n",
              "      <td>enough</td>\n",
              "      <td>enough</td>\n",
              "      <td>shallow well</td>\n",
              "      <td>shallow well</td>\n",
              "      <td>groundwater</td>\n",
              "      <td>hand pump</td>\n",
              "      <td>hand pump</td>\n",
              "    </tr>\n",
              "    <tr>\n",
              "      <th>4</th>\n",
              "      <td>4</td>\n",
              "      <td>1248</td>\n",
              "      <td>0.0</td>\n",
              "      <td>2011-07-31</td>\n",
              "      <td>World Vision</td>\n",
              "      <td>0</td>\n",
              "      <td>KYASHA ENTERPR</td>\n",
              "      <td>31.843905</td>\n",
              "      <td>-1.244841</td>\n",
              "      <td>Shule Ya Msingi Ibosa</td>\n",
              "      <td>0</td>\n",
              "      <td>Lake Victoria</td>\n",
              "      <td>Ibosa</td>\n",
              "      <td>Kagera</td>\n",
              "      <td>18</td>\n",
              "      <td>2</td>\n",
              "      <td>Bukoba Rural</td>\n",
              "      <td>Nyakato</td>\n",
              "      <td>0</td>\n",
              "      <td>True</td>\n",
              "      <td>GeoData Consultants Ltd</td>\n",
              "      <td>VWC</td>\n",
              "      <td>NaN</td>\n",
              "      <td>True</td>\n",
              "      <td>0</td>\n",
              "      <td>gravity</td>\n",
              "      <td>gravity</td>\n",
              "      <td>gravity</td>\n",
              "      <td>vwc</td>\n",
              "      <td>user-group</td>\n",
              "      <td>never pay</td>\n",
              "      <td>never pay</td>\n",
              "      <td>soft</td>\n",
              "      <td>good</td>\n",
              "      <td>insufficient</td>\n",
              "      <td>insufficient</td>\n",
              "      <td>rainwater harvesting</td>\n",
              "      <td>rainwater harvesting</td>\n",
              "      <td>surface</td>\n",
              "      <td>communal standpipe</td>\n",
              "      <td>communal standpipe</td>\n",
              "    </tr>\n",
              "    <tr>\n",
              "      <th>...</th>\n",
              "      <td>...</td>\n",
              "      <td>...</td>\n",
              "      <td>...</td>\n",
              "      <td>...</td>\n",
              "      <td>...</td>\n",
              "      <td>...</td>\n",
              "      <td>...</td>\n",
              "      <td>...</td>\n",
              "      <td>...</td>\n",
              "      <td>...</td>\n",
              "      <td>...</td>\n",
              "      <td>...</td>\n",
              "      <td>...</td>\n",
              "      <td>...</td>\n",
              "      <td>...</td>\n",
              "      <td>...</td>\n",
              "      <td>...</td>\n",
              "      <td>...</td>\n",
              "      <td>...</td>\n",
              "      <td>...</td>\n",
              "      <td>...</td>\n",
              "      <td>...</td>\n",
              "      <td>...</td>\n",
              "      <td>...</td>\n",
              "      <td>...</td>\n",
              "      <td>...</td>\n",
              "      <td>...</td>\n",
              "      <td>...</td>\n",
              "      <td>...</td>\n",
              "      <td>...</td>\n",
              "      <td>...</td>\n",
              "      <td>...</td>\n",
              "      <td>...</td>\n",
              "      <td>...</td>\n",
              "      <td>...</td>\n",
              "      <td>...</td>\n",
              "      <td>...</td>\n",
              "      <td>...</td>\n",
              "      <td>...</td>\n",
              "      <td>...</td>\n",
              "      <td>...</td>\n",
              "    </tr>\n",
              "    <tr>\n",
              "      <th>14845</th>\n",
              "      <td>14845</td>\n",
              "      <td>45291</td>\n",
              "      <td>1000.0</td>\n",
              "      <td>2011-03-10</td>\n",
              "      <td>Danida</td>\n",
              "      <td>1811</td>\n",
              "      <td>DANID</td>\n",
              "      <td>34.533405</td>\n",
              "      <td>-9.781788</td>\n",
              "      <td>none</td>\n",
              "      <td>0</td>\n",
              "      <td>Lake Nyasa</td>\n",
              "      <td>Ng'Alike</td>\n",
              "      <td>Iringa</td>\n",
              "      <td>11</td>\n",
              "      <td>5</td>\n",
              "      <td>Ludewa</td>\n",
              "      <td>Mlangali</td>\n",
              "      <td>45</td>\n",
              "      <td>True</td>\n",
              "      <td>GeoData Consultants Ltd</td>\n",
              "      <td>VWC</td>\n",
              "      <td>DANIDA</td>\n",
              "      <td>False</td>\n",
              "      <td>1988</td>\n",
              "      <td>gravity</td>\n",
              "      <td>gravity</td>\n",
              "      <td>gravity</td>\n",
              "      <td>vwc</td>\n",
              "      <td>user-group</td>\n",
              "      <td>pay annually</td>\n",
              "      <td>annually</td>\n",
              "      <td>soft</td>\n",
              "      <td>good</td>\n",
              "      <td>seasonal</td>\n",
              "      <td>seasonal</td>\n",
              "      <td>spring</td>\n",
              "      <td>spring</td>\n",
              "      <td>groundwater</td>\n",
              "      <td>communal standpipe</td>\n",
              "      <td>communal standpipe</td>\n",
              "    </tr>\n",
              "    <tr>\n",
              "      <th>14846</th>\n",
              "      <td>14846</td>\n",
              "      <td>54736</td>\n",
              "      <td>0.0</td>\n",
              "      <td>2011-03-18</td>\n",
              "      <td>Solidame</td>\n",
              "      <td>252</td>\n",
              "      <td>SOLIDAME</td>\n",
              "      <td>36.665856</td>\n",
              "      <td>-8.141162</td>\n",
              "      <td>Kwamadenge</td>\n",
              "      <td>0</td>\n",
              "      <td>Rufiji</td>\n",
              "      <td>Magoha</td>\n",
              "      <td>Morogoro</td>\n",
              "      <td>5</td>\n",
              "      <td>3</td>\n",
              "      <td>Kilombero</td>\n",
              "      <td>Lumemo</td>\n",
              "      <td>150</td>\n",
              "      <td>True</td>\n",
              "      <td>GeoData Consultants Ltd</td>\n",
              "      <td>NaN</td>\n",
              "      <td>NaN</td>\n",
              "      <td>True</td>\n",
              "      <td>2010</td>\n",
              "      <td>nira/tanira</td>\n",
              "      <td>nira/tanira</td>\n",
              "      <td>handpump</td>\n",
              "      <td>vwc</td>\n",
              "      <td>user-group</td>\n",
              "      <td>never pay</td>\n",
              "      <td>never pay</td>\n",
              "      <td>soft</td>\n",
              "      <td>good</td>\n",
              "      <td>insufficient</td>\n",
              "      <td>insufficient</td>\n",
              "      <td>shallow well</td>\n",
              "      <td>shallow well</td>\n",
              "      <td>groundwater</td>\n",
              "      <td>hand pump</td>\n",
              "      <td>hand pump</td>\n",
              "    </tr>\n",
              "    <tr>\n",
              "      <th>14847</th>\n",
              "      <td>14847</td>\n",
              "      <td>44238</td>\n",
              "      <td>0.0</td>\n",
              "      <td>2012-11-03</td>\n",
              "      <td>Government Of Tanzania</td>\n",
              "      <td>0</td>\n",
              "      <td>Central government</td>\n",
              "      <td>33.020305</td>\n",
              "      <td>-4.949560</td>\n",
              "      <td>Kwa Mzee Salum Chata</td>\n",
              "      <td>0</td>\n",
              "      <td>Lake Tanganyika</td>\n",
              "      <td>Simbo 2</td>\n",
              "      <td>Tabora</td>\n",
              "      <td>14</td>\n",
              "      <td>3</td>\n",
              "      <td>Uyui</td>\n",
              "      <td>Magiri</td>\n",
              "      <td>0</td>\n",
              "      <td>True</td>\n",
              "      <td>GeoData Consultants Ltd</td>\n",
              "      <td>VWC</td>\n",
              "      <td>Maguri water supply</td>\n",
              "      <td>True</td>\n",
              "      <td>0</td>\n",
              "      <td>other</td>\n",
              "      <td>other</td>\n",
              "      <td>other</td>\n",
              "      <td>vwc</td>\n",
              "      <td>user-group</td>\n",
              "      <td>never pay</td>\n",
              "      <td>never pay</td>\n",
              "      <td>soft</td>\n",
              "      <td>good</td>\n",
              "      <td>dry</td>\n",
              "      <td>dry</td>\n",
              "      <td>spring</td>\n",
              "      <td>spring</td>\n",
              "      <td>groundwater</td>\n",
              "      <td>communal standpipe multiple</td>\n",
              "      <td>communal standpipe</td>\n",
              "    </tr>\n",
              "    <tr>\n",
              "      <th>14848</th>\n",
              "      <td>14848</td>\n",
              "      <td>13229</td>\n",
              "      <td>0.0</td>\n",
              "      <td>2013-01-18</td>\n",
              "      <td>Tassaf I</td>\n",
              "      <td>1294</td>\n",
              "      <td>TASSAF</td>\n",
              "      <td>30.588892</td>\n",
              "      <td>-3.837622</td>\n",
              "      <td>Center</td>\n",
              "      <td>0</td>\n",
              "      <td>Lake Tanganyika</td>\n",
              "      <td>Maendeleo</td>\n",
              "      <td>Kigoma</td>\n",
              "      <td>16</td>\n",
              "      <td>1</td>\n",
              "      <td>Kibondo</td>\n",
              "      <td>Rugongowe</td>\n",
              "      <td>700</td>\n",
              "      <td>True</td>\n",
              "      <td>GeoData Consultants Ltd</td>\n",
              "      <td>VWC</td>\n",
              "      <td>Kichananga gravity water supply</td>\n",
              "      <td>False</td>\n",
              "      <td>2004</td>\n",
              "      <td>gravity</td>\n",
              "      <td>gravity</td>\n",
              "      <td>gravity</td>\n",
              "      <td>vwc</td>\n",
              "      <td>user-group</td>\n",
              "      <td>unknown</td>\n",
              "      <td>unknown</td>\n",
              "      <td>soft</td>\n",
              "      <td>good</td>\n",
              "      <td>enough</td>\n",
              "      <td>enough</td>\n",
              "      <td>spring</td>\n",
              "      <td>spring</td>\n",
              "      <td>groundwater</td>\n",
              "      <td>communal standpipe multiple</td>\n",
              "      <td>communal standpipe</td>\n",
              "    </tr>\n",
              "    <tr>\n",
              "      <th>14849</th>\n",
              "      <td>14849</td>\n",
              "      <td>70800</td>\n",
              "      <td>30.0</td>\n",
              "      <td>2011-02-23</td>\n",
              "      <td>Jaica</td>\n",
              "      <td>60</td>\n",
              "      <td>JAICA</td>\n",
              "      <td>39.330407</td>\n",
              "      <td>-7.039634</td>\n",
              "      <td>Kwa Jokoo</td>\n",
              "      <td>0</td>\n",
              "      <td>Wami / Ruvu</td>\n",
              "      <td>Kwa Jokoo</td>\n",
              "      <td>Pwani</td>\n",
              "      <td>60</td>\n",
              "      <td>43</td>\n",
              "      <td>Mkuranga</td>\n",
              "      <td>Vikindu</td>\n",
              "      <td>1</td>\n",
              "      <td>True</td>\n",
              "      <td>GeoData Consultants Ltd</td>\n",
              "      <td>VWC</td>\n",
              "      <td>Vianzi Water Supply</td>\n",
              "      <td>False</td>\n",
              "      <td>2010</td>\n",
              "      <td>submersible</td>\n",
              "      <td>submersible</td>\n",
              "      <td>submersible</td>\n",
              "      <td>vwc</td>\n",
              "      <td>user-group</td>\n",
              "      <td>pay per bucket</td>\n",
              "      <td>per bucket</td>\n",
              "      <td>soft</td>\n",
              "      <td>good</td>\n",
              "      <td>enough</td>\n",
              "      <td>enough</td>\n",
              "      <td>machine dbh</td>\n",
              "      <td>borehole</td>\n",
              "      <td>groundwater</td>\n",
              "      <td>communal standpipe</td>\n",
              "      <td>communal standpipe</td>\n",
              "    </tr>\n",
              "  </tbody>\n",
              "</table>\n",
              "<p>14850 rows × 41 columns</p>\n",
              "</div>"
            ],
            "text/plain": [
              "       Unnamed: 0     id  ...              waterpoint_type waterpoint_type_group\n",
              "0               0  21215  ...           communal standpipe    communal standpipe\n",
              "1               1  25893  ...           communal standpipe    communal standpipe\n",
              "2               2  15713  ...                    hand pump             hand pump\n",
              "3               3  17247  ...                    hand pump             hand pump\n",
              "4               4   1248  ...           communal standpipe    communal standpipe\n",
              "...           ...    ...  ...                          ...                   ...\n",
              "14845       14845  45291  ...           communal standpipe    communal standpipe\n",
              "14846       14846  54736  ...                    hand pump             hand pump\n",
              "14847       14847  44238  ...  communal standpipe multiple    communal standpipe\n",
              "14848       14848  13229  ...  communal standpipe multiple    communal standpipe\n",
              "14849       14849  70800  ...           communal standpipe    communal standpipe\n",
              "\n",
              "[14850 rows x 41 columns]"
            ]
          },
          "metadata": {
            "tags": []
          }
        }
      ]
    },
    {
      "cell_type": "markdown",
      "metadata": {
        "id": "vv_RsvqZ6IwE"
      },
      "source": [
        "In this step, we will perform the below operations to check what the data set comprises of. We will check the below things:\n",
        "\n",
        "1. Shape of the dataset\n",
        "2. Info of the dataset\n",
        "3. Data types of variables\n",
        "4. The range of the features\n",
        "5. If there are missing values/Nan values\n",
        "6. The unique values in the columns and their frequency\n",
        "7. What are the output labels, what information is given by each variable - categorical, numeric, location, date time."
      ]
    },
    {
      "cell_type": "code",
      "metadata": {
        "colab": {
          "base_uri": "https://localhost:8080/"
        },
        "id": "wqia8AOIglme",
        "outputId": "52c374a4-2b98-48c1-a30a-8e62d4416999"
      },
      "source": [
        "train_df.info()\n",
        "test_df.info()"
      ],
      "execution_count": null,
      "outputs": [
        {
          "output_type": "stream",
          "text": [
            "<class 'pandas.core.frame.DataFrame'>\n",
            "RangeIndex: 44550 entries, 0 to 44549\n",
            "Data columns (total 41 columns):\n",
            " #   Column                 Non-Null Count  Dtype  \n",
            "---  ------                 --------------  -----  \n",
            " 0   id                     44550 non-null  int64  \n",
            " 1   amount_tsh             44550 non-null  float64\n",
            " 2   date_recorded          44550 non-null  object \n",
            " 3   funder                 41757 non-null  object \n",
            " 4   gps_height             44550 non-null  int64  \n",
            " 5   installer              41743 non-null  object \n",
            " 6   longitude              44550 non-null  float64\n",
            " 7   latitude               44550 non-null  float64\n",
            " 8   wpt_name               44550 non-null  object \n",
            " 9   num_private            44550 non-null  int64  \n",
            " 10  basin                  44550 non-null  object \n",
            " 11  subvillage             44263 non-null  object \n",
            " 12  region                 44550 non-null  object \n",
            " 13  region_code            44550 non-null  int64  \n",
            " 14  district_code          44550 non-null  int64  \n",
            " 15  lga                    44550 non-null  object \n",
            " 16  ward                   44550 non-null  object \n",
            " 17  population             44550 non-null  int64  \n",
            " 18  public_meeting         42059 non-null  object \n",
            " 19  recorded_by            44550 non-null  object \n",
            " 20  scheme_management      41718 non-null  object \n",
            " 21  scheme_name            23440 non-null  object \n",
            " 22  permit                 42214 non-null  object \n",
            " 23  construction_year      44550 non-null  int64  \n",
            " 24  extraction_type        44550 non-null  object \n",
            " 25  extraction_type_group  44550 non-null  object \n",
            " 26  extraction_type_class  44550 non-null  object \n",
            " 27  management             44550 non-null  object \n",
            " 28  management_group       44550 non-null  object \n",
            " 29  payment                44550 non-null  object \n",
            " 30  payment_type           44550 non-null  object \n",
            " 31  water_quality          44550 non-null  object \n",
            " 32  quality_group          44550 non-null  object \n",
            " 33  quantity               44550 non-null  object \n",
            " 34  quantity_group         44550 non-null  object \n",
            " 35  source                 44550 non-null  object \n",
            " 36  source_type            44550 non-null  object \n",
            " 37  source_class           44550 non-null  object \n",
            " 38  waterpoint_type        44550 non-null  object \n",
            " 39  waterpoint_type_group  44550 non-null  object \n",
            " 40  status_group           44550 non-null  object \n",
            "dtypes: float64(3), int64(7), object(31)\n",
            "memory usage: 13.9+ MB\n",
            "<class 'pandas.core.frame.DataFrame'>\n",
            "RangeIndex: 14850 entries, 0 to 14849\n",
            "Data columns (total 41 columns):\n",
            " #   Column                 Non-Null Count  Dtype  \n",
            "---  ------                 --------------  -----  \n",
            " 0   Unnamed: 0             14850 non-null  int64  \n",
            " 1   id                     14850 non-null  int64  \n",
            " 2   amount_tsh             14850 non-null  float64\n",
            " 3   date_recorded          14850 non-null  object \n",
            " 4   funder                 14008 non-null  object \n",
            " 5   gps_height             14850 non-null  int64  \n",
            " 6   installer              14002 non-null  object \n",
            " 7   longitude              14850 non-null  float64\n",
            " 8   latitude               14850 non-null  float64\n",
            " 9   wpt_name               14850 non-null  object \n",
            " 10  num_private            14850 non-null  int64  \n",
            " 11  basin                  14850 non-null  object \n",
            " 12  subvillage             14766 non-null  object \n",
            " 13  region                 14850 non-null  object \n",
            " 14  region_code            14850 non-null  int64  \n",
            " 15  district_code          14850 non-null  int64  \n",
            " 16  lga                    14850 non-null  object \n",
            " 17  ward                   14850 non-null  object \n",
            " 18  population             14850 non-null  int64  \n",
            " 19  public_meeting         14007 non-null  object \n",
            " 20  recorded_by            14850 non-null  object \n",
            " 21  scheme_management      13805 non-null  object \n",
            " 22  scheme_name            7794 non-null   object \n",
            " 23  permit                 14130 non-null  object \n",
            " 24  construction_year      14850 non-null  int64  \n",
            " 25  extraction_type        14850 non-null  object \n",
            " 26  extraction_type_group  14850 non-null  object \n",
            " 27  extraction_type_class  14850 non-null  object \n",
            " 28  management             14850 non-null  object \n",
            " 29  management_group       14850 non-null  object \n",
            " 30  payment                14850 non-null  object \n",
            " 31  payment_type           14850 non-null  object \n",
            " 32  water_quality          14850 non-null  object \n",
            " 33  quality_group          14850 non-null  object \n",
            " 34  quantity               14850 non-null  object \n",
            " 35  quantity_group         14850 non-null  object \n",
            " 36  source                 14850 non-null  object \n",
            " 37  source_type            14850 non-null  object \n",
            " 38  source_class           14850 non-null  object \n",
            " 39  waterpoint_type        14850 non-null  object \n",
            " 40  waterpoint_type_group  14850 non-null  object \n",
            "dtypes: float64(3), int64(8), object(30)\n",
            "memory usage: 4.6+ MB\n"
          ],
          "name": "stdout"
        }
      ]
    },
    {
      "cell_type": "code",
      "metadata": {
        "colab": {
          "base_uri": "https://localhost:8080/"
        },
        "id": "TW8pXgzBg1EK",
        "outputId": "c45bb682-361d-4067-aeb5-a26723a55030"
      },
      "source": [
        "for col in train_df.columns.values:\n",
        "  list_vals = pd.unique(train_df[col])\n",
        "  print(col + ' is of type ' + str(train_df[col].dtypes) + ', has ' + str(len(list_vals)) + ' unique values and ' + str(np.sum(pd.isnull(train_df[col]))) + ' null entries')\n",
        "  if len(list_vals) < 10:\n",
        "    list_str = ''\n",
        "    for n_value in range(0, len(list_vals)):\n",
        "      list_str = list_str + str(list_vals[n_value]) + ', '\n",
        "    print(' These are: ' + list_str[0:len(list_str)-2])"
      ],
      "execution_count": null,
      "outputs": [
        {
          "output_type": "stream",
          "text": [
            "id is of type int64, has 44550 unique values and 0 null entries\n",
            "amount_tsh is of type float64, has 85 unique values and 0 null entries\n",
            "date_recorded is of type object, has 346 unique values and 0 null entries\n",
            "funder is of type object, has 1652 unique values and 2793 null entries\n",
            "gps_height is of type int64, has 2396 unique values and 0 null entries\n",
            "installer is of type object, has 1855 unique values and 2807 null entries\n",
            "longitude is of type float64, has 43155 unique values and 0 null entries\n",
            "latitude is of type float64, has 43155 unique values and 0 null entries\n",
            "wpt_name is of type object, has 28991 unique values and 0 null entries\n",
            "num_private is of type int64, has 59 unique values and 0 null entries\n",
            "basin is of type object, has 9 unique values and 0 null entries\n",
            " These are: Pangani, Lake Nyasa, Rufiji, Lake Tanganyika, Lake Victoria, Wami / Ruvu, Internal, Ruvuma / Southern Coast, Lake Rukwa\n",
            "subvillage is of type object, has 16618 unique values and 287 null entries\n",
            "region is of type object, has 21 unique values and 0 null entries\n",
            "region_code is of type int64, has 27 unique values and 0 null entries\n",
            "district_code is of type int64, has 20 unique values and 0 null entries\n",
            "lga is of type object, has 125 unique values and 0 null entries\n",
            "ward is of type object, has 2080 unique values and 0 null entries\n",
            "population is of type int64, has 956 unique values and 0 null entries\n",
            "public_meeting is of type object, has 3 unique values and 2491 null entries\n",
            " These are: True, False, nan\n",
            "recorded_by is of type object, has 1 unique values and 0 null entries\n",
            " These are: GeoData Consultants Ltd\n",
            "scheme_management is of type object, has 13 unique values and 2832 null entries\n",
            "scheme_name is of type object, has 2507 unique values and 21110 null entries\n",
            "permit is of type object, has 3 unique values and 2336 null entries\n",
            " These are: True, False, nan\n",
            "construction_year is of type int64, has 55 unique values and 0 null entries\n",
            "extraction_type is of type object, has 18 unique values and 0 null entries\n",
            "extraction_type_group is of type object, has 13 unique values and 0 null entries\n",
            "extraction_type_class is of type object, has 7 unique values and 0 null entries\n",
            " These are: gravity, handpump, motorpump, submersible, other, rope pump, wind-powered\n",
            "management is of type object, has 12 unique values and 0 null entries\n",
            "management_group is of type object, has 5 unique values and 0 null entries\n",
            " These are: user-group, commercial, parastatal, unknown, other\n",
            "payment is of type object, has 7 unique values and 0 null entries\n",
            " These are: pay per bucket, never pay, pay annually, pay monthly, unknown, pay when scheme fails, other\n",
            "payment_type is of type object, has 7 unique values and 0 null entries\n",
            " These are: per bucket, never pay, annually, monthly, unknown, on failure, other\n",
            "water_quality is of type object, has 8 unique values and 0 null entries\n",
            " These are: soft, salty abandoned, unknown, salty, fluoride, milky, coloured, fluoride abandoned\n",
            "quality_group is of type object, has 6 unique values and 0 null entries\n",
            " These are: good, salty, unknown, fluoride, milky, colored\n",
            "quantity is of type object, has 5 unique values and 0 null entries\n",
            " These are: enough, insufficient, dry, unknown, seasonal\n",
            "quantity_group is of type object, has 5 unique values and 0 null entries\n",
            " These are: enough, insufficient, dry, unknown, seasonal\n",
            "source is of type object, has 10 unique values and 0 null entries\n",
            "source_type is of type object, has 7 unique values and 0 null entries\n",
            " These are: spring, river/lake, shallow well, borehole, rainwater harvesting, dam, other\n",
            "source_class is of type object, has 3 unique values and 0 null entries\n",
            " These are: groundwater, surface, unknown\n",
            "waterpoint_type is of type object, has 7 unique values and 0 null entries\n",
            " These are: communal standpipe, hand pump, other, communal standpipe multiple, cattle trough, improved spring, dam\n",
            "waterpoint_type_group is of type object, has 6 unique values and 0 null entries\n",
            " These are: communal standpipe, hand pump, other, cattle trough, improved spring, dam\n",
            "status_group is of type object, has 3 unique values and 0 null entries\n",
            " These are: functional, non functional, functional needs repair\n"
          ],
          "name": "stdout"
        }
      ]
    },
    {
      "cell_type": "code",
      "metadata": {
        "colab": {
          "base_uri": "https://localhost:8080/"
        },
        "id": "hZRG9fPf62TT",
        "outputId": "8b93269f-3074-4d68-bb3b-ae47b41932fc"
      },
      "source": [
        "for col in test_df.columns.values:\n",
        "  list_vals = pd.unique(test_df[col])\n",
        "  print(col + ' is of type ' + str(test_df[col].dtypes) + ', has ' + str(len(list_vals)) + ' unique values and ' + str(np.sum(pd.isnull(test_df[col]))) + ' null entries')\n",
        "  if len(list_vals) < 10:\n",
        "    list_str = ''\n",
        "    for n_value in range(0, len(list_vals)):\n",
        "      list_str = list_str + str(list_vals[n_value]) + ', '\n",
        "    print(' These are: ' + list_str[0:len(list_str)-2])"
      ],
      "execution_count": null,
      "outputs": [
        {
          "output_type": "stream",
          "text": [
            "Unnamed: 0 is of type int64, has 14850 unique values and 0 null entries\n",
            "id is of type int64, has 14850 unique values and 0 null entries\n",
            "amount_tsh is of type float64, has 74 unique values and 0 null entries\n",
            "date_recorded is of type object, has 326 unique values and 0 null entries\n",
            "funder is of type object, has 948 unique values and 842 null entries\n",
            "gps_height is of type int64, has 2128 unique values and 0 null entries\n",
            "installer is of type object, has 1085 unique values and 848 null entries\n",
            "longitude is of type float64, has 14390 unique values and 0 null entries\n",
            "latitude is of type float64, has 14390 unique values and 0 null entries\n",
            "wpt_name is of type object, has 10708 unique values and 0 null entries\n",
            "num_private is of type int64, has 38 unique values and 0 null entries\n",
            "basin is of type object, has 9 unique values and 0 null entries\n",
            " These are: Rufiji, Wami / Ruvu, Lake Victoria, Lake Tanganyika, Internal, Ruvuma / Southern Coast, Pangani, Lake Nyasa, Lake Rukwa\n",
            "subvillage is of type object, has 8449 unique values and 84 null entries\n",
            "region is of type object, has 21 unique values and 0 null entries\n",
            "region_code is of type int64, has 26 unique values and 0 null entries\n",
            "district_code is of type int64, has 19 unique values and 0 null entries\n",
            "lga is of type object, has 124 unique values and 0 null entries\n",
            "ward is of type object, has 1942 unique values and 0 null entries\n",
            "population is of type int64, has 631 unique values and 0 null entries\n",
            "public_meeting is of type object, has 3 unique values and 843 null entries\n",
            " These are: True, False, nan\n",
            "recorded_by is of type object, has 1 unique values and 0 null entries\n",
            " These are: GeoData Consultants Ltd\n",
            "scheme_management is of type object, has 12 unique values and 1045 null entries\n",
            "scheme_name is of type object, has 1729 unique values and 7056 null entries\n",
            "permit is of type object, has 3 unique values and 720 null entries\n",
            " These are: True, False, nan\n",
            "construction_year is of type int64, has 55 unique values and 0 null entries\n",
            "extraction_type is of type object, has 17 unique values and 0 null entries\n",
            "extraction_type_group is of type object, has 13 unique values and 0 null entries\n",
            "extraction_type_class is of type object, has 7 unique values and 0 null entries\n",
            " These are: gravity, motorpump, handpump, other, submersible, rope pump, wind-powered\n",
            "management is of type object, has 12 unique values and 0 null entries\n",
            "management_group is of type object, has 5 unique values and 0 null entries\n",
            " These are: user-group, commercial, parastatal, other, unknown\n",
            "payment is of type object, has 7 unique values and 0 null entries\n",
            " These are: never pay, pay when scheme fails, pay per bucket, unknown, other, pay monthly, pay annually\n",
            "payment_type is of type object, has 7 unique values and 0 null entries\n",
            " These are: never pay, on failure, per bucket, unknown, other, monthly, annually\n",
            "water_quality is of type object, has 8 unique values and 0 null entries\n",
            " These are: soft, salty, coloured, milky, unknown, salty abandoned, fluoride, fluoride abandoned\n",
            "quality_group is of type object, has 6 unique values and 0 null entries\n",
            " These are: good, salty, colored, milky, unknown, fluoride\n",
            "quantity is of type object, has 5 unique values and 0 null entries\n",
            " These are: dry, enough, insufficient, seasonal, unknown\n",
            "quantity_group is of type object, has 5 unique values and 0 null entries\n",
            " These are: dry, enough, insufficient, seasonal, unknown\n",
            "source is of type object, has 10 unique values and 0 null entries\n",
            "source_type is of type object, has 7 unique values and 0 null entries\n",
            " These are: spring, borehole, shallow well, rainwater harvesting, river/lake, dam, other\n",
            "source_class is of type object, has 3 unique values and 0 null entries\n",
            " These are: groundwater, surface, unknown\n",
            "waterpoint_type is of type object, has 7 unique values and 0 null entries\n",
            " These are: communal standpipe, hand pump, other, communal standpipe multiple, improved spring, cattle trough, dam\n",
            "waterpoint_type_group is of type object, has 6 unique values and 0 null entries\n",
            " These are: communal standpipe, hand pump, other, improved spring, cattle trough, dam\n"
          ],
          "name": "stdout"
        }
      ]
    },
    {
      "cell_type": "code",
      "metadata": {
        "colab": {
          "base_uri": "https://localhost:8080/"
        },
        "id": "BECfeqyi7QcC",
        "outputId": "f9e2b9c1-2370-467e-f3c9-54ad4145e376"
      },
      "source": [
        "# Checking for null values in training dataset \n",
        "nullcols = []\n",
        "for col in train_df.columns:\n",
        "    nbnull = (train_df[col].isnull()*1).sum()\n",
        "    if ( nbnull > 0 ):\n",
        "        tp = type(train_df[train_df[col].notnull()][col].iat[0]) # type of first non null value\n",
        "        nullcols.append([col, tp])\n",
        "        print(col, nbnull, tp)"
      ],
      "execution_count": null,
      "outputs": [
        {
          "output_type": "stream",
          "text": [
            "funder 2793 <class 'str'>\n",
            "installer 2807 <class 'str'>\n",
            "subvillage 287 <class 'str'>\n",
            "public_meeting 2491 <class 'bool'>\n",
            "scheme_management 2832 <class 'str'>\n",
            "scheme_name 21110 <class 'str'>\n",
            "permit 2336 <class 'bool'>\n"
          ],
          "name": "stdout"
        }
      ]
    },
    {
      "cell_type": "code",
      "metadata": {
        "colab": {
          "base_uri": "https://localhost:8080/"
        },
        "id": "QZ7Sg40ICDY1",
        "outputId": "f1534bd8-53c7-445b-c5b5-f3e848749cee"
      },
      "source": [
        "# Checking for null values in testing dataset\n",
        "nullcols = []\n",
        "for col in test_df.columns:\n",
        "    nbnull = (test_df[col].isnull()*1).sum()\n",
        "    if ( nbnull > 0 ):\n",
        "        tp = type(test_df[test_df[col].notnull()][col].iat[0]) # type of first non null value\n",
        "        nullcols.append([col, tp])\n",
        "        print(col, nbnull, tp)"
      ],
      "execution_count": null,
      "outputs": [
        {
          "output_type": "stream",
          "text": [
            "funder 842 <class 'str'>\n",
            "installer 848 <class 'str'>\n",
            "subvillage 84 <class 'str'>\n",
            "public_meeting 843 <class 'bool'>\n",
            "scheme_management 1045 <class 'str'>\n",
            "scheme_name 7056 <class 'str'>\n",
            "permit 720 <class 'bool'>\n"
          ],
          "name": "stdout"
        }
      ]
    },
    {
      "cell_type": "code",
      "metadata": {
        "colab": {
          "base_uri": "https://localhost:8080/"
        },
        "id": "gOTtNXcCCPuL",
        "outputId": "64c01360-e897-4f7f-9af1-b251cf347424"
      },
      "source": [
        "pip install geopandas"
      ],
      "execution_count": null,
      "outputs": [
        {
          "output_type": "stream",
          "text": [
            "Requirement already satisfied: geopandas in /usr/local/lib/python3.7/dist-packages (0.9.0)\n",
            "Requirement already satisfied: pandas>=0.24.0 in /usr/local/lib/python3.7/dist-packages (from geopandas) (1.1.5)\n",
            "Requirement already satisfied: shapely>=1.6 in /usr/local/lib/python3.7/dist-packages (from geopandas) (1.7.1)\n",
            "Requirement already satisfied: pyproj>=2.2.0 in /usr/local/lib/python3.7/dist-packages (from geopandas) (3.0.1)\n",
            "Requirement already satisfied: fiona>=1.8 in /usr/local/lib/python3.7/dist-packages (from geopandas) (1.8.18)\n",
            "Requirement already satisfied: pytz>=2017.2 in /usr/local/lib/python3.7/dist-packages (from pandas>=0.24.0->geopandas) (2018.9)\n",
            "Requirement already satisfied: numpy>=1.15.4 in /usr/local/lib/python3.7/dist-packages (from pandas>=0.24.0->geopandas) (1.19.5)\n",
            "Requirement already satisfied: python-dateutil>=2.7.3 in /usr/local/lib/python3.7/dist-packages (from pandas>=0.24.0->geopandas) (2.8.1)\n",
            "Requirement already satisfied: certifi in /usr/local/lib/python3.7/dist-packages (from pyproj>=2.2.0->geopandas) (2020.12.5)\n",
            "Requirement already satisfied: munch in /usr/local/lib/python3.7/dist-packages (from fiona>=1.8->geopandas) (2.5.0)\n",
            "Requirement already satisfied: cligj>=0.5 in /usr/local/lib/python3.7/dist-packages (from fiona>=1.8->geopandas) (0.7.1)\n",
            "Requirement already satisfied: click-plugins>=1.0 in /usr/local/lib/python3.7/dist-packages (from fiona>=1.8->geopandas) (1.1.1)\n",
            "Requirement already satisfied: click<8,>=4.0 in /usr/local/lib/python3.7/dist-packages (from fiona>=1.8->geopandas) (7.1.2)\n",
            "Requirement already satisfied: attrs>=17 in /usr/local/lib/python3.7/dist-packages (from fiona>=1.8->geopandas) (20.3.0)\n",
            "Requirement already satisfied: six>=1.7 in /usr/local/lib/python3.7/dist-packages (from fiona>=1.8->geopandas) (1.15.0)\n"
          ],
          "name": "stdout"
        }
      ]
    },
    {
      "cell_type": "code",
      "metadata": {
        "colab": {
          "base_uri": "https://localhost:8080/",
          "height": 269
        },
        "id": "DtfH-JtDFYDc",
        "outputId": "59ad1a64-62bf-43f0-ab81-f5b939f9bb27"
      },
      "source": [
        "df = train_df   #For visualizing results storing the DataFrame \n",
        "\n",
        "import geopandas\n",
        "\n",
        "gdf = geopandas.GeoDataFrame(\n",
        "    df, geometry=geopandas.points_from_xy(df.longitude, df.latitude))\n",
        "\n",
        "functional = gdf.where(gdf['status_group'] == 'functional')\n",
        "repair = gdf.where(gdf['status_group'] == 'functional needs repair')\n",
        "broken = gdf.where(gdf['status_group'] == 'non functional')\n",
        "\n",
        "world = geopandas.read_file(geopandas.datasets.get_path('naturalearth_lowres'))\n",
        "\n",
        "# We restrict to Africa\n",
        "ax = world[world.continent == 'Africa'].plot(\n",
        "    color='white', edgecolor='gray')\n",
        "\n",
        "ax.scatter(broken['longitude'], broken['latitude'],\n",
        "           c='red', alpha=.5, s=1)\n",
        "\n",
        "ax.scatter(functional['longitude'], functional['latitude'],\n",
        "           c='green',alpha=.5, s=1)\n",
        "\n",
        "ax.scatter(repair['longitude'], repair['latitude'],\n",
        "           c='yellow', alpha=.5, s=1)\n",
        "\n",
        "\n",
        "\n",
        "plt.ylim(-12, 0)\n",
        "plt.xlim(28,41)\n",
        "\n",
        "plt.show()"
      ],
      "execution_count": null,
      "outputs": [
        {
          "output_type": "display_data",
          "data": {
            "image/png": "[encoded data removed]",
            "text/plain": [
              "<Figure size 432x288 with 1 Axes>"
            ]
          },
          "metadata": {
            "tags": [],
            "needs_background": "light"
          }
        }
      ]
    },
    {
      "cell_type": "markdown",
      "metadata": {
        "id": "AptOiZxL6vwb"
      },
      "source": [
        "# Important Observation"
      ]
    },
    {
      "cell_type": "markdown",
      "metadata": {
        "id": "2MY8OEr662KD"
      },
      "source": [
        "There are 44550 pumps, 41 columns\n",
        "\n",
        "Out of them 39 are features and the first column is the pump id with which we will associate the output prediction.\n",
        "\n",
        "### Labels :\n",
        "The labels are under the column \"status_group\" and are one of the three following values:\n",
        "\n",
        "--> functional - the waterpoint is operational and there are no repairs needed\n",
        "--> functional needs repair - the waterpoint is operational, but needs repairs\n",
        "--> non functional - the waterpoint is not operational\n",
        "It is a categorical labelled column\n",
        "\n",
        "### Categorical Features :\n",
        "We have the following categorical variables:\n",
        "\n",
        "* funder - Who funded the well, this has null values maybe all funders were not named.\n",
        "* installer - Organization that installed the well, this has null values\n",
        "* wpt_name - Name of the waterpoint if there is one\n",
        "* basin - Geographic water basin\n",
        "* subvillage - Geographic location, this has null values\n",
        "* region - Geographic location\n",
        "* recorded_by - Group entering this row of data, it seems to be same company (as it has only 1 unique value) so this column would be eliminated\n",
        "* public_meeting (True/False), this has null values\n",
        "* permit (True/False) - If the waterpoint is permitted, this has null values\n",
        "* scheme_management - Who operates the waterpoint, this has null values\n",
        "* scheme_name - Who operates the waterpoint, this has null values\n",
        "* extraction_type - The kind of extraction the waterpoint uses\n",
        "* extraction_type_group - The kind of extraction the waterpoint uses\n",
        "* extraction_type_class - The kind of extraction the waterpoint uses\n",
        "* management - How the waterpoint is managed\n",
        "* management_group - How the waterpoint is managed\n",
        "* payment - What the water costs\n",
        "* payment_type - What the water costs\n",
        "* water_quality - The quality of the water\n",
        "* quality_group - The quality of the water\n",
        "* waterpoint_type - The kind of waterpoint\n",
        "* waterpoint_type_group - The kind of waterpoint\n",
        "* source - The source of the water\n",
        "* source_type - The source of the water\n",
        "* source_class - The source of the water\n",
        "* quantity - The quantity of water (dry, enough, insufficient, seasonal, unknown)\n",
        "* quantity_group - The quantity of the water\n",
        "* lga - Geographic location\n",
        "* ward - Geographic location\n",
        "* date_recorded - The date the row was entered\n",
        "### Continuous Features:\n",
        "We have four quantitative features:\n",
        "\n",
        "* amount_tsh - Total static head (amount of water available to waterpoint)\n",
        "* gps_height - Altitude of the well\n",
        "* longitude - GPS coordinate\n",
        "* lattitude - GPS coordinate\n",
        "* num_private - no avaiable information (maybe can be eliminated)\n",
        "* region_code - Geographic location (coded)\n",
        "* district_code - Geographic location (coded)\n",
        "* population - Population around the well\n",
        "* construction_year- Year the waterpoint was constructed\n",
        "So we have\n",
        "\n",
        "1 column - id\n",
        "30 columns of categorical variables\n",
        "9 columns of continuous variables\n",
        "1 column - status_group - labels\n",
        "Hence 41 columns variables are mapped...\n",
        "\n",
        "Also it is seen that there are a number of features that are mapped to a \"_group\" column which lead to redundancies. So we can delete one of these columns for a particular type of feature."
      ]
    },
    {
      "cell_type": "markdown",
      "metadata": {
        "id": "XuX0GT0x9L5C"
      },
      "source": [
        "# 2. Variable transformation, feature engineering, feature selection or elimination."
      ]
    },
    {
      "cell_type": "markdown",
      "metadata": {
        "id": "jx8wlKCz9jHe"
      },
      "source": [
        "It has been observed that population, gps_height and amount_tsh data has many 0 values. However these variables can't have 0 value. That means data wasn't recorded for those indices. Therefore, we are replacing these values with NaN. Later we gonna replace NaN with mean or median data."
      ]
    },
    {
      "cell_type": "code",
      "metadata": {
        "colab": {
          "base_uri": "https://localhost:8080/"
        },
        "id": "9qbJDUHlFo8e",
        "outputId": "52614f24-66a7-40a3-941c-ee56320e94e8"
      },
      "source": [
        "# Replacing 0 with NaN\n",
        "train_df['gps_height'].replace(0.0, np.nan, inplace=True)\n",
        "train_df['population'].replace(0.0, np.nan, inplace=True)\n",
        "train_df['amount_tsh'].replace(0.0, np.nan, inplace=True)\n",
        "train_df.isnull().sum()"
      ],
      "execution_count": null,
      "outputs": [
        {
          "output_type": "execute_result",
          "data": {
            "text/plain": [
              "id                           0\n",
              "amount_tsh               31231\n",
              "date_recorded                0\n",
              "funder                    2793\n",
              "gps_height               15441\n",
              "installer                 2807\n",
              "longitude                    0\n",
              "latitude                     0\n",
              "wpt_name                     0\n",
              "num_private                  0\n",
              "basin                        0\n",
              "subvillage                 287\n",
              "region                       0\n",
              "region_code                  0\n",
              "district_code                0\n",
              "lga                          0\n",
              "ward                         0\n",
              "population               16150\n",
              "public_meeting            2491\n",
              "recorded_by                  0\n",
              "scheme_management         2832\n",
              "scheme_name              21110\n",
              "permit                    2336\n",
              "construction_year            0\n",
              "extraction_type              0\n",
              "extraction_type_group        0\n",
              "extraction_type_class        0\n",
              "management                   0\n",
              "management_group             0\n",
              "payment                      0\n",
              "payment_type                 0\n",
              "water_quality                0\n",
              "quality_group                0\n",
              "quantity                     0\n",
              "quantity_group               0\n",
              "source                       0\n",
              "source_type                  0\n",
              "source_class                 0\n",
              "waterpoint_type              0\n",
              "waterpoint_type_group        0\n",
              "status_group                 0\n",
              "geometry                     0\n",
              "dtype: int64"
            ]
          },
          "metadata": {
            "tags": []
          },
          "execution_count": 225
        }
      ]
    },
    {
      "cell_type": "code",
      "metadata": {
        "colab": {
          "base_uri": "https://localhost:8080/"
        },
        "id": "milOEncBFxMQ",
        "outputId": "bef16daa-a62f-46b9-af43-51b8aa680d65"
      },
      "source": [
        "test_df['gps_height'].replace(0.0, np.nan, inplace=True)\n",
        "test_df['population'].replace(0.0, np.nan, inplace=True)\n",
        "test_df['amount_tsh'].replace(0.0, np.nan, inplace=True)\n",
        "test_df.isnull().sum()"
      ],
      "execution_count": null,
      "outputs": [
        {
          "output_type": "execute_result",
          "data": {
            "text/plain": [
              "Unnamed: 0                   0\n",
              "id                           0\n",
              "amount_tsh               10408\n",
              "date_recorded                0\n",
              "funder                     842\n",
              "gps_height                4997\n",
              "installer                  848\n",
              "longitude                    0\n",
              "latitude                     0\n",
              "wpt_name                     0\n",
              "num_private                  0\n",
              "basin                        0\n",
              "subvillage                  84\n",
              "region                       0\n",
              "region_code                  0\n",
              "district_code                0\n",
              "lga                          0\n",
              "ward                         0\n",
              "population                5231\n",
              "public_meeting             843\n",
              "recorded_by                  0\n",
              "scheme_management         1045\n",
              "scheme_name               7056\n",
              "permit                     720\n",
              "construction_year            0\n",
              "extraction_type              0\n",
              "extraction_type_group        0\n",
              "extraction_type_class        0\n",
              "management                   0\n",
              "management_group             0\n",
              "payment                      0\n",
              "payment_type                 0\n",
              "water_quality                0\n",
              "quality_group                0\n",
              "quantity                     0\n",
              "quantity_group               0\n",
              "source                       0\n",
              "source_type                  0\n",
              "source_class                 0\n",
              "waterpoint_type              0\n",
              "waterpoint_type_group        0\n",
              "dtype: int64"
            ]
          },
          "metadata": {
            "tags": []
          },
          "execution_count": 226
        }
      ]
    },
    {
      "cell_type": "code",
      "metadata": {
        "colab": {
          "base_uri": "https://localhost:8080/"
        },
        "id": "nsm66i9HF3h5",
        "outputId": "3dfec486-5038-4590-be5c-fee20c8c9bd0"
      },
      "source": [
        "# Tranforming nan to mean and median data\n",
        "train_df[\"gps_height\"].fillna(train_df.groupby(['region', 'district_code'])[\"gps_height\"].transform(\"mean\"), inplace=True)\n",
        "train_df[\"gps_height\"].fillna(train_df.groupby(['region'])[\"gps_height\"].transform(\"mean\"), inplace=True)\n",
        "train_df[\"gps_height\"].fillna(train_df[\"gps_height\"].mean(), inplace=True)\n",
        "train_df[\"population\"].fillna(train_df.groupby(['region', 'district_code'])[\"population\"].transform(\"median\"), inplace=True)\n",
        "train_df[\"population\"].fillna(train_df.groupby(['region'])[\"population\"].transform(\"median\"), inplace=True)\n",
        "train_df[\"population\"].fillna(train_df[\"population\"].median(), inplace=True)\n",
        "train_df[\"amount_tsh\"].fillna(train_df.groupby(['region', 'district_code'])[\"amount_tsh\"].transform(\"median\"), inplace=True)\n",
        "train_df[\"amount_tsh\"].fillna(train_df.groupby(['region'])[\"amount_tsh\"].transform(\"median\"), inplace=True)\n",
        "train_df[\"amount_tsh\"].fillna(train_df[\"amount_tsh\"].median(), inplace=True)\n",
        "train_df.isnull().sum()"
      ],
      "execution_count": null,
      "outputs": [
        {
          "output_type": "execute_result",
          "data": {
            "text/plain": [
              "id                           0\n",
              "amount_tsh                   0\n",
              "date_recorded                0\n",
              "funder                    2793\n",
              "gps_height                   0\n",
              "installer                 2807\n",
              "longitude                    0\n",
              "latitude                     0\n",
              "wpt_name                     0\n",
              "num_private                  0\n",
              "basin                        0\n",
              "subvillage                 287\n",
              "region                       0\n",
              "region_code                  0\n",
              "district_code                0\n",
              "lga                          0\n",
              "ward                         0\n",
              "population                   0\n",
              "public_meeting            2491\n",
              "recorded_by                  0\n",
              "scheme_management         2832\n",
              "scheme_name              21110\n",
              "permit                    2336\n",
              "construction_year            0\n",
              "extraction_type              0\n",
              "extraction_type_group        0\n",
              "extraction_type_class        0\n",
              "management                   0\n",
              "management_group             0\n",
              "payment                      0\n",
              "payment_type                 0\n",
              "water_quality                0\n",
              "quality_group                0\n",
              "quantity                     0\n",
              "quantity_group               0\n",
              "source                       0\n",
              "source_type                  0\n",
              "source_class                 0\n",
              "waterpoint_type              0\n",
              "waterpoint_type_group        0\n",
              "status_group                 0\n",
              "geometry                     0\n",
              "dtype: int64"
            ]
          },
          "metadata": {
            "tags": []
          },
          "execution_count": 227
        }
      ]
    },
    {
      "cell_type": "code",
      "metadata": {
        "colab": {
          "base_uri": "https://localhost:8080/"
        },
        "id": "9qD791ZuW6Ng",
        "outputId": "ebbf6416-00dc-4117-a244-a88189587d3a"
      },
      "source": [
        "test_df[\"gps_height\"].fillna(test_df.groupby(['region', 'district_code'])[\"gps_height\"].transform(\"mean\"), inplace=True)\n",
        "test_df[\"gps_height\"].fillna(test_df.groupby(['region'])[\"gps_height\"].transform(\"mean\"), inplace=True)\n",
        "test_df[\"gps_height\"].fillna(test_df[\"gps_height\"].mean(), inplace=True)\n",
        "test_df[\"population\"].fillna(test_df.groupby(['region', 'district_code'])[\"population\"].transform(\"median\"), inplace=True)\n",
        "test_df[\"population\"].fillna(test_df.groupby(['region'])[\"population\"].transform(\"median\"), inplace=True)\n",
        "test_df[\"population\"].fillna(test_df[\"population\"].median(), inplace=True)\n",
        "test_df[\"amount_tsh\"].fillna(test_df.groupby(['region', 'district_code'])[\"amount_tsh\"].transform(\"median\"), inplace=True)\n",
        "test_df[\"amount_tsh\"].fillna(test_df.groupby(['region'])[\"amount_tsh\"].transform(\"median\"), inplace=True)\n",
        "test_df[\"amount_tsh\"].fillna(test_df[\"amount_tsh\"].median(), inplace=True)\n",
        "test_df.isnull().sum()"
      ],
      "execution_count": null,
      "outputs": [
        {
          "output_type": "execute_result",
          "data": {
            "text/plain": [
              "Unnamed: 0                  0\n",
              "id                          0\n",
              "amount_tsh                  0\n",
              "date_recorded               0\n",
              "funder                    842\n",
              "gps_height                  0\n",
              "installer                 848\n",
              "longitude                   0\n",
              "latitude                    0\n",
              "wpt_name                    0\n",
              "num_private                 0\n",
              "basin                       0\n",
              "subvillage                 84\n",
              "region                      0\n",
              "region_code                 0\n",
              "district_code               0\n",
              "lga                         0\n",
              "ward                        0\n",
              "population                  0\n",
              "public_meeting            843\n",
              "recorded_by                 0\n",
              "scheme_management        1045\n",
              "scheme_name              7056\n",
              "permit                    720\n",
              "construction_year           0\n",
              "extraction_type             0\n",
              "extraction_type_group       0\n",
              "extraction_type_class       0\n",
              "management                  0\n",
              "management_group            0\n",
              "payment                     0\n",
              "payment_type                0\n",
              "water_quality               0\n",
              "quality_group               0\n",
              "quantity                    0\n",
              "quantity_group              0\n",
              "source                      0\n",
              "source_type                 0\n",
              "source_class                0\n",
              "waterpoint_type             0\n",
              "waterpoint_type_group       0\n",
              "dtype: int64"
            ]
          },
          "metadata": {
            "tags": []
          },
          "execution_count": 228
        }
      ]
    },
    {
      "cell_type": "markdown",
      "metadata": {
        "id": "tqf3vGVd-_C5"
      },
      "source": [
        "**Checking for the range of latitude and longitude**"
      ]
    },
    {
      "cell_type": "code",
      "metadata": {
        "colab": {
          "base_uri": "https://localhost:8080/"
        },
        "id": "LPz792uUGIIj",
        "outputId": "3a380927-16b5-4be8-f188-805dac492d52"
      },
      "source": [
        "print(train_df.latitude.max()-train_df.latitude.min())\n",
        "print(train_df.longitude.max()-train_df.longitude.min())"
      ],
      "execution_count": null,
      "outputs": [
        {
          "output_type": "stream",
          "text": [
            "11.648377570000001\n",
            "40.34519307\n"
          ],
          "name": "stdout"
        }
      ]
    },
    {
      "cell_type": "code",
      "metadata": {
        "colab": {
          "base_uri": "https://localhost:8080/"
        },
        "id": "NkjpsROyGP-A",
        "outputId": "a69c5f41-86c2-45c3-b6f7-d9f7faa756c1"
      },
      "source": [
        "print(test_df.latitude.max()-test_df.latitude.min())\n",
        "print(test_df.longitude.max()-test_df.longitude.min())"
      ],
      "execution_count": null,
      "outputs": [
        {
          "output_type": "stream",
          "text": [
            "11.64944016\n",
            "40.34430089\n"
          ],
          "name": "stdout"
        }
      ]
    },
    {
      "cell_type": "markdown",
      "metadata": {
        "id": "Ur9MGzuF-8eP"
      },
      "source": [
        "**Observations**\n",
        "* We see that for both training and testing dataset range of latitude and longitude is almost same and hence both training and testing data set is taken from same region "
      ]
    },
    {
      "cell_type": "markdown",
      "metadata": {
        "id": "pWyTz7MH_kz3"
      },
      "source": [
        "**Transforming the numerical data**"
      ]
    },
    {
      "cell_type": "code",
      "metadata": {
        "id": "dpQCAo1EGVFP"
      },
      "source": [
        "from sklearn.preprocessing import MinMaxScaler"
      ],
      "execution_count": null,
      "outputs": []
    },
    {
      "cell_type": "code",
      "metadata": {
        "colab": {
          "base_uri": "https://localhost:8080/"
        },
        "id": "CuH7Uoq_GgZ3",
        "outputId": "b1f2cf4e-7adb-44ca-b189-66c1993c89f3"
      },
      "source": [
        "features=['amount_tsh', 'gps_height', 'population']\n",
        "scaler = MinMaxScaler(feature_range=(0,20))\n",
        "train_df[features] = scaler.fit_transform(train_df[features])\n",
        "train_df[features].head(20)\n",
        "train_df.isnull().sum()"
      ],
      "execution_count": null,
      "outputs": [
        {
          "output_type": "execute_result",
          "data": {
            "text/plain": [
              "id                           0\n",
              "amount_tsh                   0\n",
              "date_recorded                0\n",
              "funder                    2793\n",
              "gps_height                   0\n",
              "installer                 2807\n",
              "longitude                    0\n",
              "latitude                     0\n",
              "wpt_name                     0\n",
              "num_private                  0\n",
              "basin                        0\n",
              "subvillage                 287\n",
              "region                       0\n",
              "region_code                  0\n",
              "district_code                0\n",
              "lga                          0\n",
              "ward                         0\n",
              "population                   0\n",
              "public_meeting            2491\n",
              "recorded_by                  0\n",
              "scheme_management         2832\n",
              "scheme_name              21110\n",
              "permit                    2336\n",
              "construction_year            0\n",
              "extraction_type              0\n",
              "extraction_type_group        0\n",
              "extraction_type_class        0\n",
              "management                   0\n",
              "management_group             0\n",
              "payment                      0\n",
              "payment_type                 0\n",
              "water_quality                0\n",
              "quality_group                0\n",
              "quantity                     0\n",
              "quantity_group               0\n",
              "source                       0\n",
              "source_type                  0\n",
              "source_class                 0\n",
              "waterpoint_type              0\n",
              "waterpoint_type_group        0\n",
              "status_group                 0\n",
              "geometry                     0\n",
              "dtype: int64"
            ]
          },
          "metadata": {
            "tags": []
          },
          "execution_count": 232
        }
      ]
    },
    {
      "cell_type": "code",
      "metadata": {
        "colab": {
          "base_uri": "https://localhost:8080/"
        },
        "id": "HcyygXq-HWE5",
        "outputId": "b0b8e895-e146-41ea-f791-26cca610a767"
      },
      "source": [
        "features=['amount_tsh', 'gps_height', 'population']\n",
        "scaler = MinMaxScaler(feature_range=(0,20))\n",
        "test_df[features] = scaler.fit_transform(test_df[features])\n",
        "test_df[features].head(20)\n",
        "test_df.isnull().sum()"
      ],
      "execution_count": null,
      "outputs": [
        {
          "output_type": "execute_result",
          "data": {
            "text/plain": [
              "Unnamed: 0                  0\n",
              "id                          0\n",
              "amount_tsh                  0\n",
              "date_recorded               0\n",
              "funder                    842\n",
              "gps_height                  0\n",
              "installer                 848\n",
              "longitude                   0\n",
              "latitude                    0\n",
              "wpt_name                    0\n",
              "num_private                 0\n",
              "basin                       0\n",
              "subvillage                 84\n",
              "region                      0\n",
              "region_code                 0\n",
              "district_code               0\n",
              "lga                         0\n",
              "ward                        0\n",
              "population                  0\n",
              "public_meeting            843\n",
              "recorded_by                 0\n",
              "scheme_management        1045\n",
              "scheme_name              7056\n",
              "permit                    720\n",
              "construction_year           0\n",
              "extraction_type             0\n",
              "extraction_type_group       0\n",
              "extraction_type_class       0\n",
              "management                  0\n",
              "management_group            0\n",
              "payment                     0\n",
              "payment_type                0\n",
              "water_quality               0\n",
              "quality_group               0\n",
              "quantity                    0\n",
              "quantity_group              0\n",
              "source                      0\n",
              "source_type                 0\n",
              "source_class                0\n",
              "waterpoint_type             0\n",
              "waterpoint_type_group       0\n",
              "dtype: int64"
            ]
          },
          "metadata": {
            "tags": []
          },
          "execution_count": 233
        }
      ]
    },
    {
      "cell_type": "markdown",
      "metadata": {
        "id": "3cjWk6f4__r1"
      },
      "source": [
        "**Further Visualization**"
      ]
    },
    {
      "cell_type": "code",
      "metadata": {
        "colab": {
          "base_uri": "https://localhost:8080/",
          "height": 510
        },
        "id": "ffxgD0QSHc_x",
        "outputId": "ab88bf71-9b0f-4bac-8949-caeef4363e73"
      },
      "source": [
        "plt.figure(figsize=(13,6))\n",
        "sns.countplot(train_df.status_group, palette = 'Set3')\n",
        "train_df.status_group.value_counts()"
      ],
      "execution_count": null,
      "outputs": [
        {
          "output_type": "stream",
          "text": [
            "/usr/local/lib/python3.7/dist-packages/seaborn/_decorators.py:43: FutureWarning: Pass the following variable as a keyword arg: x. From version 0.12, the only valid positional argument will be `data`, and passing other arguments without an explicit keyword will result in an error or misinterpretation.\n",
            "  FutureWarning\n"
          ],
          "name": "stderr"
        },
        {
          "output_type": "execute_result",
          "data": {
            "text/plain": [
              "functional                 24194\n",
              "non functional             17118\n",
              "functional needs repair     3238\n",
              "Name: status_group, dtype: int64"
            ]
          },
          "metadata": {
            "tags": []
          },
          "execution_count": 234
        },
        {
          "output_type": "display_data",
          "data": {
            "image/png": "[encoded data removed]",
            "text/plain": [
              "<Figure size 936x432 with 1 Axes>"
            ]
          },
          "metadata": {
            "tags": [],
            "needs_background": "light"
          }
        }
      ]
    },
    {
      "cell_type": "code",
      "metadata": {
        "colab": {
          "base_uri": "https://localhost:8080/",
          "height": 508
        },
        "id": "ZPxY-BovI_z1",
        "outputId": "9bbbc866-60eb-4b35-b119-cdbadf72761f"
      },
      "source": [
        "plt.figure(figsize=(14,6))\n",
        "sns.countplot(data=train_df,x='water_quality',hue='status_group')\n",
        "plt.legend(bbox_to_anchor=(1.05, 1), loc=2, borderaxespad=0.)\n",
        "train_df.water_quality.value_counts()"
      ],
      "execution_count": null,
      "outputs": [
        {
          "output_type": "execute_result",
          "data": {
            "text/plain": [
              "soft                  38093\n",
              "salty                  3668\n",
              "unknown                1397\n",
              "milky                   606\n",
              "coloured                364\n",
              "salty abandoned         264\n",
              "fluoride                147\n",
              "fluoride abandoned       11\n",
              "Name: water_quality, dtype: int64"
            ]
          },
          "metadata": {
            "tags": []
          },
          "execution_count": 235
        },
        {
          "output_type": "display_data",
          "data": {
            "image/png": "[encoded data removed]",
            "text/plain": [
              "<Figure size 1008x432 with 1 Axes>"
            ]
          },
          "metadata": {
            "tags": [],
            "needs_background": "light"
          }
        }
      ]
    },
    {
      "cell_type": "code",
      "metadata": {
        "colab": {
          "base_uri": "https://localhost:8080/",
          "height": 393
        },
        "id": "jwmgQsyFJTuM",
        "outputId": "8ea7911d-3687-4c2d-fc7c-15b2f4bbf98e"
      },
      "source": [
        "plt.figure(figsize=(24, 9))\n",
        "\n",
        "sns.countplot(data=train_df,x='public_meeting',hue='status_group')"
      ],
      "execution_count": null,
      "outputs": [
        {
          "output_type": "execute_result",
          "data": {
            "text/plain": [
              "<matplotlib.axes._subplots.AxesSubplot at 0x7fe78d9470d0>"
            ]
          },
          "metadata": {
            "tags": []
          },
          "execution_count": 236
        },
        {
          "output_type": "display_data",
          "data": {
            "image/png": "[encoded data removed]",
            "text/plain": [
              "<Figure size 1728x648 with 1 Axes>"
            ]
          },
          "metadata": {
            "tags": [],
            "needs_background": "light"
          }
        }
      ]
    },
    {
      "cell_type": "code",
      "metadata": {
        "colab": {
          "base_uri": "https://localhost:8080/",
          "height": 395
        },
        "id": "m8sx1brUJs-7",
        "outputId": "ad054cf8-ecc6-4bef-c666-6b847c6b9c47"
      },
      "source": [
        "plt.figure(figsize=(24, 9))\n",
        "\n",
        "sns.countplot(data=train_df,x='source_type',hue='status_group')"
      ],
      "execution_count": null,
      "outputs": [
        {
          "output_type": "execute_result",
          "data": {
            "text/plain": [
              "<matplotlib.axes._subplots.AxesSubplot at 0x7fe78dc87990>"
            ]
          },
          "metadata": {
            "tags": []
          },
          "execution_count": 237
        },
        {
          "output_type": "display_data",
          "data": {
            "image/png": "[encoded data removed]",
            "text/plain": [
              "<Figure size 1728x648 with 1 Axes>"
            ]
          },
          "metadata": {
            "tags": [],
            "needs_background": "light"
          }
        }
      ]
    },
    {
      "cell_type": "markdown",
      "metadata": {
        "id": "tRTQMI9bAJEi"
      },
      "source": [
        "**We are Continuing the same approach for longitude and latitude which we did earier i.e. replacing 0 with NaN and later tranforming the NaN to mean and median.**"
      ]
    },
    {
      "cell_type": "code",
      "metadata": {
        "id": "choilF1dKCv8"
      },
      "source": [
        "train_df['longitude'].replace(0.0, np.nan, inplace=True)\n",
        "train_df['latitude'].replace(0.0, np.nan, inplace=True)\n",
        "train_df['construction_year'].replace(0.0, np.nan, inplace=True)"
      ],
      "execution_count": null,
      "outputs": []
    },
    {
      "cell_type": "code",
      "metadata": {
        "id": "3lvlkg5zKObi"
      },
      "source": [
        "test_df['longitude'].replace(0.0, np.nan, inplace=True)\n",
        "test_df['latitude'].replace(0.0, np.nan, inplace=True)\n",
        "test_df['construction_year'].replace(0.0, np.nan, inplace=True)"
      ],
      "execution_count": null,
      "outputs": []
    },
    {
      "cell_type": "code",
      "metadata": {
        "colab": {
          "base_uri": "https://localhost:8080/"
        },
        "id": "aBr9EJmbKP6P",
        "outputId": "bd904e85-d4ee-4734-ecb8-1f865da576c6"
      },
      "source": [
        "test_df.info()"
      ],
      "execution_count": null,
      "outputs": [
        {
          "output_type": "stream",
          "text": [
            "<class 'pandas.core.frame.DataFrame'>\n",
            "RangeIndex: 14850 entries, 0 to 14849\n",
            "Data columns (total 41 columns):\n",
            " #   Column                 Non-Null Count  Dtype  \n",
            "---  ------                 --------------  -----  \n",
            " 0   Unnamed: 0             14850 non-null  int64  \n",
            " 1   id                     14850 non-null  int64  \n",
            " 2   amount_tsh             14850 non-null  float64\n",
            " 3   date_recorded          14850 non-null  object \n",
            " 4   funder                 14008 non-null  object \n",
            " 5   gps_height             14850 non-null  float64\n",
            " 6   installer              14002 non-null  object \n",
            " 7   longitude              14392 non-null  float64\n",
            " 8   latitude               14850 non-null  float64\n",
            " 9   wpt_name               14850 non-null  object \n",
            " 10  num_private            14850 non-null  int64  \n",
            " 11  basin                  14850 non-null  object \n",
            " 12  subvillage             14766 non-null  object \n",
            " 13  region                 14850 non-null  object \n",
            " 14  region_code            14850 non-null  int64  \n",
            " 15  district_code          14850 non-null  int64  \n",
            " 16  lga                    14850 non-null  object \n",
            " 17  ward                   14850 non-null  object \n",
            " 18  population             14850 non-null  float64\n",
            " 19  public_meeting         14007 non-null  object \n",
            " 20  recorded_by            14850 non-null  object \n",
            " 21  scheme_management      13805 non-null  object \n",
            " 22  scheme_name            7794 non-null   object \n",
            " 23  permit                 14130 non-null  object \n",
            " 24  construction_year      9782 non-null   float64\n",
            " 25  extraction_type        14850 non-null  object \n",
            " 26  extraction_type_group  14850 non-null  object \n",
            " 27  extraction_type_class  14850 non-null  object \n",
            " 28  management             14850 non-null  object \n",
            " 29  management_group       14850 non-null  object \n",
            " 30  payment                14850 non-null  object \n",
            " 31  payment_type           14850 non-null  object \n",
            " 32  water_quality          14850 non-null  object \n",
            " 33  quality_group          14850 non-null  object \n",
            " 34  quantity               14850 non-null  object \n",
            " 35  quantity_group         14850 non-null  object \n",
            " 36  source                 14850 non-null  object \n",
            " 37  source_type            14850 non-null  object \n",
            " 38  source_class           14850 non-null  object \n",
            " 39  waterpoint_type        14850 non-null  object \n",
            " 40  waterpoint_type_group  14850 non-null  object \n",
            "dtypes: float64(6), int64(5), object(30)\n",
            "memory usage: 4.6+ MB\n"
          ],
          "name": "stdout"
        }
      ]
    },
    {
      "cell_type": "code",
      "metadata": {
        "colab": {
          "base_uri": "https://localhost:8080/"
        },
        "id": "PIANTK24Kkte",
        "outputId": "41dde9e8-7563-497a-8999-860c8cb14bba"
      },
      "source": [
        "print(train_df.isnull().sum())"
      ],
      "execution_count": null,
      "outputs": [
        {
          "output_type": "stream",
          "text": [
            "id                           0\n",
            "amount_tsh                   0\n",
            "date_recorded                0\n",
            "funder                    2793\n",
            "gps_height                   0\n",
            "installer                 2807\n",
            "longitude                 1354\n",
            "latitude                     0\n",
            "wpt_name                     0\n",
            "num_private                  0\n",
            "basin                        0\n",
            "subvillage                 287\n",
            "region                       0\n",
            "region_code                  0\n",
            "district_code                0\n",
            "lga                          0\n",
            "ward                         0\n",
            "population                   0\n",
            "public_meeting            2491\n",
            "recorded_by                  0\n",
            "scheme_management         2832\n",
            "scheme_name              21110\n",
            "permit                    2336\n",
            "construction_year        15641\n",
            "extraction_type              0\n",
            "extraction_type_group        0\n",
            "extraction_type_class        0\n",
            "management                   0\n",
            "management_group             0\n",
            "payment                      0\n",
            "payment_type                 0\n",
            "water_quality                0\n",
            "quality_group                0\n",
            "quantity                     0\n",
            "quantity_group               0\n",
            "source                       0\n",
            "source_type                  0\n",
            "source_class                 0\n",
            "waterpoint_type              0\n",
            "waterpoint_type_group        0\n",
            "status_group                 0\n",
            "geometry                     0\n",
            "dtype: int64\n"
          ],
          "name": "stdout"
        }
      ]
    },
    {
      "cell_type": "code",
      "metadata": {
        "colab": {
          "base_uri": "https://localhost:8080/"
        },
        "id": "er4xaxozKxxo",
        "outputId": "622e9af6-067c-45d8-8144-e2ab27ab20d2"
      },
      "source": [
        "print(test_df.isnull().sum())"
      ],
      "execution_count": null,
      "outputs": [
        {
          "output_type": "stream",
          "text": [
            "Unnamed: 0                  0\n",
            "id                          0\n",
            "amount_tsh                  0\n",
            "date_recorded               0\n",
            "funder                    842\n",
            "gps_height                  0\n",
            "installer                 848\n",
            "longitude                 458\n",
            "latitude                    0\n",
            "wpt_name                    0\n",
            "num_private                 0\n",
            "basin                       0\n",
            "subvillage                 84\n",
            "region                      0\n",
            "region_code                 0\n",
            "district_code               0\n",
            "lga                         0\n",
            "ward                        0\n",
            "population                  0\n",
            "public_meeting            843\n",
            "recorded_by                 0\n",
            "scheme_management        1045\n",
            "scheme_name              7056\n",
            "permit                    720\n",
            "construction_year        5068\n",
            "extraction_type             0\n",
            "extraction_type_group       0\n",
            "extraction_type_class       0\n",
            "management                  0\n",
            "management_group            0\n",
            "payment                     0\n",
            "payment_type                0\n",
            "water_quality               0\n",
            "quality_group               0\n",
            "quantity                    0\n",
            "quantity_group              0\n",
            "source                      0\n",
            "source_type                 0\n",
            "source_class                0\n",
            "waterpoint_type             0\n",
            "waterpoint_type_group       0\n",
            "dtype: int64\n"
          ],
          "name": "stdout"
        }
      ]
    },
    {
      "cell_type": "code",
      "metadata": {
        "colab": {
          "base_uri": "https://localhost:8080/"
        },
        "id": "zBxpytJsK6o5",
        "outputId": "6b1c2d52-04a8-443f-91a8-60b6f7d23112"
      },
      "source": [
        "train_df[\"latitude\"].fillna(train_df.groupby(['region', 'district_code'])[\"latitude\"].transform(\"mean\"), inplace=True)\n",
        "train_df[\"longitude\"].fillna(train_df.groupby(['region', 'district_code'])[\"longitude\"].transform(\"mean\"), inplace=True)\n",
        "train_df[\"longitude\"].fillna(train_df.groupby(['region'])[\"longitude\"].transform(\"mean\"), inplace=True)\n",
        "train_df[\"construction_year\"].fillna(train_df.groupby(['region', 'district_code'])[\"construction_year\"].transform(\"median\"), inplace=True)\n",
        "train_df[\"construction_year\"].fillna(train_df.groupby(['region'])[\"construction_year\"].transform(\"median\"), inplace=True)\n",
        "train_df[\"construction_year\"].fillna(train_df.groupby(['district_code'])[\"construction_year\"].transform(\"median\"), inplace=True)\n",
        "train_df[\"construction_year\"].fillna(train_df[\"construction_year\"].median(), inplace=True)\n",
        "print(train_df.isnull().sum())"
      ],
      "execution_count": null,
      "outputs": [
        {
          "output_type": "stream",
          "text": [
            "id                           0\n",
            "amount_tsh                   0\n",
            "date_recorded                0\n",
            "funder                    2793\n",
            "gps_height                   0\n",
            "installer                 2807\n",
            "longitude                    0\n",
            "latitude                     0\n",
            "wpt_name                     0\n",
            "num_private                  0\n",
            "basin                        0\n",
            "subvillage                 287\n",
            "region                       0\n",
            "region_code                  0\n",
            "district_code                0\n",
            "lga                          0\n",
            "ward                         0\n",
            "population                   0\n",
            "public_meeting            2491\n",
            "recorded_by                  0\n",
            "scheme_management         2832\n",
            "scheme_name              21110\n",
            "permit                    2336\n",
            "construction_year            0\n",
            "extraction_type              0\n",
            "extraction_type_group        0\n",
            "extraction_type_class        0\n",
            "management                   0\n",
            "management_group             0\n",
            "payment                      0\n",
            "payment_type                 0\n",
            "water_quality                0\n",
            "quality_group                0\n",
            "quantity                     0\n",
            "quantity_group               0\n",
            "source                       0\n",
            "source_type                  0\n",
            "source_class                 0\n",
            "waterpoint_type              0\n",
            "waterpoint_type_group        0\n",
            "status_group                 0\n",
            "geometry                     0\n",
            "dtype: int64\n"
          ],
          "name": "stdout"
        }
      ]
    },
    {
      "cell_type": "code",
      "metadata": {
        "colab": {
          "base_uri": "https://localhost:8080/"
        },
        "id": "RF9ZmXK4Mf4d",
        "outputId": "0f39c2a4-76e9-44b8-a943-8a976332312b"
      },
      "source": [
        "test_df[\"latitude\"].fillna(test_df.groupby(['region', 'district_code'])[\"latitude\"].transform(\"mean\"), inplace=True)\n",
        "test_df[\"longitude\"].fillna(test_df.groupby(['region', 'district_code'])[\"longitude\"].transform(\"mean\"), inplace=True)\n",
        "test_df[\"longitude\"].fillna(test_df.groupby(['region'])[\"longitude\"].transform(\"mean\"), inplace=True)\n",
        "test_df[\"construction_year\"].fillna(test_df.groupby(['region', 'district_code'])[\"construction_year\"].transform(\"median\"), inplace=True)\n",
        "test_df[\"construction_year\"].fillna(test_df.groupby(['region'])[\"construction_year\"].transform(\"median\"), inplace=True)\n",
        "test_df[\"construction_year\"].fillna(test_df.groupby(['district_code'])[\"construction_year\"].transform(\"median\"), inplace=True)\n",
        "test_df[\"construction_year\"].fillna(test_df[\"construction_year\"].median(), inplace=True)\n",
        "print(test_df.isnull().sum())"
      ],
      "execution_count": null,
      "outputs": [
        {
          "output_type": "stream",
          "text": [
            "Unnamed: 0                  0\n",
            "id                          0\n",
            "amount_tsh                  0\n",
            "date_recorded               0\n",
            "funder                    842\n",
            "gps_height                  0\n",
            "installer                 848\n",
            "longitude                   0\n",
            "latitude                    0\n",
            "wpt_name                    0\n",
            "num_private                 0\n",
            "basin                       0\n",
            "subvillage                 84\n",
            "region                      0\n",
            "region_code                 0\n",
            "district_code               0\n",
            "lga                         0\n",
            "ward                        0\n",
            "population                  0\n",
            "public_meeting            843\n",
            "recorded_by                 0\n",
            "scheme_management        1045\n",
            "scheme_name              7056\n",
            "permit                    720\n",
            "construction_year           0\n",
            "extraction_type             0\n",
            "extraction_type_group       0\n",
            "extraction_type_class       0\n",
            "management                  0\n",
            "management_group            0\n",
            "payment                     0\n",
            "payment_type                0\n",
            "water_quality               0\n",
            "quality_group               0\n",
            "quantity                    0\n",
            "quantity_group              0\n",
            "source                      0\n",
            "source_type                 0\n",
            "source_class                0\n",
            "waterpoint_type             0\n",
            "waterpoint_type_group       0\n",
            "dtype: int64\n"
          ],
          "name": "stdout"
        }
      ]
    },
    {
      "cell_type": "markdown",
      "metadata": {
        "id": "YZ7ZCv_JAqH_"
      },
      "source": [
        "**Checking for AGE of pumps** \n",
        "* If water point is old, it is highly likely to be non functional or needs repair.\n",
        "* New features were created namely number of years water point is operational."
      ]
    },
    {
      "cell_type": "code",
      "metadata": {
        "colab": {
          "base_uri": "https://localhost:8080/"
        },
        "id": "W1hTz9jAM2Ri",
        "outputId": "0a6114b4-d084-4db2-aaa7-8ca1c450dc58"
      },
      "source": [
        "print(train_df.date_recorded.head(5))\n",
        "print(train_df.construction_year.head(5))"
      ],
      "execution_count": null,
      "outputs": [
        {
          "output_type": "stream",
          "text": [
            "0    2013-03-20\n",
            "1    2011-02-21\n",
            "2    2013-01-04\n",
            "3    2011-04-03\n",
            "4    2013-03-08\n",
            "Name: date_recorded, dtype: object\n",
            "0    2008.0\n",
            "1    1984.0\n",
            "2    2002.0\n",
            "3    2000.0\n",
            "4    2007.0\n",
            "Name: construction_year, dtype: float64\n"
          ],
          "name": "stdout"
        }
      ]
    },
    {
      "cell_type": "code",
      "metadata": {
        "colab": {
          "base_uri": "https://localhost:8080/"
        },
        "id": "2I3h_McmNCQ1",
        "outputId": "c43e8c60-e775-450d-e6e9-54d3483ac5de"
      },
      "source": [
        "print(test_df.date_recorded.head(5))\n",
        "print(test_df.construction_year.head(5))"
      ],
      "execution_count": null,
      "outputs": [
        {
          "output_type": "stream",
          "text": [
            "0    2011-02-25\n",
            "1    2011-04-17\n",
            "2    2011-03-27\n",
            "3    2011-07-14\n",
            "4    2011-07-31\n",
            "Name: date_recorded, dtype: object\n",
            "0    2004.0\n",
            "1    1999.0\n",
            "2    1999.0\n",
            "3    1999.0\n",
            "4    1999.0\n",
            "Name: construction_year, dtype: float64\n"
          ],
          "name": "stdout"
        }
      ]
    },
    {
      "cell_type": "code",
      "metadata": {
        "colab": {
          "base_uri": "https://localhost:8080/"
        },
        "id": "7N8g9HMeNGR5",
        "outputId": "9905aeab-be87-4fdd-d0d3-0a07b35d4f06"
      },
      "source": [
        "train_df.isnull().sum()\n",
        "train_df['date_recorded'] = pd.to_datetime(train_df['date_recorded'])\n",
        "train_df.date_recorded.head(5)\n",
        "print(train_df.date_recorded.dt.year.head(5))\n",
        "print(train_df.construction_year.head(5))\n",
        "train_df['operational_year'] = train_df.date_recorded.dt.year - train_df.construction_year\n",
        "train_df.operational_year.head(5)"
      ],
      "execution_count": null,
      "outputs": [
        {
          "output_type": "stream",
          "text": [
            "0    2013\n",
            "1    2011\n",
            "2    2013\n",
            "3    2011\n",
            "4    2013\n",
            "Name: date_recorded, dtype: int64\n",
            "0    2008.0\n",
            "1    1984.0\n",
            "2    2002.0\n",
            "3    2000.0\n",
            "4    2007.0\n",
            "Name: construction_year, dtype: float64\n"
          ],
          "name": "stdout"
        },
        {
          "output_type": "execute_result",
          "data": {
            "text/plain": [
              "0     5.0\n",
              "1    27.0\n",
              "2    11.0\n",
              "3    11.0\n",
              "4     6.0\n",
              "Name: operational_year, dtype: float64"
            ]
          },
          "metadata": {
            "tags": []
          },
          "execution_count": 247
        }
      ]
    },
    {
      "cell_type": "code",
      "metadata": {
        "colab": {
          "base_uri": "https://localhost:8080/"
        },
        "id": "Eo_rvX2GNebk",
        "outputId": "f7481b04-4611-4f17-80de-ca02852de388"
      },
      "source": [
        "test_df.isnull().sum()\n",
        "test_df['date_recorded'] = pd.to_datetime(test_df['date_recorded'])\n",
        "test_df.date_recorded.head(5)\n",
        "print(test_df.date_recorded.dt.year.head(5))\n",
        "print(test_df.construction_year.head(5))\n",
        "test_df['operational_year'] = test_df.date_recorded.dt.year - test_df.construction_year\n",
        "test_df.operational_year.head(5)"
      ],
      "execution_count": null,
      "outputs": [
        {
          "output_type": "stream",
          "text": [
            "0    2011\n",
            "1    2011\n",
            "2    2011\n",
            "3    2011\n",
            "4    2011\n",
            "Name: date_recorded, dtype: int64\n",
            "0    2004.0\n",
            "1    1999.0\n",
            "2    1999.0\n",
            "3    1999.0\n",
            "4    1999.0\n",
            "Name: construction_year, dtype: float64\n"
          ],
          "name": "stdout"
        },
        {
          "output_type": "execute_result",
          "data": {
            "text/plain": [
              "0     7.0\n",
              "1    12.0\n",
              "2    12.0\n",
              "3    12.0\n",
              "4    12.0\n",
              "Name: operational_year, dtype: float64"
            ]
          },
          "metadata": {
            "tags": []
          },
          "execution_count": 248
        }
      ]
    },
    {
      "cell_type": "markdown",
      "metadata": {
        "id": "OT-cfNLeCGF3"
      },
      "source": [
        "**DATA Cleaning**"
      ]
    },
    {
      "cell_type": "markdown",
      "metadata": {
        "id": "h3RHxFfQCTFn"
      },
      "source": [
        "Our approach is going to be \n",
        "* We gonna group same type of features one by one and will drop the less important columns\n"
      ]
    },
    {
      "cell_type": "code",
      "metadata": {
        "colab": {
          "base_uri": "https://localhost:8080/"
        },
        "id": "sZeePcdYNkwT",
        "outputId": "2f3d96d4-9987-4c38-d7a2-2ccbe986914b"
      },
      "source": [
        "waste_features=['wpt_name','num_private','subvillage','region_code','recorded_by']\n",
        "#since region and region_code are representing the same thing\n",
        "train_df.drop(waste_features,axis=1,inplace=True)\n",
        "print(train_df.groupby(['management', 'management_group']).size() )\n",
        "train_df.drop('management_group',axis=1,inplace=True)"
      ],
      "execution_count": null,
      "outputs": [
        {
          "output_type": "stream",
          "text": [
            "management        management_group\n",
            "company           commercial            512\n",
            "other             other                 622\n",
            "other - school    other                  70\n",
            "parastatal        parastatal           1347\n",
            "private operator  commercial           1485\n",
            "trust             commercial             62\n",
            "unknown           unknown               402\n",
            "vwc               user-group          30371\n",
            "water authority   commercial            677\n",
            "water board       user-group           2221\n",
            "wua               user-group           1907\n",
            "wug               user-group           4874\n",
            "dtype: int64\n"
          ],
          "name": "stdout"
        }
      ]
    },
    {
      "cell_type": "code",
      "metadata": {
        "colab": {
          "base_uri": "https://localhost:8080/"
        },
        "id": "annNTktsN6cP",
        "outputId": "f643795a-d01e-4647-b3ab-79e6a40ac0e7"
      },
      "source": [
        "waste_features=['wpt_name','num_private','subvillage','region_code','recorded_by']\n",
        "#since region and region_code are representing the same thing\n",
        "test_df.drop(waste_features,axis=1,inplace=True)\n",
        "print(test_df.groupby(['management', 'management_group']).size() )\n",
        "test_df.drop('management_group',axis=1,inplace=True)"
      ],
      "execution_count": null,
      "outputs": [
        {
          "output_type": "stream",
          "text": [
            "management        management_group\n",
            "company           commercial            173\n",
            "other             other                 222\n",
            "other - school    other                  29\n",
            "parastatal        parastatal            421\n",
            "private operator  commercial            486\n",
            "trust             commercial             16\n",
            "unknown           unknown               159\n",
            "vwc               user-group          10136\n",
            "water authority   commercial            227\n",
            "water board       user-group            712\n",
            "wua               user-group            628\n",
            "wug               user-group           1641\n",
            "dtype: int64\n"
          ],
          "name": "stdout"
        }
      ]
    },
    {
      "cell_type": "markdown",
      "metadata": {
        "id": "-C8ZO4qfC0Yw"
      },
      "source": [
        "**Since Management and Management Group represent the same thing so we are going to drop Management_group.**"
      ]
    },
    {
      "cell_type": "markdown",
      "metadata": {
        "id": "m1sgRbkkDGXA"
      },
      "source": [
        "**Continuing the same Procedure for extraction_type_group and extraction_type**"
      ]
    },
    {
      "cell_type": "code",
      "metadata": {
        "colab": {
          "base_uri": "https://localhost:8080/"
        },
        "id": "qEJB3vB8OFPi",
        "outputId": "0d1ae135-a0d4-4ad8-a1ee-9a5812513ce4"
      },
      "source": [
        "print(train_df.groupby(['extraction_type_group','extraction_type_class','extraction_type']).size()   )   \n",
        "train_df.drop('extraction_type_group',axis=1,inplace=True)"
      ],
      "execution_count": null,
      "outputs": [
        {
          "output_type": "stream",
          "text": [
            "extraction_type_group  extraction_type_class  extraction_type          \n",
            "afridev                handpump               afridev                       1339\n",
            "gravity                gravity                gravity                      20127\n",
            "india mark ii          handpump               india mark ii                 1768\n",
            "india mark iii         handpump               india mark iii                  77\n",
            "mono                   motorpump              mono                          2164\n",
            "nira/tanira            handpump               nira/tanira                   6130\n",
            "other                  other                  other                         4768\n",
            "other handpump         handpump               other - mkulima/shinyanga        2\n",
            "                                              other - play pump               65\n",
            "                                              other - swn 81                 177\n",
            "                                              walimi                          39\n",
            "other motorpump        motorpump              cemo                            70\n",
            "                                              climax                          26\n",
            "rope pump              rope pump              other - rope pump              335\n",
            "submersible            submersible            ksb                           1043\n",
            "                                              submersible                   3560\n",
            "swn 80                 handpump               swn 80                        2771\n",
            "wind-powered           wind-powered           windmill                        89\n",
            "dtype: int64\n"
          ],
          "name": "stdout"
        }
      ]
    },
    {
      "cell_type": "code",
      "metadata": {
        "colab": {
          "base_uri": "https://localhost:8080/"
        },
        "id": "DCSB4HowOMx7",
        "outputId": "73667d53-b5a4-4f2b-98c7-306f05b59ef5"
      },
      "source": [
        "print(test_df.groupby(['extraction_type_group','extraction_type_class','extraction_type']).size()   )   \n",
        "test_df.drop('extraction_type_group',axis=1,inplace=True)"
      ],
      "execution_count": null,
      "outputs": [
        {
          "output_type": "stream",
          "text": [
            "extraction_type_group  extraction_type_class  extraction_type  \n",
            "afridev                handpump               afridev               431\n",
            "gravity                gravity                gravity              6653\n",
            "india mark ii          handpump               india mark ii         632\n",
            "india mark iii         handpump               india mark iii         21\n",
            "mono                   motorpump              mono                  701\n",
            "nira/tanira            handpump               nira/tanira          2024\n",
            "other                  other                  other                1662\n",
            "other handpump         handpump               other - play pump      20\n",
            "                                              other - swn 81         52\n",
            "                                              walimi                  9\n",
            "other motorpump        motorpump              cemo                   20\n",
            "                                              climax                  6\n",
            "rope pump              rope pump              other - rope pump     116\n",
            "submersible            submersible            ksb                   372\n",
            "                                              submersible          1204\n",
            "swn 80                 handpump               swn 80                899\n",
            "wind-powered           wind-powered           windmill               28\n",
            "dtype: int64\n"
          ],
          "name": "stdout"
        }
      ]
    },
    {
      "cell_type": "code",
      "metadata": {
        "id": "2VCvzXrXOTQ5"
      },
      "source": [
        "train_df.drop('extraction_type_class',axis=1,inplace=True)\n",
        "test_df.drop('extraction_type_class',axis=1,inplace=True)"
      ],
      "execution_count": null,
      "outputs": []
    },
    {
      "cell_type": "markdown",
      "metadata": {
        "id": "Cbs3lovODayn"
      },
      "source": [
        "**We are going to drop extraction_type_group and extraction_type_class**"
      ]
    },
    {
      "cell_type": "markdown",
      "metadata": {
        "id": "ZZ6IpZQPDoT6"
      },
      "source": [
        "**Continuing Same approach for scheme_management and scheme_name**"
      ]
    },
    {
      "cell_type": "code",
      "metadata": {
        "colab": {
          "base_uri": "https://localhost:8080/"
        },
        "id": "n8tGPY6qOduo",
        "outputId": "336f3a67-45f0-4c08-cefc-ddd0a4b15dd5"
      },
      "source": [
        "train_df.groupby(['scheme_management', 'scheme_name']).size()"
      ],
      "execution_count": null,
      "outputs": [
        {
          "output_type": "execute_result",
          "data": {
            "text/plain": [
              "scheme_management  scheme_name              \n",
              "Company            BFFS                           1\n",
              "                   Bagamoyo Wate                 47\n",
              "                   Bagamoyo wate                152\n",
              "                   Borehole                       1\n",
              "                   Borehole drilling project      1\n",
              "                                               ... \n",
              "Water authority    World Vision                   6\n",
              "                   Yongoma                       14\n",
              "                   Zepalama                       3\n",
              "                   no scheme                      7\n",
              "                   pump                           2\n",
              "Length: 2831, dtype: int64"
            ]
          },
          "metadata": {
            "tags": []
          },
          "execution_count": 254
        }
      ]
    },
    {
      "cell_type": "code",
      "metadata": {
        "id": "EpesKYw9SJFE"
      },
      "source": [
        "train_df.drop('scheme_name',axis=1,inplace=True)\n",
        "test_df.drop('scheme_name',axis=1,inplace=True)"
      ],
      "execution_count": null,
      "outputs": []
    },
    {
      "cell_type": "markdown",
      "metadata": {
        "id": "s3d2UUJhDxBw"
      },
      "source": [
        "**We are going to drop scheme_name**"
      ]
    },
    {
      "cell_type": "code",
      "metadata": {
        "id": "4iJakBLaOjFN"
      },
      "source": [
        "train_df.drop('payment',axis=1,inplace=True)\n",
        "test_df.drop('payment',axis=1,inplace=True)"
      ],
      "execution_count": null,
      "outputs": []
    },
    {
      "cell_type": "markdown",
      "metadata": {
        "id": "JEnv-mhuD4q0"
      },
      "source": [
        "**We are also going to drop payment since it is not very important** "
      ]
    },
    {
      "cell_type": "markdown",
      "metadata": {
        "id": "HQMhI6rrGF6D"
      },
      "source": [
        "**Applying same approach for water_quality and quality_group**"
      ]
    },
    {
      "cell_type": "code",
      "metadata": {
        "colab": {
          "base_uri": "https://localhost:8080/"
        },
        "id": "DEvzZahrO0Zy",
        "outputId": "9fb93c2c-6b37-4f18-b4ee-81fcb7cca6f5"
      },
      "source": [
        "train_df.groupby(['water_quality', 'quality_group']).size()\n",
        "test_df.groupby(['water_quality', 'quality_group']).size()"
      ],
      "execution_count": null,
      "outputs": [
        {
          "output_type": "execute_result",
          "data": {
            "text/plain": [
              "water_quality       quality_group\n",
              "coloured            colored            126\n",
              "fluoride            fluoride            53\n",
              "fluoride abandoned  fluoride             6\n",
              "milky               milky              198\n",
              "salty               salty             1188\n",
              "salty abandoned     salty               75\n",
              "soft                good             12725\n",
              "unknown             unknown            479\n",
              "dtype: int64"
            ]
          },
          "metadata": {
            "tags": []
          },
          "execution_count": 257
        }
      ]
    },
    {
      "cell_type": "code",
      "metadata": {
        "id": "i23Hx3kcPPVN"
      },
      "source": [
        "train_df.drop('quality_group',axis=1,inplace=True)\n",
        "test_df.drop('quality_group',axis=1,inplace=True)"
      ],
      "execution_count": null,
      "outputs": []
    },
    {
      "cell_type": "markdown",
      "metadata": {
        "id": "hYR5tYNYGTwc"
      },
      "source": [
        "**Dropping the quality_group**"
      ]
    },
    {
      "cell_type": "code",
      "metadata": {
        "colab": {
          "base_uri": "https://localhost:8080/"
        },
        "id": "U-9fjj3bPV8m",
        "outputId": "8e9c99c6-61b9-4e95-9775-0bed1430c9bb"
      },
      "source": [
        "train_df.groupby(['quantity', 'quantity_group']).size()"
      ],
      "execution_count": null,
      "outputs": [
        {
          "output_type": "execute_result",
          "data": {
            "text/plain": [
              "quantity      quantity_group\n",
              "dry           dry                4725\n",
              "enough        enough            24821\n",
              "insufficient  insufficient      11367\n",
              "seasonal      seasonal           3049\n",
              "unknown       unknown             588\n",
              "dtype: int64"
            ]
          },
          "metadata": {
            "tags": []
          },
          "execution_count": 259
        }
      ]
    },
    {
      "cell_type": "code",
      "metadata": {
        "colab": {
          "base_uri": "https://localhost:8080/"
        },
        "id": "MBZBrQkGRxds",
        "outputId": "5e369627-23f5-4c59-a716-bc20a78f7dbc"
      },
      "source": [
        "test_df.groupby(['quantity', 'quantity_group']).size()"
      ],
      "execution_count": null,
      "outputs": [
        {
          "output_type": "execute_result",
          "data": {
            "text/plain": [
              "quantity      quantity_group\n",
              "dry           dry               1521\n",
              "enough        enough            8365\n",
              "insufficient  insufficient      3762\n",
              "seasonal      seasonal          1001\n",
              "unknown       unknown            201\n",
              "dtype: int64"
            ]
          },
          "metadata": {
            "tags": []
          },
          "execution_count": 260
        }
      ]
    },
    {
      "cell_type": "code",
      "metadata": {
        "id": "EKQSyf6uR1jp"
      },
      "source": [
        "train_df.drop('quantity_group',axis=1,inplace=True)\n",
        "test_df.drop('quantity_group',axis=1,inplace=True)"
      ],
      "execution_count": null,
      "outputs": []
    },
    {
      "cell_type": "markdown",
      "metadata": {
        "id": "GJtmVzdlGbos"
      },
      "source": [
        "**Dropping the quantity_group**"
      ]
    },
    {
      "cell_type": "code",
      "metadata": {
        "colab": {
          "base_uri": "https://localhost:8080/"
        },
        "id": "5rDu65xgPdp0",
        "outputId": "c4e4ae72-42f4-495d-9fb5-b0279bae1e9b"
      },
      "source": [
        "test_df.groupby(['source', 'source_type', 'source_class']).size()"
      ],
      "execution_count": null,
      "outputs": [
        {
          "output_type": "execute_result",
          "data": {
            "text/plain": [
              "source                source_type           source_class\n",
              "dam                   dam                   surface          167\n",
              "hand dtw              borehole              groundwater      222\n",
              "lake                  river/lake            surface          221\n",
              "machine dbh           borehole              groundwater     2793\n",
              "other                 other                 unknown           56\n",
              "rainwater harvesting  rainwater harvesting  surface          556\n",
              "river                 river/lake            surface         2477\n",
              "shallow well          shallow well          groundwater     4206\n",
              "spring                spring                groundwater     4132\n",
              "unknown               other                 unknown           20\n",
              "dtype: int64"
            ]
          },
          "metadata": {
            "tags": []
          },
          "execution_count": 262
        }
      ]
    },
    {
      "cell_type": "code",
      "metadata": {
        "id": "vXu2AhL0QKMr"
      },
      "source": [
        "train_df.drop('source_type',axis=1,inplace=True)\n",
        "test_df.drop('source_type',axis=1,inplace=True)\n",
        "train_df.drop('source_class',axis=1,inplace=True)\n",
        "test_df.drop('source_class',axis=1,inplace=True)"
      ],
      "execution_count": null,
      "outputs": []
    },
    {
      "cell_type": "markdown",
      "metadata": {
        "id": "tjDPQJcoGtev"
      },
      "source": [
        "**Dropping source_type and source_class**"
      ]
    },
    {
      "cell_type": "code",
      "metadata": {
        "colab": {
          "base_uri": "https://localhost:8080/"
        },
        "id": "bedSAlEyQVRC",
        "outputId": "e3f02557-ceec-471f-e8da-17555fa8be0d"
      },
      "source": [
        "train_df.groupby(['waterpoint_type', 'waterpoint_type_group']).size()"
      ],
      "execution_count": null,
      "outputs": [
        {
          "output_type": "execute_result",
          "data": {
            "text/plain": [
              "waterpoint_type              waterpoint_type_group\n",
              "cattle trough                cattle trough               90\n",
              "communal standpipe           communal standpipe       21452\n",
              "communal standpipe multiple  communal standpipe        4558\n",
              "dam                          dam                          5\n",
              "hand pump                    hand pump                13116\n",
              "improved spring              improved spring            590\n",
              "other                        other                     4739\n",
              "dtype: int64"
            ]
          },
          "metadata": {
            "tags": []
          },
          "execution_count": 264
        }
      ]
    },
    {
      "cell_type": "code",
      "metadata": {
        "colab": {
          "base_uri": "https://localhost:8080/"
        },
        "id": "j-GyOCp5QeCa",
        "outputId": "b7ac5927-d20b-4d36-c89c-0f58e79b3768"
      },
      "source": [
        "test_df.groupby(['waterpoint_type', 'waterpoint_type_group']).size()"
      ],
      "execution_count": null,
      "outputs": [
        {
          "output_type": "execute_result",
          "data": {
            "text/plain": [
              "waterpoint_type              waterpoint_type_group\n",
              "cattle trough                cattle trough              26\n",
              "communal standpipe           communal standpipe       7070\n",
              "communal standpipe multiple  communal standpipe       1545\n",
              "dam                          dam                         2\n",
              "hand pump                    hand pump                4372\n",
              "improved spring              improved spring           194\n",
              "other                        other                    1641\n",
              "dtype: int64"
            ]
          },
          "metadata": {
            "tags": []
          },
          "execution_count": 265
        }
      ]
    },
    {
      "cell_type": "code",
      "metadata": {
        "id": "NrO9OcwLQiql"
      },
      "source": [
        "train_df.drop('waterpoint_type_group',axis=1,inplace=True)\n",
        "test_df.drop('waterpoint_type_group',axis=1,inplace=True)"
      ],
      "execution_count": null,
      "outputs": []
    },
    {
      "cell_type": "markdown",
      "metadata": {
        "id": "XdEoNyODG2px"
      },
      "source": [
        "**Dropping waterpoint_type_group**"
      ]
    },
    {
      "cell_type": "code",
      "metadata": {
        "colab": {
          "base_uri": "https://localhost:8080/"
        },
        "id": "TrCTeV-cQpPj",
        "outputId": "5c84a131-ccc8-4e1a-80dd-7b99aa98e767"
      },
      "source": [
        "train_df.info()"
      ],
      "execution_count": null,
      "outputs": [
        {
          "output_type": "stream",
          "text": [
            "<class 'pandas.core.frame.DataFrame'>\n",
            "RangeIndex: 44550 entries, 0 to 44549\n",
            "Data columns (total 28 columns):\n",
            " #   Column             Non-Null Count  Dtype         \n",
            "---  ------             --------------  -----         \n",
            " 0   id                 44550 non-null  int64         \n",
            " 1   amount_tsh         44550 non-null  float64       \n",
            " 2   date_recorded      44550 non-null  datetime64[ns]\n",
            " 3   funder             41757 non-null  object        \n",
            " 4   gps_height         44550 non-null  float64       \n",
            " 5   installer          41743 non-null  object        \n",
            " 6   longitude          44550 non-null  float64       \n",
            " 7   latitude           44550 non-null  float64       \n",
            " 8   basin              44550 non-null  object        \n",
            " 9   region             44550 non-null  object        \n",
            " 10  district_code      44550 non-null  int64         \n",
            " 11  lga                44550 non-null  object        \n",
            " 12  ward               44550 non-null  object        \n",
            " 13  population         44550 non-null  float64       \n",
            " 14  public_meeting     42059 non-null  object        \n",
            " 15  scheme_management  41718 non-null  object        \n",
            " 16  permit             42214 non-null  object        \n",
            " 17  construction_year  44550 non-null  float64       \n",
            " 18  extraction_type    44550 non-null  object        \n",
            " 19  management         44550 non-null  object        \n",
            " 20  payment_type       44550 non-null  object        \n",
            " 21  water_quality      44550 non-null  object        \n",
            " 22  quantity           44550 non-null  object        \n",
            " 23  source             44550 non-null  object        \n",
            " 24  waterpoint_type    44550 non-null  object        \n",
            " 25  status_group       44550 non-null  object        \n",
            " 26  geometry           44550 non-null  geometry      \n",
            " 27  operational_year   44550 non-null  float64       \n",
            "dtypes: datetime64[ns](1), float64(7), geometry(1), int64(2), object(17)\n",
            "memory usage: 9.5+ MB\n"
          ],
          "name": "stdout"
        }
      ]
    },
    {
      "cell_type": "code",
      "metadata": {
        "colab": {
          "base_uri": "https://localhost:8080/"
        },
        "id": "v7hzG47JSu1Z",
        "outputId": "21c0c473-9910-4efb-9975-7ecc68dc609c"
      },
      "source": [
        "test_df.info()"
      ],
      "execution_count": null,
      "outputs": [
        {
          "output_type": "stream",
          "text": [
            "<class 'pandas.core.frame.DataFrame'>\n",
            "RangeIndex: 14850 entries, 0 to 14849\n",
            "Data columns (total 27 columns):\n",
            " #   Column             Non-Null Count  Dtype         \n",
            "---  ------             --------------  -----         \n",
            " 0   Unnamed: 0         14850 non-null  int64         \n",
            " 1   id                 14850 non-null  int64         \n",
            " 2   amount_tsh         14850 non-null  float64       \n",
            " 3   date_recorded      14850 non-null  datetime64[ns]\n",
            " 4   funder             14008 non-null  object        \n",
            " 5   gps_height         14850 non-null  float64       \n",
            " 6   installer          14002 non-null  object        \n",
            " 7   longitude          14850 non-null  float64       \n",
            " 8   latitude           14850 non-null  float64       \n",
            " 9   basin              14850 non-null  object        \n",
            " 10  region             14850 non-null  object        \n",
            " 11  district_code      14850 non-null  int64         \n",
            " 12  lga                14850 non-null  object        \n",
            " 13  ward               14850 non-null  object        \n",
            " 14  population         14850 non-null  float64       \n",
            " 15  public_meeting     14007 non-null  object        \n",
            " 16  scheme_management  13805 non-null  object        \n",
            " 17  permit             14130 non-null  object        \n",
            " 18  construction_year  14850 non-null  float64       \n",
            " 19  extraction_type    14850 non-null  object        \n",
            " 20  management         14850 non-null  object        \n",
            " 21  payment_type       14850 non-null  object        \n",
            " 22  water_quality      14850 non-null  object        \n",
            " 23  quantity           14850 non-null  object        \n",
            " 24  source             14850 non-null  object        \n",
            " 25  waterpoint_type    14850 non-null  object        \n",
            " 26  operational_year   14850 non-null  float64       \n",
            "dtypes: datetime64[ns](1), float64(7), int64(3), object(16)\n",
            "memory usage: 3.1+ MB\n"
          ],
          "name": "stdout"
        }
      ]
    },
    {
      "cell_type": "code",
      "metadata": {
        "colab": {
          "base_uri": "https://localhost:8080/",
          "height": 394
        },
        "id": "iBAU-ObKS9Ht",
        "outputId": "f84bee0a-e6d1-46b9-fb40-271360c5cee7"
      },
      "source": [
        "train_df.head()"
      ],
      "execution_count": null,
      "outputs": [
        {
          "output_type": "execute_result",
          "data": {
            "text/html": [
              "<div>\n",
              "<style scoped>\n",
              "    .dataframe tbody tr th:only-of-type {\n",
              "        vertical-align: middle;\n",
              "    }\n",
              "\n",
              "    .dataframe tbody tr th {\n",
              "        vertical-align: top;\n",
              "    }\n",
              "\n",
              "    .dataframe thead th {\n",
              "        text-align: right;\n",
              "    }\n",
              "</style>\n",
              "<table border=\"1\" class=\"dataframe\">\n",
              "  <thead>\n",
              "    <tr style=\"text-align: right;\">\n",
              "      <th></th>\n",
              "      <th>id</th>\n",
              "      <th>amount_tsh</th>\n",
              "      <th>date_recorded</th>\n",
              "      <th>funder</th>\n",
              "      <th>gps_height</th>\n",
              "      <th>installer</th>\n",
              "      <th>longitude</th>\n",
              "      <th>latitude</th>\n",
              "      <th>basin</th>\n",
              "      <th>region</th>\n",
              "      <th>district_code</th>\n",
              "      <th>lga</th>\n",
              "      <th>ward</th>\n",
              "      <th>population</th>\n",
              "      <th>public_meeting</th>\n",
              "      <th>scheme_management</th>\n",
              "      <th>permit</th>\n",
              "      <th>construction_year</th>\n",
              "      <th>extraction_type</th>\n",
              "      <th>management</th>\n",
              "      <th>payment_type</th>\n",
              "      <th>water_quality</th>\n",
              "      <th>quantity</th>\n",
              "      <th>source</th>\n",
              "      <th>waterpoint_type</th>\n",
              "      <th>status_group</th>\n",
              "      <th>geometry</th>\n",
              "      <th>operational_year</th>\n",
              "    </tr>\n",
              "  </thead>\n",
              "  <tbody>\n",
              "    <tr>\n",
              "      <th>0</th>\n",
              "      <td>7411</td>\n",
              "      <td>0.000800</td>\n",
              "      <td>2013-03-20</td>\n",
              "      <td>Germany Republi</td>\n",
              "      <td>9.041958</td>\n",
              "      <td>CES</td>\n",
              "      <td>37.228664</td>\n",
              "      <td>-3.256505</td>\n",
              "      <td>Pangani</td>\n",
              "      <td>Kilimanjaro</td>\n",
              "      <td>5</td>\n",
              "      <td>Hai</td>\n",
              "      <td>Machame Kaskazini</td>\n",
              "      <td>0.058363</td>\n",
              "      <td>True</td>\n",
              "      <td>Water Board</td>\n",
              "      <td>True</td>\n",
              "      <td>2008.0</td>\n",
              "      <td>gravity</td>\n",
              "      <td>water board</td>\n",
              "      <td>per bucket</td>\n",
              "      <td>soft</td>\n",
              "      <td>enough</td>\n",
              "      <td>spring</td>\n",
              "      <td>communal standpipe</td>\n",
              "      <td>functional</td>\n",
              "      <td>POINT (37.22866 -3.25650)</td>\n",
              "      <td>5.0</td>\n",
              "    </tr>\n",
              "    <tr>\n",
              "      <th>1</th>\n",
              "      <td>18014</td>\n",
              "      <td>0.117624</td>\n",
              "      <td>2011-02-21</td>\n",
              "      <td>Cdtf</td>\n",
              "      <td>10.482517</td>\n",
              "      <td>CDTF</td>\n",
              "      <td>34.615481</td>\n",
              "      <td>-9.972601</td>\n",
              "      <td>Lake Nyasa</td>\n",
              "      <td>Iringa</td>\n",
              "      <td>5</td>\n",
              "      <td>Ludewa</td>\n",
              "      <td>Luana</td>\n",
              "      <td>0.045247</td>\n",
              "      <td>False</td>\n",
              "      <td>Private operator</td>\n",
              "      <td>False</td>\n",
              "      <td>1984.0</td>\n",
              "      <td>gravity</td>\n",
              "      <td>private operator</td>\n",
              "      <td>never pay</td>\n",
              "      <td>soft</td>\n",
              "      <td>enough</td>\n",
              "      <td>spring</td>\n",
              "      <td>communal standpipe</td>\n",
              "      <td>functional</td>\n",
              "      <td>POINT (34.61548 -9.97260)</td>\n",
              "      <td>27.0</td>\n",
              "    </tr>\n",
              "    <tr>\n",
              "      <th>2</th>\n",
              "      <td>26103</td>\n",
              "      <td>0.005859</td>\n",
              "      <td>2013-01-04</td>\n",
              "      <td>Government Of Tanzania</td>\n",
              "      <td>11.622378</td>\n",
              "      <td>DWE</td>\n",
              "      <td>36.658778</td>\n",
              "      <td>-3.321529</td>\n",
              "      <td>Pangani</td>\n",
              "      <td>Arusha</td>\n",
              "      <td>2</td>\n",
              "      <td>Arusha Rural</td>\n",
              "      <td>Kimnyaki</td>\n",
              "      <td>0.097708</td>\n",
              "      <td>True</td>\n",
              "      <td>VWC</td>\n",
              "      <td>True</td>\n",
              "      <td>2002.0</td>\n",
              "      <td>gravity</td>\n",
              "      <td>vwc</td>\n",
              "      <td>never pay</td>\n",
              "      <td>soft</td>\n",
              "      <td>insufficient</td>\n",
              "      <td>spring</td>\n",
              "      <td>communal standpipe</td>\n",
              "      <td>non functional</td>\n",
              "      <td>POINT (36.65878 -3.32153)</td>\n",
              "      <td>11.0</td>\n",
              "    </tr>\n",
              "    <tr>\n",
              "      <th>3</th>\n",
              "      <td>31140</td>\n",
              "      <td>0.029388</td>\n",
              "      <td>2011-04-03</td>\n",
              "      <td>District Council</td>\n",
              "      <td>8.023439</td>\n",
              "      <td>District Council</td>\n",
              "      <td>33.628025</td>\n",
              "      <td>-8.860795</td>\n",
              "      <td>Rufiji</td>\n",
              "      <td>Mbeya</td>\n",
              "      <td>2</td>\n",
              "      <td>Mbeya Rural</td>\n",
              "      <td>Inyala</td>\n",
              "      <td>0.130496</td>\n",
              "      <td>True</td>\n",
              "      <td>VWC</td>\n",
              "      <td>True</td>\n",
              "      <td>2000.0</td>\n",
              "      <td>gravity</td>\n",
              "      <td>wug</td>\n",
              "      <td>annually</td>\n",
              "      <td>soft</td>\n",
              "      <td>insufficient</td>\n",
              "      <td>river</td>\n",
              "      <td>communal standpipe</td>\n",
              "      <td>functional</td>\n",
              "      <td>POINT (33.62802 -8.86080)</td>\n",
              "      <td>11.0</td>\n",
              "    </tr>\n",
              "    <tr>\n",
              "      <th>4</th>\n",
              "      <td>12286</td>\n",
              "      <td>0.035271</td>\n",
              "      <td>2013-03-08</td>\n",
              "      <td>District Council</td>\n",
              "      <td>9.601399</td>\n",
              "      <td>District Council</td>\n",
              "      <td>37.655509</td>\n",
              "      <td>-3.669777</td>\n",
              "      <td>Pangani</td>\n",
              "      <td>Kilimanjaro</td>\n",
              "      <td>2</td>\n",
              "      <td>Mwanga</td>\n",
              "      <td>Shinghatini</td>\n",
              "      <td>0.021640</td>\n",
              "      <td>True</td>\n",
              "      <td>VWC</td>\n",
              "      <td>False</td>\n",
              "      <td>2007.0</td>\n",
              "      <td>gravity</td>\n",
              "      <td>vwc</td>\n",
              "      <td>monthly</td>\n",
              "      <td>soft</td>\n",
              "      <td>insufficient</td>\n",
              "      <td>spring</td>\n",
              "      <td>communal standpipe</td>\n",
              "      <td>functional</td>\n",
              "      <td>POINT (37.65551 -3.66978)</td>\n",
              "      <td>6.0</td>\n",
              "    </tr>\n",
              "  </tbody>\n",
              "</table>\n",
              "</div>"
            ],
            "text/plain": [
              "      id  amount_tsh  ...                   geometry operational_year\n",
              "0   7411    0.000800  ...  POINT (37.22866 -3.25650)              5.0\n",
              "1  18014    0.117624  ...  POINT (34.61548 -9.97260)             27.0\n",
              "2  26103    0.005859  ...  POINT (36.65878 -3.32153)             11.0\n",
              "3  31140    0.029388  ...  POINT (33.62802 -8.86080)             11.0\n",
              "4  12286    0.035271  ...  POINT (37.65551 -3.66978)              6.0\n",
              "\n",
              "[5 rows x 28 columns]"
            ]
          },
          "metadata": {
            "tags": []
          },
          "execution_count": 269
        }
      ]
    },
    {
      "cell_type": "code",
      "metadata": {
        "id": "s185QZ4yTKlr"
      },
      "source": [
        "train_df.drop('geometry', axis=1, inplace=True )"
      ],
      "execution_count": null,
      "outputs": []
    },
    {
      "cell_type": "markdown",
      "metadata": {
        "id": "4OUUQEcaHDyl"
      },
      "source": [
        "**Dropping the geometry as it was for visualization of data points**"
      ]
    },
    {
      "cell_type": "code",
      "metadata": {
        "colab": {
          "base_uri": "https://localhost:8080/"
        },
        "id": "15L4073eThI0",
        "outputId": "6fe9b863-4b7e-44d5-e619-a212b93c002e"
      },
      "source": [
        "train_df.info()"
      ],
      "execution_count": null,
      "outputs": [
        {
          "output_type": "stream",
          "text": [
            "<class 'pandas.core.frame.DataFrame'>\n",
            "RangeIndex: 44550 entries, 0 to 44549\n",
            "Data columns (total 27 columns):\n",
            " #   Column             Non-Null Count  Dtype         \n",
            "---  ------             --------------  -----         \n",
            " 0   id                 44550 non-null  int64         \n",
            " 1   amount_tsh         44550 non-null  float64       \n",
            " 2   date_recorded      44550 non-null  datetime64[ns]\n",
            " 3   funder             41757 non-null  object        \n",
            " 4   gps_height         44550 non-null  float64       \n",
            " 5   installer          41743 non-null  object        \n",
            " 6   longitude          44550 non-null  float64       \n",
            " 7   latitude           44550 non-null  float64       \n",
            " 8   basin              44550 non-null  object        \n",
            " 9   region             44550 non-null  object        \n",
            " 10  district_code      44550 non-null  int64         \n",
            " 11  lga                44550 non-null  object        \n",
            " 12  ward               44550 non-null  object        \n",
            " 13  population         44550 non-null  float64       \n",
            " 14  public_meeting     42059 non-null  object        \n",
            " 15  scheme_management  41718 non-null  object        \n",
            " 16  permit             42214 non-null  object        \n",
            " 17  construction_year  44550 non-null  float64       \n",
            " 18  extraction_type    44550 non-null  object        \n",
            " 19  management         44550 non-null  object        \n",
            " 20  payment_type       44550 non-null  object        \n",
            " 21  water_quality      44550 non-null  object        \n",
            " 22  quantity           44550 non-null  object        \n",
            " 23  source             44550 non-null  object        \n",
            " 24  waterpoint_type    44550 non-null  object        \n",
            " 25  status_group       44550 non-null  object        \n",
            " 26  operational_year   44550 non-null  float64       \n",
            "dtypes: datetime64[ns](1), float64(7), int64(2), object(17)\n",
            "memory usage: 9.2+ MB\n"
          ],
          "name": "stdout"
        }
      ]
    },
    {
      "cell_type": "code",
      "metadata": {
        "colab": {
          "base_uri": "https://localhost:8080/"
        },
        "id": "-0VoUmUVTmnr",
        "outputId": "99c481e7-67a1-41ad-d0ab-beea50aa8627"
      },
      "source": [
        "print(train_df.groupby(['lga', 'ward','status_group']).size() )\n",
        "#print(data.groupby(['lga', 'ward']).size() "
      ],
      "execution_count": null,
      "outputs": [
        {
          "output_type": "stream",
          "text": [
            "lga           ward     status_group           \n",
            "Arusha Rural  Bangata  functional                 16\n",
            "                       functional needs repair     2\n",
            "                       non functional              9\n",
            "              Bwawani  functional                  9\n",
            "                       non functional             18\n",
            "                                                  ..\n",
            "Uyui          Ufuluma  non functional              8\n",
            "              Upuge    functional                  5\n",
            "                       non functional              8\n",
            "              Usagali  functional                  7\n",
            "                       non functional             12\n",
            "Length: 4868, dtype: int64\n"
          ],
          "name": "stdout"
        }
      ]
    },
    {
      "cell_type": "code",
      "metadata": {
        "id": "83DQUz9WTtgH"
      },
      "source": [
        "train_df.drop('ward',axis=1,inplace=True)\n",
        "test_df.drop('ward',axis=1,inplace=True)\n",
        "train_df.drop('installer',axis=1,inplace=True)\n",
        "test_df.drop('installer',axis=1,inplace=True)\n",
        "train_df.drop('public_meeting', axis=1, inplace=True)\n",
        "train_df.drop('permit', axis=1, inplace=True)\n",
        "test_df.drop('public_meeting', axis=1, inplace=True)\n",
        "test_df.drop('permit', axis=1, inplace=True)"
      ],
      "execution_count": null,
      "outputs": []
    },
    {
      "cell_type": "markdown",
      "metadata": {
        "id": "-ztEREHdHW9T"
      },
      "source": [
        "**We are also going to drop ward, installer, public_meeting, permit**"
      ]
    },
    {
      "cell_type": "code",
      "metadata": {
        "id": "fEMH0Mk4UCjM"
      },
      "source": [
        "#For every categorical response, convert the levels to lower case, in case there is random capitalization\n",
        "train_df.waterpoint_type = train_df.waterpoint_type.str.lower()\n",
        "train_df.funder = train_df.funder.str.lower()\n",
        "train_df.basin =train_df.basin.str.lower()\n",
        "train_df.region =train_df.region.str.lower()\n",
        "train_df.source = train_df.source.str.lower()\n",
        "train_df.lga =train_df.lga.str.lower()\n",
        "train_df.management = train_df.management.str.lower()\n",
        "train_df.quantity = train_df.quantity.str.lower()\n",
        "train_df.water_quality = train_df.water_quality.str.lower()\n",
        "train_df.payment_type=train_df.payment_type.str.lower()\n",
        "train_df.extraction_type=train_df.extraction_type.str.lower()"
      ],
      "execution_count": null,
      "outputs": []
    },
    {
      "cell_type": "code",
      "metadata": {
        "id": "hFt6jcKEUH62"
      },
      "source": [
        "#For every categorical response, convert the levels to lower case, in case there is random capitalization\n",
        "test_df.waterpoint_type = test_df.waterpoint_type.str.lower()\n",
        "test_df.funder = test_df.funder.str.lower()\n",
        "test_df.basin =test_df.basin.str.lower()\n",
        "test_df.region = test_df.region.str.lower()\n",
        "test_df.source = test_df.source.str.lower()\n",
        "test_df.lga = test_df.lga.str.lower()\n",
        "test_df.management = test_df.management.str.lower()\n",
        "test_df.quantity =test_df.quantity.str.lower()\n",
        "test_df.water_quality = test_df.water_quality.str.lower()\n",
        "test_df.payment_type=test_df.payment_type.str.lower()\n",
        "test_df.extraction_type=test_df.extraction_type.str.lower()"
      ],
      "execution_count": null,
      "outputs": []
    },
    {
      "cell_type": "markdown",
      "metadata": {
        "id": "dVVDi7YYHpwj"
      },
      "source": [
        "**Since we made a new column operational_year so we gonna drop date_recorded and construction_year**"
      ]
    },
    {
      "cell_type": "markdown",
      "metadata": {
        "id": "vh7IpiNOIGN1"
      },
      "source": [
        "**After cleaning the data we will download the clean training and testing data in a seperate file**"
      ]
    },
    {
      "cell_type": "code",
      "metadata": {
        "colab": {
          "base_uri": "https://localhost:8080/",
          "height": 916
        },
        "id": "iG_LgDpSUOR5",
        "outputId": "2efac1ff-e595-4e03-be58-5a309be1702d"
      },
      "source": [
        "train_df[\"funder\"].fillna(\"other\", inplace=True)\n",
        "train_df[\"scheme_management\"].fillna(\"other\", inplace=True)\n",
        "print(train_df.isnull().sum())\n",
        "train_df.drop('date_recorded', axis=1, inplace=True)\n",
        "train_df.drop('construction_year', axis=1, inplace=True)\n",
        "train_df.info()\n",
        "train_df.quantity.head(5)\n",
        "pd.DataFrame(train_df.to_csv(\"clean.csv\"))"
      ],
      "execution_count": null,
      "outputs": [
        {
          "output_type": "stream",
          "text": [
            "id                   0\n",
            "amount_tsh           0\n",
            "date_recorded        0\n",
            "funder               0\n",
            "gps_height           0\n",
            "longitude            0\n",
            "latitude             0\n",
            "basin                0\n",
            "region               0\n",
            "district_code        0\n",
            "lga                  0\n",
            "population           0\n",
            "scheme_management    0\n",
            "construction_year    0\n",
            "extraction_type      0\n",
            "management           0\n",
            "payment_type         0\n",
            "water_quality        0\n",
            "quantity             0\n",
            "source               0\n",
            "waterpoint_type      0\n",
            "status_group         0\n",
            "operational_year     0\n",
            "dtype: int64\n",
            "<class 'pandas.core.frame.DataFrame'>\n",
            "RangeIndex: 44550 entries, 0 to 44549\n",
            "Data columns (total 21 columns):\n",
            " #   Column             Non-Null Count  Dtype  \n",
            "---  ------             --------------  -----  \n",
            " 0   id                 44550 non-null  int64  \n",
            " 1   amount_tsh         44550 non-null  float64\n",
            " 2   funder             44550 non-null  object \n",
            " 3   gps_height         44550 non-null  float64\n",
            " 4   longitude          44550 non-null  float64\n",
            " 5   latitude           44550 non-null  float64\n",
            " 6   basin              44550 non-null  object \n",
            " 7   region             44550 non-null  object \n",
            " 8   district_code      44550 non-null  int64  \n",
            " 9   lga                44550 non-null  object \n",
            " 10  population         44550 non-null  float64\n",
            " 11  scheme_management  44550 non-null  object \n",
            " 12  extraction_type    44550 non-null  object \n",
            " 13  management         44550 non-null  object \n",
            " 14  payment_type       44550 non-null  object \n",
            " 15  water_quality      44550 non-null  object \n",
            " 16  quantity           44550 non-null  object \n",
            " 17  source             44550 non-null  object \n",
            " 18  waterpoint_type    44550 non-null  object \n",
            " 19  status_group       44550 non-null  object \n",
            " 20  operational_year   44550 non-null  float64\n",
            "dtypes: float64(6), int64(2), object(13)\n",
            "memory usage: 7.1+ MB\n"
          ],
          "name": "stdout"
        },
        {
          "output_type": "execute_result",
          "data": {
            "text/html": [
              "<div>\n",
              "<style scoped>\n",
              "    .dataframe tbody tr th:only-of-type {\n",
              "        vertical-align: middle;\n",
              "    }\n",
              "\n",
              "    .dataframe tbody tr th {\n",
              "        vertical-align: top;\n",
              "    }\n",
              "\n",
              "    .dataframe thead th {\n",
              "        text-align: right;\n",
              "    }\n",
              "</style>\n",
              "<table border=\"1\" class=\"dataframe\">\n",
              "  <thead>\n",
              "    <tr style=\"text-align: right;\">\n",
              "      <th></th>\n",
              "    </tr>\n",
              "  </thead>\n",
              "  <tbody>\n",
              "  </tbody>\n",
              "</table>\n",
              "</div>"
            ],
            "text/plain": [
              "Empty DataFrame\n",
              "Columns: []\n",
              "Index: []"
            ]
          },
          "metadata": {
            "tags": []
          },
          "execution_count": 276
        }
      ]
    },
    {
      "cell_type": "code",
      "metadata": {
        "colab": {
          "base_uri": "https://localhost:8080/"
        },
        "id": "cDRT3qtRUmtY",
        "outputId": "a23f0e35-21a4-4df7-aed2-a4bca4d7da51"
      },
      "source": [
        "test_df[\"funder\"].fillna(\"other\", inplace=True)\n",
        "test_df[\"scheme_management\"].fillna(\"other\", inplace=True)\n",
        "print(test_df.isnull().sum())\n",
        "test_df.drop('date_recorded', axis=1, inplace=True)\n",
        "test_df.drop('construction_year', axis=1, inplace=True)\n",
        "test_df.info()\n",
        "test_df.quantity.head(5)\n",
        "pd.DataFrame(test_df).to_csv(\"clean_test.csv\")"
      ],
      "execution_count": null,
      "outputs": [
        {
          "output_type": "stream",
          "text": [
            "Unnamed: 0           0\n",
            "id                   0\n",
            "amount_tsh           0\n",
            "date_recorded        0\n",
            "funder               0\n",
            "gps_height           0\n",
            "longitude            0\n",
            "latitude             0\n",
            "basin                0\n",
            "region               0\n",
            "district_code        0\n",
            "lga                  0\n",
            "population           0\n",
            "scheme_management    0\n",
            "construction_year    0\n",
            "extraction_type      0\n",
            "management           0\n",
            "payment_type         0\n",
            "water_quality        0\n",
            "quantity             0\n",
            "source               0\n",
            "waterpoint_type      0\n",
            "operational_year     0\n",
            "dtype: int64\n",
            "<class 'pandas.core.frame.DataFrame'>\n",
            "RangeIndex: 14850 entries, 0 to 14849\n",
            "Data columns (total 21 columns):\n",
            " #   Column             Non-Null Count  Dtype  \n",
            "---  ------             --------------  -----  \n",
            " 0   Unnamed: 0         14850 non-null  int64  \n",
            " 1   id                 14850 non-null  int64  \n",
            " 2   amount_tsh         14850 non-null  float64\n",
            " 3   funder             14850 non-null  object \n",
            " 4   gps_height         14850 non-null  float64\n",
            " 5   longitude          14850 non-null  float64\n",
            " 6   latitude           14850 non-null  float64\n",
            " 7   basin              14850 non-null  object \n",
            " 8   region             14850 non-null  object \n",
            " 9   district_code      14850 non-null  int64  \n",
            " 10  lga                14850 non-null  object \n",
            " 11  population         14850 non-null  float64\n",
            " 12  scheme_management  14850 non-null  object \n",
            " 13  extraction_type    14850 non-null  object \n",
            " 14  management         14850 non-null  object \n",
            " 15  payment_type       14850 non-null  object \n",
            " 16  water_quality      14850 non-null  object \n",
            " 17  quantity           14850 non-null  object \n",
            " 18  source             14850 non-null  object \n",
            " 19  waterpoint_type    14850 non-null  object \n",
            " 20  operational_year   14850 non-null  float64\n",
            "dtypes: float64(6), int64(3), object(12)\n",
            "memory usage: 2.4+ MB\n"
          ],
          "name": "stdout"
        }
      ]
    },
    {
      "cell_type": "code",
      "metadata": {
        "id": "6KuRQ_bCUb7P"
      },
      "source": [
        "train = pd.read_csv('clean.csv')\n",
        "test = pd.read_csv('clean_test.csv')"
      ],
      "execution_count": null,
      "outputs": []
    },
    {
      "cell_type": "code",
      "metadata": {
        "colab": {
          "base_uri": "https://localhost:8080/",
          "height": 326
        },
        "id": "wGAL4XM3UtB0",
        "outputId": "0cc8311c-0886-49d1-aadc-9c0b26eaafec"
      },
      "source": [
        "# Training data set after cleaning\n",
        "train.head()"
      ],
      "execution_count": null,
      "outputs": [
        {
          "output_type": "execute_result",
          "data": {
            "text/html": [
              "<div>\n",
              "<style scoped>\n",
              "    .dataframe tbody tr th:only-of-type {\n",
              "        vertical-align: middle;\n",
              "    }\n",
              "\n",
              "    .dataframe tbody tr th {\n",
              "        vertical-align: top;\n",
              "    }\n",
              "\n",
              "    .dataframe thead th {\n",
              "        text-align: right;\n",
              "    }\n",
              "</style>\n",
              "<table border=\"1\" class=\"dataframe\">\n",
              "  <thead>\n",
              "    <tr style=\"text-align: right;\">\n",
              "      <th></th>\n",
              "      <th>Unnamed: 0</th>\n",
              "      <th>id</th>\n",
              "      <th>amount_tsh</th>\n",
              "      <th>funder</th>\n",
              "      <th>gps_height</th>\n",
              "      <th>longitude</th>\n",
              "      <th>latitude</th>\n",
              "      <th>basin</th>\n",
              "      <th>region</th>\n",
              "      <th>district_code</th>\n",
              "      <th>lga</th>\n",
              "      <th>population</th>\n",
              "      <th>scheme_management</th>\n",
              "      <th>extraction_type</th>\n",
              "      <th>management</th>\n",
              "      <th>payment_type</th>\n",
              "      <th>water_quality</th>\n",
              "      <th>quantity</th>\n",
              "      <th>source</th>\n",
              "      <th>waterpoint_type</th>\n",
              "      <th>status_group</th>\n",
              "      <th>operational_year</th>\n",
              "    </tr>\n",
              "  </thead>\n",
              "  <tbody>\n",
              "    <tr>\n",
              "      <th>0</th>\n",
              "      <td>0</td>\n",
              "      <td>7411</td>\n",
              "      <td>0.000800</td>\n",
              "      <td>germany republi</td>\n",
              "      <td>9.041958</td>\n",
              "      <td>37.228664</td>\n",
              "      <td>-3.256505</td>\n",
              "      <td>pangani</td>\n",
              "      <td>kilimanjaro</td>\n",
              "      <td>5</td>\n",
              "      <td>hai</td>\n",
              "      <td>0.058363</td>\n",
              "      <td>Water Board</td>\n",
              "      <td>gravity</td>\n",
              "      <td>water board</td>\n",
              "      <td>per bucket</td>\n",
              "      <td>soft</td>\n",
              "      <td>enough</td>\n",
              "      <td>spring</td>\n",
              "      <td>communal standpipe</td>\n",
              "      <td>functional</td>\n",
              "      <td>5.0</td>\n",
              "    </tr>\n",
              "    <tr>\n",
              "      <th>1</th>\n",
              "      <td>1</td>\n",
              "      <td>18014</td>\n",
              "      <td>0.117624</td>\n",
              "      <td>cdtf</td>\n",
              "      <td>10.482517</td>\n",
              "      <td>34.615481</td>\n",
              "      <td>-9.972601</td>\n",
              "      <td>lake nyasa</td>\n",
              "      <td>iringa</td>\n",
              "      <td>5</td>\n",
              "      <td>ludewa</td>\n",
              "      <td>0.045247</td>\n",
              "      <td>Private operator</td>\n",
              "      <td>gravity</td>\n",
              "      <td>private operator</td>\n",
              "      <td>never pay</td>\n",
              "      <td>soft</td>\n",
              "      <td>enough</td>\n",
              "      <td>spring</td>\n",
              "      <td>communal standpipe</td>\n",
              "      <td>functional</td>\n",
              "      <td>27.0</td>\n",
              "    </tr>\n",
              "    <tr>\n",
              "      <th>2</th>\n",
              "      <td>2</td>\n",
              "      <td>26103</td>\n",
              "      <td>0.005859</td>\n",
              "      <td>government of tanzania</td>\n",
              "      <td>11.622378</td>\n",
              "      <td>36.658778</td>\n",
              "      <td>-3.321529</td>\n",
              "      <td>pangani</td>\n",
              "      <td>arusha</td>\n",
              "      <td>2</td>\n",
              "      <td>arusha rural</td>\n",
              "      <td>0.097708</td>\n",
              "      <td>VWC</td>\n",
              "      <td>gravity</td>\n",
              "      <td>vwc</td>\n",
              "      <td>never pay</td>\n",
              "      <td>soft</td>\n",
              "      <td>insufficient</td>\n",
              "      <td>spring</td>\n",
              "      <td>communal standpipe</td>\n",
              "      <td>non functional</td>\n",
              "      <td>11.0</td>\n",
              "    </tr>\n",
              "    <tr>\n",
              "      <th>3</th>\n",
              "      <td>3</td>\n",
              "      <td>31140</td>\n",
              "      <td>0.029388</td>\n",
              "      <td>district council</td>\n",
              "      <td>8.023439</td>\n",
              "      <td>33.628025</td>\n",
              "      <td>-8.860795</td>\n",
              "      <td>rufiji</td>\n",
              "      <td>mbeya</td>\n",
              "      <td>2</td>\n",
              "      <td>mbeya rural</td>\n",
              "      <td>0.130496</td>\n",
              "      <td>VWC</td>\n",
              "      <td>gravity</td>\n",
              "      <td>wug</td>\n",
              "      <td>annually</td>\n",
              "      <td>soft</td>\n",
              "      <td>insufficient</td>\n",
              "      <td>river</td>\n",
              "      <td>communal standpipe</td>\n",
              "      <td>functional</td>\n",
              "      <td>11.0</td>\n",
              "    </tr>\n",
              "    <tr>\n",
              "      <th>4</th>\n",
              "      <td>4</td>\n",
              "      <td>12286</td>\n",
              "      <td>0.035271</td>\n",
              "      <td>district council</td>\n",
              "      <td>9.601399</td>\n",
              "      <td>37.655509</td>\n",
              "      <td>-3.669777</td>\n",
              "      <td>pangani</td>\n",
              "      <td>kilimanjaro</td>\n",
              "      <td>2</td>\n",
              "      <td>mwanga</td>\n",
              "      <td>0.021640</td>\n",
              "      <td>VWC</td>\n",
              "      <td>gravity</td>\n",
              "      <td>vwc</td>\n",
              "      <td>monthly</td>\n",
              "      <td>soft</td>\n",
              "      <td>insufficient</td>\n",
              "      <td>spring</td>\n",
              "      <td>communal standpipe</td>\n",
              "      <td>functional</td>\n",
              "      <td>6.0</td>\n",
              "    </tr>\n",
              "  </tbody>\n",
              "</table>\n",
              "</div>"
            ],
            "text/plain": [
              "   Unnamed: 0     id  ...    status_group operational_year\n",
              "0           0   7411  ...      functional              5.0\n",
              "1           1  18014  ...      functional             27.0\n",
              "2           2  26103  ...  non functional             11.0\n",
              "3           3  31140  ...      functional             11.0\n",
              "4           4  12286  ...      functional              6.0\n",
              "\n",
              "[5 rows x 22 columns]"
            ]
          },
          "metadata": {
            "tags": []
          },
          "execution_count": 279
        }
      ]
    },
    {
      "cell_type": "code",
      "metadata": {
        "colab": {
          "base_uri": "https://localhost:8080/",
          "height": 326
        },
        "id": "D69vX_fnU5TA",
        "outputId": "95e404c4-f212-4a47-bc79-906d7bb19ef7"
      },
      "source": [
        "test.head()"
      ],
      "execution_count": null,
      "outputs": [
        {
          "output_type": "execute_result",
          "data": {
            "text/html": [
              "<div>\n",
              "<style scoped>\n",
              "    .dataframe tbody tr th:only-of-type {\n",
              "        vertical-align: middle;\n",
              "    }\n",
              "\n",
              "    .dataframe tbody tr th {\n",
              "        vertical-align: top;\n",
              "    }\n",
              "\n",
              "    .dataframe thead th {\n",
              "        text-align: right;\n",
              "    }\n",
              "</style>\n",
              "<table border=\"1\" class=\"dataframe\">\n",
              "  <thead>\n",
              "    <tr style=\"text-align: right;\">\n",
              "      <th></th>\n",
              "      <th>Unnamed: 0</th>\n",
              "      <th>Unnamed: 0.1</th>\n",
              "      <th>id</th>\n",
              "      <th>amount_tsh</th>\n",
              "      <th>funder</th>\n",
              "      <th>gps_height</th>\n",
              "      <th>longitude</th>\n",
              "      <th>latitude</th>\n",
              "      <th>basin</th>\n",
              "      <th>region</th>\n",
              "      <th>district_code</th>\n",
              "      <th>lga</th>\n",
              "      <th>population</th>\n",
              "      <th>scheme_management</th>\n",
              "      <th>extraction_type</th>\n",
              "      <th>management</th>\n",
              "      <th>payment_type</th>\n",
              "      <th>water_quality</th>\n",
              "      <th>quantity</th>\n",
              "      <th>source</th>\n",
              "      <th>waterpoint_type</th>\n",
              "      <th>operational_year</th>\n",
              "    </tr>\n",
              "  </thead>\n",
              "  <tbody>\n",
              "    <tr>\n",
              "      <th>0</th>\n",
              "      <td>0</td>\n",
              "      <td>0</td>\n",
              "      <td>21215</td>\n",
              "      <td>0.114274</td>\n",
              "      <td>kuamu</td>\n",
              "      <td>12.992155</td>\n",
              "      <td>35.247289</td>\n",
              "      <td>-8.113243</td>\n",
              "      <td>rufiji</td>\n",
              "      <td>iringa</td>\n",
              "      <td>1</td>\n",
              "      <td>iringa rural</td>\n",
              "      <td>1.536154</td>\n",
              "      <td>VWC</td>\n",
              "      <td>gravity</td>\n",
              "      <td>vwc</td>\n",
              "      <td>never pay</td>\n",
              "      <td>soft</td>\n",
              "      <td>dry</td>\n",
              "      <td>spring</td>\n",
              "      <td>communal standpipe</td>\n",
              "      <td>7.0</td>\n",
              "    </tr>\n",
              "    <tr>\n",
              "      <th>1</th>\n",
              "      <td>1</td>\n",
              "      <td>1</td>\n",
              "      <td>25893</td>\n",
              "      <td>0.014274</td>\n",
              "      <td>kirde</td>\n",
              "      <td>8.376026</td>\n",
              "      <td>36.163435</td>\n",
              "      <td>-5.218454</td>\n",
              "      <td>wami / ruvu</td>\n",
              "      <td>dodoma</td>\n",
              "      <td>1</td>\n",
              "      <td>kondoa</td>\n",
              "      <td>0.398040</td>\n",
              "      <td>VWC</td>\n",
              "      <td>mono</td>\n",
              "      <td>vwc</td>\n",
              "      <td>never pay</td>\n",
              "      <td>soft</td>\n",
              "      <td>enough</td>\n",
              "      <td>machine dbh</td>\n",
              "      <td>communal standpipe</td>\n",
              "      <td>12.0</td>\n",
              "    </tr>\n",
              "    <tr>\n",
              "      <th>2</th>\n",
              "      <td>2</td>\n",
              "      <td>2</td>\n",
              "      <td>15713</td>\n",
              "      <td>0.014274</td>\n",
              "      <td>water</td>\n",
              "      <td>8.376026</td>\n",
              "      <td>36.363337</td>\n",
              "      <td>-7.297600</td>\n",
              "      <td>rufiji</td>\n",
              "      <td>dodoma</td>\n",
              "      <td>1</td>\n",
              "      <td>mpwapwa</td>\n",
              "      <td>0.398040</td>\n",
              "      <td>VWC</td>\n",
              "      <td>nira/tanira</td>\n",
              "      <td>vwc</td>\n",
              "      <td>never pay</td>\n",
              "      <td>soft</td>\n",
              "      <td>enough</td>\n",
              "      <td>shallow well</td>\n",
              "      <td>hand pump</td>\n",
              "      <td>12.0</td>\n",
              "    </tr>\n",
              "    <tr>\n",
              "      <th>3</th>\n",
              "      <td>3</td>\n",
              "      <td>3</td>\n",
              "      <td>17247</td>\n",
              "      <td>0.014274</td>\n",
              "      <td>ka</td>\n",
              "      <td>8.376026</td>\n",
              "      <td>31.496315</td>\n",
              "      <td>-2.167140</td>\n",
              "      <td>lake victoria</td>\n",
              "      <td>kagera</td>\n",
              "      <td>3</td>\n",
              "      <td>muleba</td>\n",
              "      <td>0.398040</td>\n",
              "      <td>VWC</td>\n",
              "      <td>other</td>\n",
              "      <td>vwc</td>\n",
              "      <td>never pay</td>\n",
              "      <td>soft</td>\n",
              "      <td>enough</td>\n",
              "      <td>shallow well</td>\n",
              "      <td>hand pump</td>\n",
              "      <td>12.0</td>\n",
              "    </tr>\n",
              "    <tr>\n",
              "      <th>4</th>\n",
              "      <td>4</td>\n",
              "      <td>4</td>\n",
              "      <td>1248</td>\n",
              "      <td>0.014274</td>\n",
              "      <td>world vision</td>\n",
              "      <td>8.376026</td>\n",
              "      <td>31.843905</td>\n",
              "      <td>-1.244841</td>\n",
              "      <td>lake victoria</td>\n",
              "      <td>kagera</td>\n",
              "      <td>2</td>\n",
              "      <td>bukoba rural</td>\n",
              "      <td>0.398040</td>\n",
              "      <td>VWC</td>\n",
              "      <td>gravity</td>\n",
              "      <td>vwc</td>\n",
              "      <td>never pay</td>\n",
              "      <td>soft</td>\n",
              "      <td>insufficient</td>\n",
              "      <td>rainwater harvesting</td>\n",
              "      <td>communal standpipe</td>\n",
              "      <td>12.0</td>\n",
              "    </tr>\n",
              "  </tbody>\n",
              "</table>\n",
              "</div>"
            ],
            "text/plain": [
              "   Unnamed: 0  Unnamed: 0.1  ...     waterpoint_type  operational_year\n",
              "0           0             0  ...  communal standpipe               7.0\n",
              "1           1             1  ...  communal standpipe              12.0\n",
              "2           2             2  ...           hand pump              12.0\n",
              "3           3             3  ...           hand pump              12.0\n",
              "4           4             4  ...  communal standpipe              12.0\n",
              "\n",
              "[5 rows x 22 columns]"
            ]
          },
          "metadata": {
            "tags": []
          },
          "execution_count": 280
        }
      ]
    },
    {
      "cell_type": "markdown",
      "metadata": {
        "id": "tgbv6zXXIkMj"
      },
      "source": [
        "**It was observed that there are new column formed named Unnmed:0 and Unnamed:0.1 so we are going to drop them**"
      ]
    },
    {
      "cell_type": "code",
      "metadata": {
        "id": "L5IFT-M-VKwX"
      },
      "source": [
        "train.drop('Unnamed: 0', axis=1, inplace=True)\n",
        "test.drop('Unnamed: 0', axis=1, inplace=True)\n",
        "target=train.pop('status_group')"
      ],
      "execution_count": null,
      "outputs": []
    },
    {
      "cell_type": "code",
      "metadata": {
        "id": "UtEXj2M5VNS2"
      },
      "source": [
        "test.drop('Unnamed: 0.1', axis=1, inplace=True)"
      ],
      "execution_count": null,
      "outputs": []
    },
    {
      "cell_type": "markdown",
      "metadata": {
        "id": "n5VhX5xlI4S6"
      },
      "source": [
        "**With This our data cleaning is over and finally we are left with 20 features**"
      ]
    },
    {
      "cell_type": "code",
      "metadata": {
        "colab": {
          "base_uri": "https://localhost:8080/"
        },
        "id": "AB20AwZyVUug",
        "outputId": "8b8f52d6-e4a1-4803-8709-8e4872f25bb5"
      },
      "source": [
        "test.shape, train.shape,target.shape"
      ],
      "execution_count": null,
      "outputs": [
        {
          "output_type": "execute_result",
          "data": {
            "text/plain": [
              "((14850, 20), (44550, 20), (44550,))"
            ]
          },
          "metadata": {
            "tags": []
          },
          "execution_count": 283
        }
      ]
    },
    {
      "cell_type": "code",
      "metadata": {
        "colab": {
          "base_uri": "https://localhost:8080/"
        },
        "id": "ed1d1PevVyD7",
        "outputId": "66152f30-1b3f-4f6a-dee2-a4da5000b8ce"
      },
      "source": [
        "target.head()"
      ],
      "execution_count": null,
      "outputs": [
        {
          "output_type": "execute_result",
          "data": {
            "text/plain": [
              "0        functional\n",
              "1        functional\n",
              "2    non functional\n",
              "3        functional\n",
              "4        functional\n",
              "Name: status_group, dtype: object"
            ]
          },
          "metadata": {
            "tags": []
          },
          "execution_count": 284
        }
      ]
    },
    {
      "cell_type": "code",
      "metadata": {
        "colab": {
          "base_uri": "https://localhost:8080/"
        },
        "id": "tPXIcx5gV7uh",
        "outputId": "e132124a-480f-4d73-edd4-7433131802db"
      },
      "source": [
        "train['train']=1\n",
        "test['train']=0\n",
        "train.info()"
      ],
      "execution_count": null,
      "outputs": [
        {
          "output_type": "stream",
          "text": [
            "<class 'pandas.core.frame.DataFrame'>\n",
            "RangeIndex: 44550 entries, 0 to 44549\n",
            "Data columns (total 21 columns):\n",
            " #   Column             Non-Null Count  Dtype  \n",
            "---  ------             --------------  -----  \n",
            " 0   id                 44550 non-null  int64  \n",
            " 1   amount_tsh         44550 non-null  float64\n",
            " 2   funder             44550 non-null  object \n",
            " 3   gps_height         44550 non-null  float64\n",
            " 4   longitude          44550 non-null  float64\n",
            " 5   latitude           44550 non-null  float64\n",
            " 6   basin              44550 non-null  object \n",
            " 7   region             44550 non-null  object \n",
            " 8   district_code      44550 non-null  int64  \n",
            " 9   lga                44550 non-null  object \n",
            " 10  population         44550 non-null  float64\n",
            " 11  scheme_management  44550 non-null  object \n",
            " 12  extraction_type    44550 non-null  object \n",
            " 13  management         44550 non-null  object \n",
            " 14  payment_type       44550 non-null  object \n",
            " 15  water_quality      44550 non-null  object \n",
            " 16  quantity           44550 non-null  object \n",
            " 17  source             44550 non-null  object \n",
            " 18  waterpoint_type    44550 non-null  object \n",
            " 19  operational_year   44550 non-null  float64\n",
            " 20  train              44550 non-null  int64  \n",
            "dtypes: float64(6), int64(3), object(12)\n",
            "memory usage: 7.1+ MB\n"
          ],
          "name": "stdout"
        }
      ]
    },
    {
      "cell_type": "code",
      "metadata": {
        "id": "MtnvNMNlWNmw"
      },
      "source": [
        "combined = pd.concat([train, test])"
      ],
      "execution_count": null,
      "outputs": []
    },
    {
      "cell_type": "code",
      "metadata": {
        "colab": {
          "base_uri": "https://localhost:8080/"
        },
        "id": "Zxtyqc5xWSQS",
        "outputId": "0e78f654-49f9-45ca-b4b9-17a719d4eae4"
      },
      "source": [
        "combined.info()"
      ],
      "execution_count": null,
      "outputs": [
        {
          "output_type": "stream",
          "text": [
            "<class 'pandas.core.frame.DataFrame'>\n",
            "Int64Index: 59400 entries, 0 to 14849\n",
            "Data columns (total 21 columns):\n",
            " #   Column             Non-Null Count  Dtype  \n",
            "---  ------             --------------  -----  \n",
            " 0   id                 59400 non-null  int64  \n",
            " 1   amount_tsh         59400 non-null  float64\n",
            " 2   funder             59400 non-null  object \n",
            " 3   gps_height         59400 non-null  float64\n",
            " 4   longitude          59400 non-null  float64\n",
            " 5   latitude           59400 non-null  float64\n",
            " 6   basin              59400 non-null  object \n",
            " 7   region             59400 non-null  object \n",
            " 8   district_code      59400 non-null  int64  \n",
            " 9   lga                59400 non-null  object \n",
            " 10  population         59400 non-null  float64\n",
            " 11  scheme_management  59400 non-null  object \n",
            " 12  extraction_type    59400 non-null  object \n",
            " 13  management         59400 non-null  object \n",
            " 14  payment_type       59400 non-null  object \n",
            " 15  water_quality      59400 non-null  object \n",
            " 16  quantity           59400 non-null  object \n",
            " 17  source             59400 non-null  object \n",
            " 18  waterpoint_type    59400 non-null  object \n",
            " 19  operational_year   59400 non-null  float64\n",
            " 20  train              59400 non-null  int64  \n",
            "dtypes: float64(6), int64(3), object(12)\n",
            "memory usage: 10.0+ MB\n"
          ],
          "name": "stdout"
        }
      ]
    },
    {
      "cell_type": "markdown",
      "metadata": {
        "id": "dQ1sg8x4JQYs"
      },
      "source": [
        "### Tacking of Catagorial Data"
      ]
    },
    {
      "cell_type": "markdown",
      "metadata": {
        "id": "H35P6VZPJdbY"
      },
      "source": [
        "* We use pd.factorize to tackle catagorial data.\n",
        "* It Encodes the object as an enumerated type"
      ]
    },
    {
      "cell_type": "code",
      "metadata": {
        "colab": {
          "base_uri": "https://localhost:8080/"
        },
        "id": "OJJUJ_GbY0n2",
        "outputId": "2afd2fda-962d-4c9d-cf1e-ab18a0f7f7ed"
      },
      "source": [
        "combined['funder'] = pd.factorize(combined['funder'])[0]\n",
        "combined['scheme_management'] = pd.factorize(combined['scheme_management'])[0]\n",
        "combined['extraction_type'] = pd.factorize(combined['extraction_type'])[0]\n",
        "combined['management'] = pd.factorize(combined['management'])[0]\n",
        "combined['payment_type'] = pd.factorize(combined['payment_type'])[0]\n",
        "combined['water_quality'] = pd.factorize(combined['water_quality'])[0]\n",
        "combined['quantity'] = pd.factorize(combined['quantity'])[0]\n",
        "combined['source'] = pd.factorize(combined['source'])[0]\n",
        "combined['waterpoint_type'] = pd.factorize(combined['waterpoint_type'])[0]\n",
        "combined['basin'] = pd.factorize(combined['basin'])[0]\n",
        "combined['region'] = pd.factorize(combined['region'])[0]\n",
        "combined['lga'] = pd.factorize(combined['lga'])[0]\n",
        "combined['district_code'] = pd.factorize(combined['district_code'])[0]\n",
        "combined['operational_year'] = pd.factorize(combined['operational_year'])[0]\n",
        "combined.district_code.head(5)"
      ],
      "execution_count": null,
      "outputs": [
        {
          "output_type": "execute_result",
          "data": {
            "text/plain": [
              "0    0\n",
              "1    0\n",
              "2    1\n",
              "3    1\n",
              "4    1\n",
              "Name: district_code, dtype: int64"
            ]
          },
          "metadata": {
            "tags": []
          },
          "execution_count": 288
        }
      ]
    },
    {
      "cell_type": "markdown",
      "metadata": {
        "id": "ls3gMvG9QyZB"
      },
      "source": [
        "### Observation\n",
        "After Cleaning the data we are left with 19 input features those are \n",
        "* amount_tsh\n",
        "* funder\n",
        "* gps_height\n",
        "* latitude\n",
        "* longitude\n",
        "* basin\n",
        "* region\n",
        "* district_code\n",
        "* lga\n",
        "* population\n",
        "* scheme_management\n",
        "* extraction_type\n",
        "* Management\n",
        "* Payment type\n",
        "* water_quality\n",
        "* quantity\n",
        "* source\n",
        "* waterpoint_type\n",
        "* operational_year"
      ]
    },
    {
      "cell_type": "markdown",
      "metadata": {
        "id": "i_8Smk8yKBGX"
      },
      "source": [
        "# 3. Declaration of 1st ML framework\n"
      ]
    },
    {
      "cell_type": "code",
      "metadata": {
        "id": "duFq0kICY_XZ"
      },
      "source": [
        "train_df = combined[combined[\"train\"] == 1]\n",
        "test_df = combined[combined[\"train\"] == 0]"
      ],
      "execution_count": null,
      "outputs": []
    },
    {
      "cell_type": "code",
      "metadata": {
        "colab": {
          "base_uri": "https://localhost:8080/"
        },
        "id": "FoWIGQ_9ZE_W",
        "outputId": "f09efc1c-b662-4472-ebeb-32f16ebca594"
      },
      "source": [
        "train_df.drop([\"train\"], axis=1, inplace=True)\n",
        "train_df.drop(['id'],axis=1, inplace=True)\n",
        "test_df.drop([\"train\"], axis=1, inplace=True)"
      ],
      "execution_count": null,
      "outputs": [
        {
          "output_type": "stream",
          "text": [
            "/usr/local/lib/python3.7/dist-packages/pandas/core/frame.py:4174: SettingWithCopyWarning: \n",
            "A value is trying to be set on a copy of a slice from a DataFrame\n",
            "\n",
            "See the caveats in the documentation: https://pandas.pydata.org/pandas-docs/stable/user_guide/indexing.html#returning-a-view-versus-a-copy\n",
            "  errors=errors,\n"
          ],
          "name": "stderr"
        }
      ]
    },
    {
      "cell_type": "code",
      "metadata": {
        "id": "2fquEKApZUSS"
      },
      "source": [
        "#define X train\n",
        "X = train_df\n",
        "#y_train indentified at the beginning \n",
        "y = target"
      ],
      "execution_count": null,
      "outputs": []
    },
    {
      "cell_type": "markdown",
      "metadata": {
        "id": "lFi3Bq9MKYHs"
      },
      "source": [
        "**We Choose Random Forest Classifier as our 1st ML framework because**\n",
        "* It works well on high number data sets.\n",
        "* It also works good with multiclass classification\n",
        "* We also going to use cross validation on training dataset and look for accuracy score."
      ]
    },
    {
      "cell_type": "markdown",
      "metadata": {
        "id": "aXh6KWgoFIPe"
      },
      "source": [
        "### Random Forest Classifier"
      ]
    },
    {
      "cell_type": "code",
      "metadata": {
        "id": "AzYvK-d_ZXeR"
      },
      "source": [
        "from sklearn.ensemble import RandomForestClassifier\n",
        "model_rfc = RandomForestClassifier(n_estimators=1000)"
      ],
      "execution_count": null,
      "outputs": []
    },
    {
      "cell_type": "code",
      "metadata": {
        "id": "BbykNvahZdmE"
      },
      "source": [
        "from sklearn.model_selection import cross_val_score"
      ],
      "execution_count": null,
      "outputs": []
    },
    {
      "cell_type": "code",
      "metadata": {
        "id": "UplMv9DTZm-d"
      },
      "source": [
        "k = cross_val_score(model_rfc, X, y, cv=5,scoring='accuracy')"
      ],
      "execution_count": null,
      "outputs": []
    },
    {
      "cell_type": "code",
      "metadata": {
        "colab": {
          "base_uri": "https://localhost:8080/"
        },
        "id": "sbXU6GCXUL8z",
        "outputId": "5a0dda49-7feb-48e6-c98b-4dc3142b6ca9"
      },
      "source": [
        "print(k)"
      ],
      "execution_count": null,
      "outputs": [
        {
          "output_type": "stream",
          "text": [
            "[0.80078563 0.79169473 0.79416386 0.80482604 0.80022447]\n"
          ],
          "name": "stdout"
        }
      ]
    },
    {
      "cell_type": "code",
      "metadata": {
        "colab": {
          "base_uri": "https://localhost:8080/"
        },
        "id": "BoiSgXBuZuwV",
        "outputId": "0ce7bd4f-e93f-4b05-e580-b262cf9fbf5f"
      },
      "source": [
        "np.mean(k)"
      ],
      "execution_count": null,
      "outputs": [
        {
          "output_type": "execute_result",
          "data": {
            "text/plain": [
              "0.7983389450056115"
            ]
          },
          "metadata": {
            "tags": []
          },
          "execution_count": 297
        }
      ]
    },
    {
      "cell_type": "markdown",
      "metadata": {
        "id": "tBff-Oo7K5XL"
      },
      "source": [
        "# 5. Relative Order of Importance of Features for Random Forest Classifier"
      ]
    },
    {
      "cell_type": "code",
      "metadata": {
        "id": "DiPCq4hPZx7l",
        "colab": {
          "base_uri": "https://localhost:8080/"
        },
        "outputId": "317aa172-293e-44b2-eaf4-d256171daf66"
      },
      "source": [
        "model_rfc.fit(X,y)\n",
        "X.info()\n",
        "importances = model_rfc.feature_importances_\n",
        "importances"
      ],
      "execution_count": null,
      "outputs": [
        {
          "output_type": "stream",
          "text": [
            "<class 'pandas.core.frame.DataFrame'>\n",
            "Int64Index: 44550 entries, 0 to 44549\n",
            "Data columns (total 19 columns):\n",
            " #   Column             Non-Null Count  Dtype  \n",
            "---  ------             --------------  -----  \n",
            " 0   amount_tsh         44550 non-null  float64\n",
            " 1   funder             44550 non-null  int64  \n",
            " 2   gps_height         44550 non-null  float64\n",
            " 3   longitude          44550 non-null  float64\n",
            " 4   latitude           44550 non-null  float64\n",
            " 5   basin              44550 non-null  int64  \n",
            " 6   region             44550 non-null  int64  \n",
            " 7   district_code      44550 non-null  int64  \n",
            " 8   lga                44550 non-null  int64  \n",
            " 9   population         44550 non-null  float64\n",
            " 10  scheme_management  44550 non-null  int64  \n",
            " 11  extraction_type    44550 non-null  int64  \n",
            " 12  management         44550 non-null  int64  \n",
            " 13  payment_type       44550 non-null  int64  \n",
            " 14  water_quality      44550 non-null  int64  \n",
            " 15  quantity           44550 non-null  int64  \n",
            " 16  source             44550 non-null  int64  \n",
            " 17  waterpoint_type    44550 non-null  int64  \n",
            " 18  operational_year   44550 non-null  int64  \n",
            "dtypes: float64(5), int64(14)\n",
            "memory usage: 6.8 MB\n"
          ],
          "name": "stdout"
        },
        {
          "output_type": "execute_result",
          "data": {
            "text/plain": [
              "array([0.02640696, 0.05598685, 0.07553677, 0.14896252, 0.14654256,\n",
              "       0.01700602, 0.02231486, 0.02199057, 0.03072294, 0.05198983,\n",
              "       0.0184554 , 0.04594058, 0.01885522, 0.03602204, 0.01353667,\n",
              "       0.11783013, 0.02974335, 0.06600766, 0.05614908])"
            ]
          },
          "metadata": {
            "tags": []
          },
          "execution_count": 298
        }
      ]
    },
    {
      "cell_type": "code",
      "metadata": {
        "id": "WoxyZPmmZ24a",
        "colab": {
          "base_uri": "https://localhost:8080/"
        },
        "outputId": "bc5cfa02-36f5-4c87-a637-051912454195"
      },
      "source": [
        "indices = np.argsort(importances)[::-1]\n",
        "\n",
        "# Print the feature ranking\n",
        "print(\"Feature ranking:\")\n",
        "\n",
        "for f in range(X.shape[1]):\n",
        "    print(\"%d. feature %d (%f)\" % (f + 1, indices[f], importances[indices[f]]))\n",
        "\n",
        "for f in range(X.shape[1]):\n",
        "    print(X.columns[indices[f]],end=', ')"
      ],
      "execution_count": null,
      "outputs": [
        {
          "output_type": "stream",
          "text": [
            "Feature ranking:\n",
            "1. feature 3 (0.148963)\n",
            "2. feature 4 (0.146543)\n",
            "3. feature 15 (0.117830)\n",
            "4. feature 2 (0.075537)\n",
            "5. feature 17 (0.066008)\n",
            "6. feature 18 (0.056149)\n",
            "7. feature 1 (0.055987)\n",
            "8. feature 9 (0.051990)\n",
            "9. feature 11 (0.045941)\n",
            "10. feature 13 (0.036022)\n",
            "11. feature 8 (0.030723)\n",
            "12. feature 16 (0.029743)\n",
            "13. feature 0 (0.026407)\n",
            "14. feature 6 (0.022315)\n",
            "15. feature 7 (0.021991)\n",
            "16. feature 12 (0.018855)\n",
            "17. feature 10 (0.018455)\n",
            "18. feature 5 (0.017006)\n",
            "19. feature 14 (0.013537)\n",
            "longitude, latitude, quantity, gps_height, waterpoint_type, operational_year, funder, population, extraction_type, payment_type, lga, source, amount_tsh, region, district_code, management, scheme_management, basin, water_quality, "
          ],
          "name": "stdout"
        }
      ]
    },
    {
      "cell_type": "code",
      "metadata": {
        "id": "4C26dVbtZ8vd"
      },
      "source": [
        "X_test=test_df"
      ],
      "execution_count": null,
      "outputs": []
    },
    {
      "cell_type": "code",
      "metadata": {
        "id": "eYaQ4B8kZ_9-",
        "colab": {
          "base_uri": "https://localhost:8080/"
        },
        "outputId": "1bb3d5e6-8be8-407e-fc69-ef8f50df6308"
      },
      "source": [
        "a=X_test['id']\n",
        "X_test.drop(['id'],axis=1, inplace=True)\n",
        "y_pred = model_rfc.predict(X_test)"
      ],
      "execution_count": null,
      "outputs": [
        {
          "output_type": "stream",
          "text": [
            "/usr/local/lib/python3.7/dist-packages/pandas/core/frame.py:4174: SettingWithCopyWarning: \n",
            "A value is trying to be set on a copy of a slice from a DataFrame\n",
            "\n",
            "See the caveats in the documentation: https://pandas.pydata.org/pandas-docs/stable/user_guide/indexing.html#returning-a-view-versus-a-copy\n",
            "  errors=errors,\n"
          ],
          "name": "stderr"
        }
      ]
    },
    {
      "cell_type": "code",
      "metadata": {
        "id": "FZjjvT8CaBNt"
      },
      "source": [
        "y_pred=pd.DataFrame(y_pred)\n",
        "y_pred['id']=a\n",
        "y_pred.columns=['status_group','id']\n",
        "y_pred=y_pred[['id','status_group']]"
      ],
      "execution_count": null,
      "outputs": []
    },
    {
      "cell_type": "code",
      "metadata": {
        "id": "zj6aTjATaGFM",
        "colab": {
          "base_uri": "https://localhost:8080/"
        },
        "outputId": "2947dd2c-e5eb-402a-a420-64c257564a47"
      },
      "source": [
        "y_pred.info()"
      ],
      "execution_count": null,
      "outputs": [
        {
          "output_type": "stream",
          "text": [
            "<class 'pandas.core.frame.DataFrame'>\n",
            "RangeIndex: 14850 entries, 0 to 14849\n",
            "Data columns (total 2 columns):\n",
            " #   Column        Non-Null Count  Dtype \n",
            "---  ------        --------------  ----- \n",
            " 0   id            14850 non-null  int64 \n",
            " 1   status_group  14850 non-null  object\n",
            "dtypes: int64(1), object(1)\n",
            "memory usage: 232.2+ KB\n"
          ],
          "name": "stdout"
        }
      ]
    },
    {
      "cell_type": "code",
      "metadata": {
        "id": "T0qfAY7PaKRU"
      },
      "source": [
        "pd.DataFrame(y_pred).to_csv(\"RFC_predicted_output.csv\")"
      ],
      "execution_count": null,
      "outputs": []
    },
    {
      "cell_type": "markdown",
      "metadata": {
        "id": "cXJcT97lLPCm"
      },
      "source": [
        "### Hyper Parameter Tuning For Random Forest Classifier"
      ]
    },
    {
      "cell_type": "code",
      "metadata": {
        "id": "KM7qlWdCaMF1"
      },
      "source": [
        "from sklearn.model_selection import GridSearchCV\n",
        "from sklearn.metrics import classification_report\n",
        "from sklearn.metrics import roc_auc_score"
      ],
      "execution_count": null,
      "outputs": []
    },
    {
      "cell_type": "code",
      "metadata": {
        "colab": {
          "base_uri": "https://localhost:8080/"
        },
        "id": "_zbeb0LJ6Fjq",
        "outputId": "360aff51-448b-4c5e-f0df-869393009bee"
      },
      "source": [
        "scoring='accuracy'\n",
        "rfc = RandomForestClassifier()\n",
        "hyperparameters = {'max_depth':[10,20], 'n_estimators':[100,500,1000]}\n",
        "clf = GridSearchCV(rfc, param_grid=hyperparameters, scoring=scoring)\n",
        "clf.fit(X,y)\n",
        "print('Best Parameters: ')\n",
        "print(clf.best_params_)\n",
        "print('Best ' + scoring + ':' + str(clf.best_score_))"
      ],
      "execution_count": null,
      "outputs": [
        {
          "output_type": "stream",
          "text": [
            "Best Parameters: \n",
            "{'max_depth': 20, 'n_estimators': 1000}\n",
            "Best accuracy:0.8032996632996632\n"
          ],
          "name": "stdout"
        }
      ]
    },
    {
      "cell_type": "markdown",
      "metadata": {
        "id": "6TT4fBpHLcWd"
      },
      "source": [
        "### 7. Making Predictions and download the labels for test dataset for Random Forest Classifier."
      ]
    },
    {
      "cell_type": "code",
      "metadata": {
        "colab": {
          "base_uri": "https://localhost:8080/"
        },
        "id": "IdKPaReno5rv",
        "outputId": "647e35e0-33a8-43ad-82f5-5539e8548d6c"
      },
      "source": [
        "y_pred_rfc = clf.predict(X_test)\n",
        "y_pred_rfc = pd.DataFrame(y_pred_rfc)\n",
        "y_pred_rfc['id'] = a\n",
        "y_pred_rfc.columns = ['status_group','id']\n",
        "y_pred_rfc = y_pred_rfc[['id','status_group']]\n",
        "y_pred_rfc.info()"
      ],
      "execution_count": null,
      "outputs": [
        {
          "output_type": "stream",
          "text": [
            "<class 'pandas.core.frame.DataFrame'>\n",
            "RangeIndex: 14850 entries, 0 to 14849\n",
            "Data columns (total 2 columns):\n",
            " #   Column        Non-Null Count  Dtype \n",
            "---  ------        --------------  ----- \n",
            " 0   id            14850 non-null  int64 \n",
            " 1   status_group  14850 non-null  object\n",
            "dtypes: int64(1), object(1)\n",
            "memory usage: 232.2+ KB\n"
          ],
          "name": "stdout"
        }
      ]
    },
    {
      "cell_type": "code",
      "metadata": {
        "id": "b4H6AVJ2pRad"
      },
      "source": [
        "pd.DataFrame(y_pred_rfc).to_csv(\"RFC_predicted_output2.csv\")"
      ],
      "execution_count": null,
      "outputs": []
    },
    {
      "cell_type": "markdown",
      "metadata": {
        "id": "v-6Fx1SqMNPo"
      },
      "source": [
        "# 4. Diligent hyperparameter tuning for three other frameworks.\n",
        "\n",
        "We choose \n",
        "* XGB Classifier\n",
        "* Ridge Classifier \n",
        "* K- Nearest Neighbors(KNN) \n",
        "\n",
        "For All 3 models we did cross validation, hyperparameters tuning and Downloaded the test output labels and we also determine the feature importance for XGB classifier."
      ]
    },
    {
      "cell_type": "markdown",
      "metadata": {
        "id": "AFAMX3QyFTYn"
      },
      "source": [
        "### XGB Classifier"
      ]
    },
    {
      "cell_type": "code",
      "metadata": {
        "id": "XpMsJ2_ZUFz1"
      },
      "source": [
        "from xgboost import XGBClassifier\n",
        "model_xgc = XGBClassifier()\n",
        "model_xgc.fit(X, y)\n",
        "\n",
        "k2 = cross_val_score(model_xgc, X, y, cv=5,scoring='accuracy')"
      ],
      "execution_count": null,
      "outputs": []
    },
    {
      "cell_type": "code",
      "metadata": {
        "id": "2xD11N9SdaS5",
        "colab": {
          "base_uri": "https://localhost:8080/"
        },
        "outputId": "9e59ccd5-5de7-4239-e42a-4e80cf194207"
      },
      "source": [
        "print(k2)\n",
        "np.mean(k2)"
      ],
      "execution_count": null,
      "outputs": [
        {
          "output_type": "stream",
          "text": [
            "[0.74837262 0.74320988 0.74500561 0.74433221 0.73782267]\n"
          ],
          "name": "stdout"
        },
        {
          "output_type": "execute_result",
          "data": {
            "text/plain": [
              "0.7437485970819304"
            ]
          },
          "metadata": {
            "tags": []
          },
          "execution_count": 310
        }
      ]
    },
    {
      "cell_type": "markdown",
      "metadata": {
        "id": "xbOjlZqeNsmX"
      },
      "source": [
        "**Feature Importance determination for XGB Classifier**"
      ]
    },
    {
      "cell_type": "code",
      "metadata": {
        "id": "Y30zU0X0dc6-",
        "colab": {
          "base_uri": "https://localhost:8080/"
        },
        "outputId": "6ecd17d3-1477-420a-9d41-cfa3fe47aa32"
      },
      "source": [
        "X.info()\n",
        "importances = model_xgc.feature_importances_\n",
        "importances"
      ],
      "execution_count": null,
      "outputs": [
        {
          "output_type": "stream",
          "text": [
            "<class 'pandas.core.frame.DataFrame'>\n",
            "Int64Index: 44550 entries, 0 to 44549\n",
            "Data columns (total 19 columns):\n",
            " #   Column             Non-Null Count  Dtype  \n",
            "---  ------             --------------  -----  \n",
            " 0   amount_tsh         44550 non-null  float64\n",
            " 1   funder             44550 non-null  int64  \n",
            " 2   gps_height         44550 non-null  float64\n",
            " 3   longitude          44550 non-null  float64\n",
            " 4   latitude           44550 non-null  float64\n",
            " 5   basin              44550 non-null  int64  \n",
            " 6   region             44550 non-null  int64  \n",
            " 7   district_code      44550 non-null  int64  \n",
            " 8   lga                44550 non-null  int64  \n",
            " 9   population         44550 non-null  float64\n",
            " 10  scheme_management  44550 non-null  int64  \n",
            " 11  extraction_type    44550 non-null  int64  \n",
            " 12  management         44550 non-null  int64  \n",
            " 13  payment_type       44550 non-null  int64  \n",
            " 14  water_quality      44550 non-null  int64  \n",
            " 15  quantity           44550 non-null  int64  \n",
            " 16  source             44550 non-null  int64  \n",
            " 17  waterpoint_type    44550 non-null  int64  \n",
            " 18  operational_year   44550 non-null  int64  \n",
            "dtypes: float64(5), int64(14)\n",
            "memory usage: 6.8 MB\n"
          ],
          "name": "stdout"
        },
        {
          "output_type": "execute_result",
          "data": {
            "text/plain": [
              "array([0.02738999, 0.03806435, 0.02495322, 0.02997714, 0.02060627,\n",
              "       0.02853698, 0.04592181, 0.02270988, 0.0242661 , 0.03162947,\n",
              "       0.01823655, 0.05770484, 0.04034785, 0.05645433, 0.01881638,\n",
              "       0.2674957 , 0.03243968, 0.15386534, 0.06058408], dtype=float32)"
            ]
          },
          "metadata": {
            "tags": []
          },
          "execution_count": 311
        }
      ]
    },
    {
      "cell_type": "code",
      "metadata": {
        "id": "YS_UXNu1dry8",
        "colab": {
          "base_uri": "https://localhost:8080/"
        },
        "outputId": "1a122045-3bec-4f89-8f1c-46db2f633632"
      },
      "source": [
        "indices = np.argsort(importances)[::-1]\n",
        "\n",
        "# Print the feature ranking\n",
        "print(\"Feature ranking:\")\n",
        "\n",
        "for f in range(X.shape[1]):\n",
        "    print(\"%d. feature %d (%f)\" % (f + 1, indices[f], importances[indices[f]]))\n",
        "\n",
        "for f in range(X.shape[1]):\n",
        "    print(X.columns[indices[f]],end=', ')"
      ],
      "execution_count": null,
      "outputs": [
        {
          "output_type": "stream",
          "text": [
            "Feature ranking:\n",
            "1. feature 15 (0.267496)\n",
            "2. feature 17 (0.153865)\n",
            "3. feature 18 (0.060584)\n",
            "4. feature 11 (0.057705)\n",
            "5. feature 13 (0.056454)\n",
            "6. feature 6 (0.045922)\n",
            "7. feature 12 (0.040348)\n",
            "8. feature 1 (0.038064)\n",
            "9. feature 16 (0.032440)\n",
            "10. feature 9 (0.031629)\n",
            "11. feature 3 (0.029977)\n",
            "12. feature 5 (0.028537)\n",
            "13. feature 0 (0.027390)\n",
            "14. feature 2 (0.024953)\n",
            "15. feature 8 (0.024266)\n",
            "16. feature 7 (0.022710)\n",
            "17. feature 4 (0.020606)\n",
            "18. feature 14 (0.018816)\n",
            "19. feature 10 (0.018237)\n",
            "quantity, waterpoint_type, operational_year, extraction_type, payment_type, region, management, funder, source, population, longitude, basin, amount_tsh, gps_height, lga, district_code, latitude, water_quality, scheme_management, "
          ],
          "name": "stdout"
        }
      ]
    },
    {
      "cell_type": "code",
      "metadata": {
        "id": "VAp5QdOgdydv"
      },
      "source": [
        "y_pred = model_xgc.predict(X_test)"
      ],
      "execution_count": null,
      "outputs": []
    },
    {
      "cell_type": "code",
      "metadata": {
        "id": "Q2Dll1Txd9gq"
      },
      "source": [
        "y_pred=pd.DataFrame(y_pred)\n",
        "y_pred['id']=a\n",
        "y_pred.columns=['status_group','id']\n",
        "y_pred=y_pred[['id','status_group']]"
      ],
      "execution_count": null,
      "outputs": []
    },
    {
      "cell_type": "code",
      "metadata": {
        "id": "1fM_698yeH8L",
        "colab": {
          "base_uri": "https://localhost:8080/"
        },
        "outputId": "a67ebc61-0d80-43e5-d8c4-366228417a02"
      },
      "source": [
        "y_pred.info()"
      ],
      "execution_count": null,
      "outputs": [
        {
          "output_type": "stream",
          "text": [
            "<class 'pandas.core.frame.DataFrame'>\n",
            "RangeIndex: 14850 entries, 0 to 14849\n",
            "Data columns (total 2 columns):\n",
            " #   Column        Non-Null Count  Dtype \n",
            "---  ------        --------------  ----- \n",
            " 0   id            14850 non-null  int64 \n",
            " 1   status_group  14850 non-null  object\n",
            "dtypes: int64(1), object(1)\n",
            "memory usage: 232.2+ KB\n"
          ],
          "name": "stdout"
        }
      ]
    },
    {
      "cell_type": "code",
      "metadata": {
        "id": "SgJ9OeYZeMwD"
      },
      "source": [
        "pd.DataFrame(y_pred).to_csv(\"XGB_predicted_output.csv\")"
      ],
      "execution_count": null,
      "outputs": []
    },
    {
      "cell_type": "markdown",
      "metadata": {
        "id": "En3ZNmt1NTim"
      },
      "source": [
        "**Hypertuning For XGB Classifier**"
      ]
    },
    {
      "cell_type": "code",
      "metadata": {
        "colab": {
          "base_uri": "https://localhost:8080/"
        },
        "id": "aA5gURZoyC70",
        "outputId": "6668d7b0-e316-4521-990d-0132854703da"
      },
      "source": [
        "scoring='accuracy'\n",
        "xgc = XGBClassifier()\n",
        "hyperparameters = {'gamma': [0,1,10], 'max_depth': [6,10]}\n",
        "clf = GridSearchCV(xgc, param_grid=hyperparameters, scoring=scoring)\n",
        "clf.fit(X,y)\n",
        "print('Best Parameters: ')\n",
        "print(clf.best_params_)\n",
        "print('Best ' + scoring + ':' + str(clf.best_score_))"
      ],
      "execution_count": null,
      "outputs": [
        {
          "output_type": "stream",
          "text": [
            "Best Parameters: \n",
            "{'gamma': 0, 'max_depth': 10}\n",
            "Best accuracy:0.8012794612794613\n"
          ],
          "name": "stdout"
        }
      ]
    },
    {
      "cell_type": "markdown",
      "metadata": {
        "id": "b0vLdh0CNeTi"
      },
      "source": [
        "**Downloading the predicted test labels**"
      ]
    },
    {
      "cell_type": "code",
      "metadata": {
        "colab": {
          "base_uri": "https://localhost:8080/"
        },
        "id": "ihHTSh-gz5Sq",
        "outputId": "eb6ad789-67d9-48f9-f53f-b2aa447aa8e7"
      },
      "source": [
        "y_pred_xgc = clf.predict(X_test)\n",
        "y_pred_xgc = pd.DataFrame(y_pred_xgc)\n",
        "y_pred_xgc['id'] = a\n",
        "y_pred_xgc.columns = ['status_group','id']\n",
        "y_pred_xgc = y_pred_xgc[['id','status_group']]\n",
        "y_pred_xgc.info()"
      ],
      "execution_count": null,
      "outputs": [
        {
          "output_type": "stream",
          "text": [
            "<class 'pandas.core.frame.DataFrame'>\n",
            "RangeIndex: 14850 entries, 0 to 14849\n",
            "Data columns (total 2 columns):\n",
            " #   Column        Non-Null Count  Dtype \n",
            "---  ------        --------------  ----- \n",
            " 0   id            14850 non-null  int64 \n",
            " 1   status_group  14850 non-null  object\n",
            "dtypes: int64(1), object(1)\n",
            "memory usage: 232.2+ KB\n"
          ],
          "name": "stdout"
        }
      ]
    },
    {
      "cell_type": "code",
      "metadata": {
        "id": "e_EvleBr0R2D"
      },
      "source": [
        "pd.DataFrame(y_pred_xgc).to_csv(\"XGC_predicted_output2.csv\")"
      ],
      "execution_count": null,
      "outputs": []
    },
    {
      "cell_type": "markdown",
      "metadata": {
        "id": "n_t6VCJcFhSw"
      },
      "source": [
        "### Ridge Classifier"
      ]
    },
    {
      "cell_type": "code",
      "metadata": {
        "id": "wOszUmoy8tUF"
      },
      "source": [
        "from sklearn.linear_model import RidgeClassifier as RC\n",
        "from sklearn.metrics import classification_report, confusion_matrix\n",
        "model_rc = RC()\n",
        "model_rc.fit(X,y)\n",
        "\n",
        "k3 = cross_val_score(model_rc, X, y, cv=5,scoring='accuracy')"
      ],
      "execution_count": null,
      "outputs": []
    },
    {
      "cell_type": "code",
      "metadata": {
        "colab": {
          "base_uri": "https://localhost:8080/"
        },
        "id": "uAGkp5PKG6YK",
        "outputId": "4511363f-3dd7-4f60-dc5b-9bc59a7fa7fd"
      },
      "source": [
        "print(k3)\n",
        "np.mean(k3)"
      ],
      "execution_count": null,
      "outputs": [
        {
          "output_type": "stream",
          "text": [
            "[0.62749719 0.62020202 0.61627385 0.61515152 0.62121212]\n"
          ],
          "name": "stdout"
        },
        {
          "output_type": "execute_result",
          "data": {
            "text/plain": [
              "0.62006734006734"
            ]
          },
          "metadata": {
            "tags": []
          },
          "execution_count": 321
        }
      ]
    },
    {
      "cell_type": "markdown",
      "metadata": {
        "id": "EYLlKcrwOG1A"
      },
      "source": [
        "**Hypertunig for ridge Classifier**"
      ]
    },
    {
      "cell_type": "code",
      "metadata": {
        "colab": {
          "base_uri": "https://localhost:8080/"
        },
        "id": "v7tp-E2jHFXf",
        "outputId": "b2b39168-e3ef-4bca-d183-9ef52582617c"
      },
      "source": [
        "scoring='accuracy'\n",
        "rc = RC()\n",
        "hyperparameters = {'alpha': [0.1,0.2,0.5,0.7,1.0]} # Hyperparameters we want to tune\n",
        "clf = GridSearchCV(rc, param_grid=hyperparameters, scoring=scoring)\n",
        "clf.fit(X,y)\n",
        "print('Best Parameters: ')\n",
        "print(clf.best_params_)\n",
        "print('Best ' + scoring + ':' + str(clf.best_score_))"
      ],
      "execution_count": null,
      "outputs": [
        {
          "output_type": "stream",
          "text": [
            "Best Parameters: \n",
            "{'alpha': 0.1}\n",
            "Best accuracy:0.62006734006734\n"
          ],
          "name": "stdout"
        }
      ]
    },
    {
      "cell_type": "markdown",
      "metadata": {
        "id": "k6X1wMJvOM6l"
      },
      "source": [
        "**Downloading of predicted output labels for testing**"
      ]
    },
    {
      "cell_type": "code",
      "metadata": {
        "colab": {
          "base_uri": "https://localhost:8080/"
        },
        "id": "pLH1d2sW3pTA",
        "outputId": "384ffb75-09d7-46b7-fc04-3faf9592f725"
      },
      "source": [
        "y_pred_rc = clf.predict(X_test)\n",
        "y_pred_rc = pd.DataFrame(y_pred_rc)\n",
        "y_pred_rc['id'] = a\n",
        "y_pred_rc.columns = ['status_group','id']\n",
        "y_pred_rc = y_pred_rc[['id','status_group']]\n",
        "y_pred_rc.info()"
      ],
      "execution_count": null,
      "outputs": [
        {
          "output_type": "stream",
          "text": [
            "<class 'pandas.core.frame.DataFrame'>\n",
            "RangeIndex: 14850 entries, 0 to 14849\n",
            "Data columns (total 2 columns):\n",
            " #   Column        Non-Null Count  Dtype \n",
            "---  ------        --------------  ----- \n",
            " 0   id            14850 non-null  int64 \n",
            " 1   status_group  14850 non-null  object\n",
            "dtypes: int64(1), object(1)\n",
            "memory usage: 232.2+ KB\n"
          ],
          "name": "stdout"
        }
      ]
    },
    {
      "cell_type": "code",
      "metadata": {
        "id": "W0AGO4fa37Fe"
      },
      "source": [
        "pd.DataFrame(y_pred_rc).to_csv(\"RC_predicted_output2.csv\")"
      ],
      "execution_count": null,
      "outputs": []
    },
    {
      "cell_type": "markdown",
      "metadata": {
        "id": "Tn1QII39ObK0"
      },
      "source": [
        "### KNN "
      ]
    },
    {
      "cell_type": "code",
      "metadata": {
        "id": "khdcye19etKw"
      },
      "source": [
        "from sklearn.neighbors import KNeighborsClassifier\n",
        "model_knn = KNeighborsClassifier()\n",
        "model_knn.fit(X,y)\n",
        "k4 = cross_val_score(model_knn, X, y, cv=5,scoring='accuracy')"
      ],
      "execution_count": null,
      "outputs": []
    },
    {
      "cell_type": "code",
      "metadata": {
        "colab": {
          "base_uri": "https://localhost:8080/"
        },
        "id": "d3qZADUyfE0Z",
        "outputId": "6044a82c-e689-4b7f-f556-aae2032b7f21"
      },
      "source": [
        "print(k4)\n",
        "np.mean(k4)"
      ],
      "execution_count": null,
      "outputs": [
        {
          "output_type": "stream",
          "text": [
            "[0.7369248  0.72716049 0.73097643 0.73344557 0.7359147 ]\n"
          ],
          "name": "stdout"
        },
        {
          "output_type": "execute_result",
          "data": {
            "text/plain": [
              "0.7328843995510663"
            ]
          },
          "metadata": {
            "tags": []
          },
          "execution_count": 326
        }
      ]
    },
    {
      "cell_type": "markdown",
      "metadata": {
        "id": "xGFq3ntPOika"
      },
      "source": [
        "**Hypertuning for KNN**"
      ]
    },
    {
      "cell_type": "code",
      "metadata": {
        "colab": {
          "base_uri": "https://localhost:8080/"
        },
        "id": "gLBPejTnf3qT",
        "outputId": "d9c70db6-1501-4806-89cb-2ce6b2ea4d49"
      },
      "source": [
        "scoring='accuracy'\n",
        "knn = KNeighborsClassifier()\n",
        "hyperparameters = {'n_neighbors': [1,3,5,10], 'leaf_size':[30,50]} # Hyper Parameters we want to tune\n",
        "clf = GridSearchCV(knn, param_grid=hyperparameters, scoring=scoring)\n",
        "clf.fit(X,y)\n",
        "print('Best Parameters: ')\n",
        "print(clf.best_params_)\n",
        "print('Best ' + scoring + ':' + str(clf.best_score_))"
      ],
      "execution_count": null,
      "outputs": [
        {
          "output_type": "stream",
          "text": [
            "Best Parameters: \n",
            "{'leaf_size': 30, 'n_neighbors': 3}\n",
            "Best accuracy:0.7376879910213244\n"
          ],
          "name": "stdout"
        }
      ]
    },
    {
      "cell_type": "markdown",
      "metadata": {
        "id": "d0uSKF5mOoAG"
      },
      "source": [
        "**Downloading the predicted labels for test dataset**"
      ]
    },
    {
      "cell_type": "code",
      "metadata": {
        "colab": {
          "base_uri": "https://localhost:8080/"
        },
        "id": "cefNI9m_4a2R",
        "outputId": "198a5288-a8a8-4738-b880-0ccb90648503"
      },
      "source": [
        "y_pred_knn = clf.predict(X_test)\n",
        "y_pred_knn = pd.DataFrame(y_pred_knn)\n",
        "y_pred_knn['id'] = a\n",
        "y_pred_knn.columns = ['status_group','id']\n",
        "y_pred_knn = y_pred_rc[['id','status_group']]\n",
        "y_pred_knn.info()"
      ],
      "execution_count": null,
      "outputs": [
        {
          "output_type": "stream",
          "text": [
            "<class 'pandas.core.frame.DataFrame'>\n",
            "RangeIndex: 14850 entries, 0 to 14849\n",
            "Data columns (total 2 columns):\n",
            " #   Column        Non-Null Count  Dtype \n",
            "---  ------        --------------  ----- \n",
            " 0   id            14850 non-null  int64 \n",
            " 1   status_group  14850 non-null  object\n",
            "dtypes: int64(1), object(1)\n",
            "memory usage: 232.2+ KB\n"
          ],
          "name": "stdout"
        }
      ]
    },
    {
      "cell_type": "code",
      "metadata": {
        "id": "c7fn2DF44q7a"
      },
      "source": [
        "pd.DataFrame(y_pred_knn).to_csv(\"KNN_predicted_output2.csv\")"
      ],
      "execution_count": null,
      "outputs": []
    },
    {
      "cell_type": "markdown",
      "metadata": {
        "id": "jfq7piZ8SK_K"
      },
      "source": [
        "### **Observations**\n",
        "The important observations after fitting the data is\n",
        "* Random forest Classifier gives best accuracy score on validation for tranining data.\n",
        "* After hyperparameter tuning accuracy score increases for all models.\n",
        "* Ridge Classifier gives least accuracy score."
      ]
    },
    {
      "cell_type": "markdown",
      "metadata": {
        "id": "H3B72gIuOv_y"
      },
      "source": [
        "# 6. Visualization of decision boundaries using TSNE"
      ]
    },
    {
      "cell_type": "code",
      "metadata": {
        "colab": {
          "base_uri": "https://localhost:8080/"
        },
        "id": "a5v7Tpspjyer",
        "outputId": "df7da6eb-5d5d-4ca2-8a4b-d58de0d91930"
      },
      "source": [
        "from sklearn.manifold import TSNE\n",
        "X_embedded = TSNE(n_components=2).fit_transform(X)\n",
        "X_embedded.shape"
      ],
      "execution_count": null,
      "outputs": [
        {
          "output_type": "execute_result",
          "data": {
            "text/plain": [
              "(44550, 2)"
            ]
          },
          "metadata": {
            "tags": []
          },
          "execution_count": 183
        }
      ]
    },
    {
      "cell_type": "code",
      "metadata": {
        "colab": {
          "base_uri": "https://localhost:8080/"
        },
        "id": "iK7BJA7IzkQ0",
        "outputId": "ae55f4b7-0f04-4880-907f-5a9601cf6597"
      },
      "source": [
        "X['x'] = X_embedded[:,0]\n",
        "X['y'] = X_embedded[:,1]"
      ],
      "execution_count": null,
      "outputs": [
        {
          "output_type": "stream",
          "text": [
            "/usr/local/lib/python3.7/dist-packages/ipykernel_launcher.py:1: SettingWithCopyWarning: \n",
            "A value is trying to be set on a copy of a slice from a DataFrame.\n",
            "Try using .loc[row_indexer,col_indexer] = value instead\n",
            "\n",
            "See the caveats in the documentation: https://pandas.pydata.org/pandas-docs/stable/user_guide/indexing.html#returning-a-view-versus-a-copy\n",
            "  \"\"\"Entry point for launching an IPython kernel.\n",
            "/usr/local/lib/python3.7/dist-packages/ipykernel_launcher.py:2: SettingWithCopyWarning: \n",
            "A value is trying to be set on a copy of a slice from a DataFrame.\n",
            "Try using .loc[row_indexer,col_indexer] = value instead\n",
            "\n",
            "See the caveats in the documentation: https://pandas.pydata.org/pandas-docs/stable/user_guide/indexing.html#returning-a-view-versus-a-copy\n",
            "  \n"
          ],
          "name": "stderr"
        }
      ]
    },
    {
      "cell_type": "code",
      "metadata": {
        "colab": {
          "base_uri": "https://localhost:8080/",
          "height": 279
        },
        "id": "78LJYTu9KpnQ",
        "outputId": "833f2848-0866-48fe-9919-1261fd1f9085"
      },
      "source": [
        "sns.scatterplot(x=\"x\" , y=\"y\", hue = 'water_quality', data=X)\n",
        "plt.show()"
      ],
      "execution_count": null,
      "outputs": [
        {
          "output_type": "display_data",
          "data": {
            "image/png": "[encoded data removed]",
            "text/plain": [
              "<Figure size 432x288 with 1 Axes>"
            ]
          },
          "metadata": {
            "tags": [],
            "needs_background": "light"
          }
        }
      ]
    },
    {
      "cell_type": "code",
      "metadata": {
        "colab": {
          "base_uri": "https://localhost:8080/",
          "height": 279
        },
        "id": "6zDU35sbLDOV",
        "outputId": "eaa9c2f6-3d06-4afa-9c47-d75227ec196e"
      },
      "source": [
        "sns.scatterplot(x=\"x\" , y=\"y\", hue = 'quantity', data=X)\n",
        "plt.show()"
      ],
      "execution_count": null,
      "outputs": [
        {
          "output_type": "display_data",
          "data": {
            "image/png": "[encoded data removed]",
            "text/plain": [
              "<Figure size 432x288 with 1 Axes>"
            ]
          },
          "metadata": {
            "tags": [],
            "needs_background": "light"
          }
        }
      ]
    },
    {
      "cell_type": "markdown",
      "metadata": {
        "id": "3Ke0v3NC5IDu"
      },
      "source": [
        "# 8. Refrences:\n",
        "1. ML for Smart Monkey Lecture\n",
        "2. https://machinelearningmastery.com/hyperparameters-for-classification-machine-learning-algorithms/\n",
        "3. https://towardsdatascience.com/t-sne-python-example-1ded9953f26\n",
        "4. https://medium.com/analytics-vidhya/predictive-modeling-for-tanzanian-water-pumps-701bcc7760b2\n",
        "5. https://medium.com/rapids-ai/tsne-with-gpus-hours-to-seconds-9d9c17c941db#:~:text=Scikit%2Dlearn's%20TSNE%20"
      ]
    }
  ]
}